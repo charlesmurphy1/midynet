{
 "cells": [
  {
   "cell_type": "code",
   "execution_count": 1,
   "id": "768d6046",
   "metadata": {},
   "outputs": [
    {
     "data": {
      "text/plain": [
       "True"
      ]
     },
     "execution_count": 1,
     "metadata": {},
     "output_type": "execute_result"
    }
   ],
   "source": [
    "import midynet\n",
    "from midynet.utility import display\n",
    "import matplotlib.pyplot as plt\n",
    "from matplotlib.lines import Line2D\n",
    "import pathlib\n",
    "import numpy as np\n",
    "import fractions\n",
    "\n",
    "\n",
    "display.setup_dir(\"./\")\n",
    "\n",
    "paths_to_figures = [\".\", \"../../../../papers/p-midynet/paper1-mutual_info/figures\"]\n",
    "paths_to_figures = list(map(pathlib.Path, paths_to_figures))\n",
    "\n",
    "path_to_data = pathlib.Path(f\"/home/charles_murphy/Documents/ulaval/doctorat/projects/data/midynet-data/duality/figure7/\")\n",
    "\n",
    "path_to_data.exists()"
   ]
  },
  {
   "cell_type": "markdown",
   "id": "fbc240c6",
   "metadata": {},
   "source": [
    "## Loading data from experiment"
   ]
  },
  {
   "cell_type": "code",
   "execution_count": 4,
   "id": "234b12cc",
   "metadata": {},
   "outputs": [],
   "source": [
    "\n",
    "\n",
    "exp = {}\n",
    "bit_ratio = np.log(2)\n",
    "hg, hx, mi = {}, {}, {}\n",
    "hg_past, hx_past, mi_past = {}, {}, {}\n",
    "\n",
    "all_dynamics = [\"glauber\", \"sis\", \"cowan\"]\n",
    "for dynamics in all_dynamics:\n",
    "    name = f\"exact-{dynamics}\"\n",
    "    if (path_to_data / name / \"config.pickle\").exists():\n",
    "        exp[dynamics] = midynet.Experiment.load_from_file(path_to_data / name / \"config.pickle\")\n",
    "        data = exp[dynamics].metrics[\"recon_information\"].data[exp[dynamics].name]\n",
    "        hg[dynamics] = midynet.Statistics(data, name=\"prior\")\n",
    "        hx[dynamics] = midynet.Statistics(data, name=\"evidence\")\n",
    "        mi[dynamics] = midynet.Statistics(data, name=\"mutualinfo\")\n",
    "        \n",
    "        hg_past[dynamics] = midynet.Statistics(data, name=\"posterior_past\")\n",
    "        hx_past[dynamics] = midynet.Statistics(data, name=\"evidence_past\")\n",
    "        mi_past[dynamics] = midynet.Statistics(data, name=\"mutualinfo_past\")\n",
    "        \n",
    "\n",
    "xlabel = r\"Number of time steps\"\n",
    "titles = {\"glauber\": r\"Glauber\", \"sis\": r\"SIS\", \"cowan\": r\"Cowan\"}\n",
    "coupling_labels = {\"glauber\": r\"J\", \"sis\": r\"\\lambda\", \"cowan\": r\"\\nu\"}\n",
    "coupling_names = {\"glauber\": \"coupling\", \"sis\": r\"infection_prob\", \"cowan\": r\"nu\"}"
   ]
  },
  {
   "cell_type": "markdown",
   "id": "474dae84",
   "metadata": {},
   "source": [
    "## Figure 7"
   ]
  },
  {
   "cell_type": "code",
   "execution_count": 14,
   "id": "d9d66ecc",
   "metadata": {},
   "outputs": [
    {
     "data": {
      "text/plain": [
       "DataModelConfig(name=`glauber`): \n",
       "|\tlength = [10, 11, 12, 13, 14, 15, 16, 17, 18, 20, 21, 23, 24, 26, 28, 30, 32, 35, 37, 40, 43, 46, 49, 53, 57, 61, 65, 70, 75, 81, 86, 93, 100, 107, 114, 123, 132, 141, 151, 162, 174, 187, 200, 215, 231, 247, 265, 284, 305, 327, 351, 376, 403, 432, 464, 497, 533, 572, 613, 657, 705, 756, 811, 869, 932, 1000, 1072, 1149, 1232, 1321, 1417, 1519, 1629, 1747, 1873, 2009, 2154, 2310, 2477, 2656, 2848, 3053, 3274, 3511, 3764, 4037, 4328, 4641, 4977, 5336, 5722, 6135, 6579, 7054, 7564, 8111, 8697, 9326, 10000]\n",
       "|\tcoupling = [0.25, 0.5, 1]\n",
       "|\tpast_length = [-5, 0, 0.5]\n",
       "|\tinitial_burn = 0\n",
       "|\tauto_activation_prob = 0\n",
       "|\tauto_deactivation_prob = 0\n",
       "|\tnum_active = -1\n",
       "end"
      ]
     },
     "execution_count": 14,
     "metadata": {},
     "output_type": "execute_result"
    }
   ],
   "source": [
    "exp[\"glauber\"].config.data_model"
   ]
  },
  {
   "cell_type": "code",
   "execution_count": 1,
   "id": "6f55ce67",
   "metadata": {},
   "outputs": [
    {
     "ename": "NameError",
     "evalue": "name 'plt' is not defined",
     "output_type": "error",
     "traceback": [
      "\u001b[0;31m---------------------------------------------------------------------------\u001b[0m",
      "\u001b[0;31mNameError\u001b[0m                                 Traceback (most recent call last)",
      "Cell \u001b[0;32mIn [1], line 1\u001b[0m\n\u001b[0;32m----> 1\u001b[0m fig, ax \u001b[38;5;241m=\u001b[39m \u001b[43mplt\u001b[49m\u001b[38;5;241m.\u001b[39msubplots(\u001b[38;5;241m3\u001b[39m, \u001b[38;5;241m3\u001b[39m, figsize\u001b[38;5;241m=\u001b[39m(\u001b[38;5;241m7\u001b[39m, \u001b[38;5;241m7\u001b[39m), sharex\u001b[38;5;241m=\u001b[39m\u001b[38;5;28;01mTrue\u001b[39;00m, sharey\u001b[38;5;241m=\u001b[39m\u001b[38;5;28;01mFalse\u001b[39;00m)\n\u001b[1;32m      3\u001b[0m ax \u001b[38;5;241m=\u001b[39m {dynamics: ax[:, i] \u001b[38;5;28;01mfor\u001b[39;00m i, dynamics \u001b[38;5;129;01min\u001b[39;00m \u001b[38;5;28menumerate\u001b[39m(all_dynamics)}\n\u001b[1;32m      4\u001b[0m axx \u001b[38;5;241m=\u001b[39m {dynamics: [_ax\u001b[38;5;241m.\u001b[39mtwinx() \u001b[38;5;28;01mfor\u001b[39;00m _ax \u001b[38;5;129;01min\u001b[39;00m ax[dynamics]] \u001b[38;5;28;01mfor\u001b[39;00m i, dynamics \u001b[38;5;129;01min\u001b[39;00m \u001b[38;5;28menumerate\u001b[39m(all_dynamics)}\n",
      "\u001b[0;31mNameError\u001b[0m: name 'plt' is not defined"
     ]
    }
   ],
   "source": [
    "fig, ax = plt.subplots(3, 3, figsize=(7, 7), sharex=True, sharey=False)\n",
    "\n",
    "ax = {dynamics: ax[:, i] for i, dynamics in enumerate(all_dynamics)}\n",
    "axx = {dynamics: [_ax.twinx() for _ax in ax[dynamics]] for i, dynamics in enumerate(all_dynamics)}\n",
    "# for dynamics in all_dynamics:\n",
    "#     for i, _ax in enumerate(ax[dynamics]):\n",
    "#         _ax.get_shared_y_axes().join(_ax, axx[dynamics][i])\n",
    "    \n",
    "\n",
    "\n",
    "recon_color = display.med_colors[\"blue\"]\n",
    "pred_color = display.dark_colors[\"orange\"]\n",
    "\n",
    "\n",
    "spacing = 7\n",
    "min_index = 5\n",
    "# recon_yticks = [0, 0.2, 0.4, 0.6, 0.8, 1.0]\n",
    "# pred_yticks = [0, 0.05, 0.1, 0.15, 0.2]\n",
    "recon_max = [1, 0.8, 0.15]\n",
    "pred_max = [0.16, 0.15, 0.15]\n",
    "coupling_choice = dict(glauber=0, sis=0, cowan=2)\n",
    "\n",
    "markers = [\"o\", \"s\", \"^\", \"*\"]\n",
    "for dynamics_id, dynamics in enumerate(all_dynamics):\n",
    "    if dynamics not in exp:\n",
    "        continue\n",
    "    x = np.array(exp[dynamics].config.data_model.length)\n",
    "    x = x[x<=100]\n",
    "    m_indices = list(range(min_index)) + list(range(min_index, len(x), spacing))\n",
    "    coupling = exp[dynamics].config.data_model.get_value(coupling_names[dynamics])\n",
    "    if dynamics == \"sis\":\n",
    "        coupling = [c / exp[dynamics].config.data_model.recovery_prob for c in coupling]\n",
    "    alpha = np.linspace(0, 1, len(coupling) + 2)[2:] ** 1.5\n",
    "    recon = (mi[dynamics] - mi_past[dynamics]) / (hg_past[dynamics])\n",
    "    pred = (mi[dynamics] - mi_past[dynamics]) / (hx[dynamics] - hx_past[dynamics])\n",
    "    tau = [0, 0.5, -5]\n",
    "    tau_index = [1, 2, 0]\n",
    "    for c_index, (c, a) in reversed(list(enumerate(zip(coupling, alpha)))):\n",
    "        if c_index != coupling_choice[dynamics]:\n",
    "            continue\n",
    "        for i, (t_index, t) in enumerate(zip(tau_index, tau)):\n",
    "            y = recon if len(coupling) == 1 else recon[:len(x), c_index, t_index]\n",
    "            display.plot_statistics(\n",
    "                x, y,\n",
    "                ax=ax[dynamics][i], \n",
    "                color=recon_color,\n",
    "                alpha=0.75,\n",
    "                linestyle=\"-\",\n",
    "                marker=markers[c_index],\n",
    "                linewidth=2,\n",
    "                markersize=2,\n",
    "                markeredgecolor=display.dark_colors[\"grey\"],\n",
    "                bar=False,\n",
    "            )\n",
    "\n",
    "\n",
    "            y = pred if len(coupling) == 1 else pred[:, c_index, t_index]\n",
    "            display.plot_statistics(\n",
    "                x, y,\n",
    "                ax=axx[dynamics][i], \n",
    "                color=pred_color,\n",
    "                alpha=0.75,\n",
    "                linestyle=\"dotted\",\n",
    "                linewidth=2,\n",
    "                marker=markers[c_index],\n",
    "                markeredgecolor=display.dark_colors[\"grey\"],\n",
    "                markersize=2,\n",
    "                bar=False,\n",
    "            )\n",
    "            ax[dynamics][i].set_xlim([min(x), max(x)])\n",
    "            ax[dynamics][i].set_ylim([0, recon_max[i]])\n",
    "            axx[dynamics][i].set_ylim([0, pred_max[i]])\n",
    "            \n",
    "#             ax[dynamics][i].set_xscale(\"log\")\n",
    "#             axx[dynamics][i].set_xscale(\"log\")\n",
    "#             ax[dynamics][i].set_xticks([10, 100])\n",
    "#             ax[dynamics][i].set_xticklabels([10, 100])\n",
    "\n",
    "            if dynamics_id == 0:\n",
    "                ax[dynamics][i].set_ylabel(r\"Reconstructability\", fontsize=display.fontsizes[\"large\"])\n",
    "            else:\n",
    "                ax[dynamics][i].set_yticklabels([])\n",
    "            ax[dynamics][i].tick_params(axis='both', labelsize=display.fontsizes[\"medium\"])\n",
    "\n",
    "            if dynamics_id == len(all_dynamics)-1:\n",
    "                axx[dynamics][i].set_ylabel(r\"Predictability\", fontsize=display.fontsizes[\"large\"], rotation=-90, rotation_mode=\"anchor\", va=\"bottom\")\n",
    "            else:\n",
    "                axx[dynamics][i].set_yticklabels([])\n",
    "            axx[dynamics][i].tick_params(axis='both', labelsize=display.fontsizes[\"medium\"])\n",
    "            tau_label = t\n",
    "            if isinstance(t, int) or isinstance(t, float) and t.is_integer():\n",
    "                \n",
    "                if t > 0:\n",
    "                    tau_label = f\"{int(t)}\"\n",
    "                elif t == 0:\n",
    "                    tau_label = f\"1\"\n",
    "                else:\n",
    "                    tau_label = f\"T - {abs(int(t))}\"\n",
    "            elif isinstance(t, float) and t>0 and t<1:\n",
    "                frac = fractions.Fraction(t)\n",
    "                tau_label = f\"T / {frac.denominator}\"\n",
    "                if frac.numerator != 1:\n",
    "                    tau_label = f\"{frac.numerator}\" + tau_label\n",
    "            else:\n",
    "                raise ValueError()\n",
    "            \n",
    "            ax[dynamics][i].text(\n",
    "                0.7, 0.55,\n",
    "                rf\"\\noindent${coupling_labels[dynamics]} = {c}$\\\\$\\tau = {tau_label}$\",\n",
    "                color=\"k\",\n",
    "                transform=ax[dynamics][i].transAxes,\n",
    "                fontsize=display.fontsizes[\"small\"],\n",
    "                bbox=dict(boxstyle=\"round\", color=\"white\", alpha=0.75)\n",
    "            )\n",
    "            ax[dynamics][i].tick_params(axis='y', colors=recon_color, length=6, width=2)\n",
    "            axx[dynamics][i].spines['left'].set_color(recon_color)\n",
    "            axx[dynamics][i].spines['left'].set_linewidth(2)\n",
    "            axx[dynamics][i].spines['right'].set_color(pred_color)\n",
    "            axx[dynamics][i].spines['right'].set_linewidth(2)\n",
    "            axx[dynamics][i].tick_params(axis='y', colors=pred_color, length=6, width=2)\n",
    "            display.Label.plot(ax[dynamics][i], loc=\"top left\", fontsize=display.fontsizes[\"medium\"], box=True)\n",
    "    ax[dynamics][0].set_title(titles[dynamics], fontsize=display.fontsizes[\"large\"])\n",
    "display.Label.clear()\n",
    "\n",
    "handles = [Line2D([0], [0], marker=\"None\", linestyle=\"-\", color=recon_color, label=r\"Reconstructability\", alpha=1, lw=2, ms=2)]\n",
    "handles += [Line2D([0], [0], marker=\"None\", linestyle=\"dotted\", color=pred_color, label=r\"Predictability\", alpha=1, lw=2, ms=2)]\n",
    "lg = fig.legend(handles=handles, loc=\"center\", fontsize=display.fontsizes[\"large\"], ncol=2, bbox_to_anchor=(0.5, 1.02))\n",
    "\n",
    "plt.tight_layout()\n",
    "\n",
    "for p in paths_to_figures:\n",
    "    fig.savefig(p / \"svg/p1-figure7.svg\", bbox_extra_artists=(lg,), bbox_inches='tight')\n",
    "    fig.savefig(p / \"pdf/p1-figure7.pdf\", bbox_extra_artists=(lg,), bbox_inches='tight')\n",
    "    fig.savefig(p / \"png/p1-figure7.png\", bbox_extra_artists=(lg,), bbox_inches='tight')"
   ]
  },
  {
   "cell_type": "code",
   "execution_count": null,
   "id": "af305646",
   "metadata": {},
   "outputs": [],
   "source": []
  }
 ],
 "metadata": {
  "kernelspec": {
   "display_name": "midynet_env",
   "language": "python",
   "name": "midynet_env"
  },
  "language_info": {
   "codemirror_mode": {
    "name": "ipython",
    "version": 3
   },
   "file_extension": ".py",
   "mimetype": "text/x-python",
   "name": "python",
   "nbconvert_exporter": "python",
   "pygments_lexer": "ipython3",
   "version": "3.10.6"
  }
 },
 "nbformat": 4,
 "nbformat_minor": 5
}
