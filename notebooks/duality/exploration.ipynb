{
 "cells": [
  {
   "cell_type": "code",
   "execution_count": 38,
   "id": "6c315b5a",
   "metadata": {},
   "outputs": [],
   "source": [
    "import midynet, graphinf\n",
    "import matplotlib.pyplot as plt\n",
    "import numpy as np\n",
    "import time\n",
    "import tqdm\n",
    "import seaborn as sns\n",
    "import pandas as pd\n",
    "import pathlib\n",
    "from itertools import product\n",
    "\n",
    "from midynet.utility import display\n",
    "\n",
    "from collections import defaultdict\n",
    "\n",
    "%matplotlib inline\n",
    "%config InlineBackend.figure_format='retina'"
   ]
  },
  {
   "cell_type": "code",
   "execution_count": 2,
   "id": "03ceb812",
   "metadata": {},
   "outputs": [],
   "source": [
    "from sklearn.neural_network import MLPClassifier\n",
    "from sklearn.neural_network._base import log_loss\n",
    "from sklearn.linear_model import LogisticRegression\n",
    "from sklearn.neural_network import MLPClassifier\n",
    "from sklearn.metrics import roc_auc_score\n",
    "from scipy.special import xlogy\n",
    "from netrd.reconstruction import NaiveTransferEntropy, GrangerCausality\n",
    "\n",
    "def training_data(X, n_train_samples=10, resample_graph=True):\n",
    "    x, y = [], []\n",
    "    for _ in range(n_train_samples):\n",
    "        if resample_graph:\n",
    "            X.sample_prior()\n",
    "        X.sample_state()\n",
    "        x.append(X.get_past_states())\n",
    "        y.append(X.get_future_states())\n",
    "    x, y = np.array(x), np.array(y)\n",
    "    x = np.transpose(x, (1, 2, 0)).reshape(X.get_size(), -1).T\n",
    "    y = np.transpose(y, (1, 2, 0)).reshape(X.get_size(), -1).T\n",
    "    return x, y\n",
    "\n",
    "class MultiLogisticRegression():\n",
    "    def __init__(self, **params):\n",
    "        self.params = params\n",
    "    \n",
    "    def fit(self, X, y):\n",
    "        n = y.shape[1]\n",
    "        self._models = [LogisticRegression(**self.params).fit(X, y[:, i]) for i in range(n)]\n",
    "        return self\n",
    "    \n",
    "    def predict(self, X):\n",
    "        return np.array([m.predict_proba(X)[:,1] for m in self._models]).T\n",
    "        \n",
    "def avg_probs(X, n_samples=100):\n",
    "    og = X.get_graph()\n",
    "    probs = np.array(X.get_transition_matrix()).T / n_samples\n",
    "    for _ in range(n_samples):\n",
    "        X.sample_prior()\n",
    "        probs += np.array(X.get_transition_matrix()).T / n_samples\n",
    "    X.set_graph(og)\n",
    "    return probs"
   ]
  },
  {
   "cell_type": "code",
   "execution_count": 13,
   "id": "28966c8c",
   "metadata": {
    "scrolled": true
   },
   "outputs": [
    {
     "name": "stderr",
     "output_type": "stream",
     "text": [
      "100%|█████████████████████████████████████████████████████████████████████████████████████████████████████████████████████████████████████████████████████████████████████████████████████████████████████████| 20/20 [05:31<00:00, 16.55s/it]\n"
     ]
    }
   ],
   "source": [
    "J = np.linspace(0, 2, 20)\n",
    "# T = [5, 10, 20, 25, 50, 100, 150, 200, 300, 400, 500]\n",
    "n_samples = 500\n",
    "# data = defaultdict(list)\n",
    "\n",
    "G = graphinf.graph.ErdosRenyiModel(5, 5, loopy=False, multigraph=False)\n",
    "\n",
    "for j in tqdm.tqdm(J):\n",
    "    X = graphinf.data.dynamics.GlauberDynamics(G, length=100, coupling=j)\n",
    "    x_train, y_train = training_data(X, n_train_samples=100)\n",
    "    logistic = MultiLogisticRegression().fit(x_train, y_train)\n",
    "    mlp = MLPClassifier().fit(x_train, y_train)\n",
    "    for _ in range(n_samples):\n",
    "        X.sample()\n",
    "        data[\"j\"].append(j)\n",
    "        data[\"likelihood\"].append(-X.log_likelihood())\n",
    "        data[\"evidence\"].append(-X.log_evidence(method=\"exact\"))\n",
    "        data[\"mi\"].append(X.log_likelihood() + data[\"evidence\"][-1])\n",
    "        \n",
    "        x_test, y_test = np.array(X.get_past_states()).T, np.array(X.get_future_states()).T\n",
    "        true = np.array(X.get_transition_matrix()).T\n",
    "        pred = logistic.predict(x_test)\n",
    "        data[\"pred-loss-logistic\"].append(np.abs(y_test - pred).sum())\n",
    "        \n",
    "        pred[y_test == 0] = 1 - pred[y_test == 0]\n",
    "#         data[\"pred-loss\"].append(xlogy(y_test, pred).sum())\n",
    "        data[\"pred-error-logistic\"].append(np.abs(true - pred).sum())\n",
    "    \n",
    "        pred = mlp.predict_proba(x_test)\n",
    "        data[\"pred-loss-mlp\"].append(np.abs(y_test - pred).sum())\n",
    "        pred[y_test == 0] = 1 - pred[y_test == 0]\n",
    "#         data[\"pred-loss\"].append(xlogy(y_test, pred).sum())\n",
    "        data[\"pred-error-mlp\"].append(np.abs(true - pred).sum())\n",
    "        \n",
    "        reconstructor = NaiveTransferEntropy()\n",
    "        reconstructor.fit(x_test.T)\n",
    "        data[\"recon-auc-te\"].append(\n",
    "            roc_auc_score(\n",
    "                np.array(X.get_graph().get_adjacency_matrix(True)).flatten(),\n",
    "                reconstructor.results[\"weights_matrix\"].flatten()\n",
    "            )\n",
    "        )\n",
    "        \n",
    "        reconstructor = GrangerCausality()\n",
    "        reconstructor.fit(x_test.T)\n",
    "        data[\"recon-auc-gc\"].append(\n",
    "            roc_auc_score(\n",
    "                np.array(X.get_graph().get_adjacency_matrix(True)).flatten(),\n",
    "                reconstructor.results[\"weights_matrix\"].flatten()\n",
    "            )\n",
    "        )\n",
    "\n"
   ]
  },
  {
   "cell_type": "code",
   "execution_count": 22,
   "id": "c7d7013a",
   "metadata": {},
   "outputs": [
    {
     "data": {
      "text/html": [
       "<div>\n",
       "<style scoped>\n",
       "    .dataframe tbody tr th:only-of-type {\n",
       "        vertical-align: middle;\n",
       "    }\n",
       "\n",
       "    .dataframe tbody tr th {\n",
       "        vertical-align: top;\n",
       "    }\n",
       "\n",
       "    .dataframe thead th {\n",
       "        text-align: right;\n",
       "    }\n",
       "</style>\n",
       "<table border=\"1\" class=\"dataframe\">\n",
       "  <thead>\n",
       "    <tr style=\"text-align: right;\">\n",
       "      <th></th>\n",
       "      <th>j</th>\n",
       "      <th>likelihood</th>\n",
       "      <th>evidence</th>\n",
       "      <th>mi</th>\n",
       "      <th>pred-loss-logistic</th>\n",
       "      <th>pred-error-logistic</th>\n",
       "      <th>pred-loss-mlp</th>\n",
       "      <th>pred-error-mlp</th>\n",
       "      <th>recon-auc-te</th>\n",
       "      <th>recon-auc-gc</th>\n",
       "      <th>pred</th>\n",
       "      <th>recon</th>\n",
       "      <th>norm-error-logistic</th>\n",
       "      <th>norm-error-mlp</th>\n",
       "    </tr>\n",
       "  </thead>\n",
       "  <tbody>\n",
       "    <tr>\n",
       "      <th>0</th>\n",
       "      <td>0.0</td>\n",
       "      <td>346.573590</td>\n",
       "      <td>346.573590</td>\n",
       "      <td>0.000000</td>\n",
       "      <td>249.660274</td>\n",
       "      <td>5.066763</td>\n",
       "      <td>249.420509</td>\n",
       "      <td>10.002123</td>\n",
       "      <td>0.720000</td>\n",
       "      <td>0.786667</td>\n",
       "      <td>0.000000</td>\n",
       "      <td>0.000000</td>\n",
       "      <td>0.020295</td>\n",
       "      <td>0.040101</td>\n",
       "    </tr>\n",
       "    <tr>\n",
       "      <th>1</th>\n",
       "      <td>0.0</td>\n",
       "      <td>346.573590</td>\n",
       "      <td>346.573590</td>\n",
       "      <td>0.000000</td>\n",
       "      <td>250.143015</td>\n",
       "      <td>5.420347</td>\n",
       "      <td>250.179630</td>\n",
       "      <td>10.330979</td>\n",
       "      <td>0.553333</td>\n",
       "      <td>0.580000</td>\n",
       "      <td>0.000000</td>\n",
       "      <td>0.000000</td>\n",
       "      <td>0.021669</td>\n",
       "      <td>0.041294</td>\n",
       "    </tr>\n",
       "    <tr>\n",
       "      <th>2</th>\n",
       "      <td>0.0</td>\n",
       "      <td>346.573590</td>\n",
       "      <td>346.573590</td>\n",
       "      <td>0.000000</td>\n",
       "      <td>250.218718</td>\n",
       "      <td>5.549379</td>\n",
       "      <td>250.141972</td>\n",
       "      <td>10.818628</td>\n",
       "      <td>0.620000</td>\n",
       "      <td>0.740000</td>\n",
       "      <td>0.000000</td>\n",
       "      <td>0.000000</td>\n",
       "      <td>0.022178</td>\n",
       "      <td>0.043250</td>\n",
       "    </tr>\n",
       "    <tr>\n",
       "      <th>3</th>\n",
       "      <td>0.0</td>\n",
       "      <td>346.573590</td>\n",
       "      <td>346.573590</td>\n",
       "      <td>0.000000</td>\n",
       "      <td>249.875727</td>\n",
       "      <td>5.341392</td>\n",
       "      <td>249.967350</td>\n",
       "      <td>10.470855</td>\n",
       "      <td>0.780000</td>\n",
       "      <td>0.693333</td>\n",
       "      <td>0.000000</td>\n",
       "      <td>0.000000</td>\n",
       "      <td>0.021376</td>\n",
       "      <td>0.041889</td>\n",
       "    </tr>\n",
       "    <tr>\n",
       "      <th>4</th>\n",
       "      <td>0.0</td>\n",
       "      <td>346.573590</td>\n",
       "      <td>346.573590</td>\n",
       "      <td>0.000000</td>\n",
       "      <td>249.941524</td>\n",
       "      <td>5.501310</td>\n",
       "      <td>249.755075</td>\n",
       "      <td>10.160738</td>\n",
       "      <td>0.560000</td>\n",
       "      <td>0.433333</td>\n",
       "      <td>0.000000</td>\n",
       "      <td>0.000000</td>\n",
       "      <td>0.022010</td>\n",
       "      <td>0.040683</td>\n",
       "    </tr>\n",
       "    <tr>\n",
       "      <th>...</th>\n",
       "      <td>...</td>\n",
       "      <td>...</td>\n",
       "      <td>...</td>\n",
       "      <td>...</td>\n",
       "      <td>...</td>\n",
       "      <td>...</td>\n",
       "      <td>...</td>\n",
       "      <td>...</td>\n",
       "      <td>...</td>\n",
       "      <td>...</td>\n",
       "      <td>...</td>\n",
       "      <td>...</td>\n",
       "      <td>...</td>\n",
       "      <td>...</td>\n",
       "    </tr>\n",
       "    <tr>\n",
       "      <th>19995</th>\n",
       "      <td>2.0</td>\n",
       "      <td>14.681616</td>\n",
       "      <td>19.517896</td>\n",
       "      <td>4.836280</td>\n",
       "      <td>98.636983</td>\n",
       "      <td>94.792727</td>\n",
       "      <td>55.379258</td>\n",
       "      <td>51.413516</td>\n",
       "      <td>0.470000</td>\n",
       "      <td>0.546667</td>\n",
       "      <td>0.247787</td>\n",
       "      <td>0.874644</td>\n",
       "      <td>0.961026</td>\n",
       "      <td>0.928389</td>\n",
       "    </tr>\n",
       "    <tr>\n",
       "      <th>19996</th>\n",
       "      <td>2.0</td>\n",
       "      <td>16.484573</td>\n",
       "      <td>20.268991</td>\n",
       "      <td>3.784418</td>\n",
       "      <td>13.989181</td>\n",
       "      <td>10.568205</td>\n",
       "      <td>14.678866</td>\n",
       "      <td>11.345290</td>\n",
       "      <td>0.673333</td>\n",
       "      <td>0.563333</td>\n",
       "      <td>0.186710</td>\n",
       "      <td>0.684414</td>\n",
       "      <td>0.755456</td>\n",
       "      <td>0.772900</td>\n",
       "    </tr>\n",
       "    <tr>\n",
       "      <th>19997</th>\n",
       "      <td>2.0</td>\n",
       "      <td>29.164512</td>\n",
       "      <td>34.671382</td>\n",
       "      <td>5.506870</td>\n",
       "      <td>33.029907</td>\n",
       "      <td>24.713868</td>\n",
       "      <td>34.873260</td>\n",
       "      <td>28.058059</td>\n",
       "      <td>0.810000</td>\n",
       "      <td>0.753333</td>\n",
       "      <td>0.158830</td>\n",
       "      <td>0.995920</td>\n",
       "      <td>0.748227</td>\n",
       "      <td>0.804572</td>\n",
       "    </tr>\n",
       "    <tr>\n",
       "      <th>19998</th>\n",
       "      <td>2.0</td>\n",
       "      <td>26.838487</td>\n",
       "      <td>31.665210</td>\n",
       "      <td>4.826723</td>\n",
       "      <td>20.528547</td>\n",
       "      <td>14.243765</td>\n",
       "      <td>22.208114</td>\n",
       "      <td>17.009608</td>\n",
       "      <td>0.600000</td>\n",
       "      <td>0.466667</td>\n",
       "      <td>0.152430</td>\n",
       "      <td>0.872915</td>\n",
       "      <td>0.693852</td>\n",
       "      <td>0.765919</td>\n",
       "    </tr>\n",
       "    <tr>\n",
       "      <th>19999</th>\n",
       "      <td>2.0</td>\n",
       "      <td>19.549442</td>\n",
       "      <td>24.848206</td>\n",
       "      <td>5.298764</td>\n",
       "      <td>19.269166</td>\n",
       "      <td>13.786538</td>\n",
       "      <td>18.877188</td>\n",
       "      <td>13.544800</td>\n",
       "      <td>0.510000</td>\n",
       "      <td>0.496667</td>\n",
       "      <td>0.213245</td>\n",
       "      <td>0.958284</td>\n",
       "      <td>0.715471</td>\n",
       "      <td>0.717522</td>\n",
       "    </tr>\n",
       "  </tbody>\n",
       "</table>\n",
       "<p>20000 rows × 14 columns</p>\n",
       "</div>"
      ],
      "text/plain": [
       "         j  likelihood    evidence        mi  pred-loss-logistic  \\\n",
       "0      0.0  346.573590  346.573590  0.000000          249.660274   \n",
       "1      0.0  346.573590  346.573590  0.000000          250.143015   \n",
       "2      0.0  346.573590  346.573590  0.000000          250.218718   \n",
       "3      0.0  346.573590  346.573590  0.000000          249.875727   \n",
       "4      0.0  346.573590  346.573590  0.000000          249.941524   \n",
       "...    ...         ...         ...       ...                 ...   \n",
       "19995  2.0   14.681616   19.517896  4.836280           98.636983   \n",
       "19996  2.0   16.484573   20.268991  3.784418           13.989181   \n",
       "19997  2.0   29.164512   34.671382  5.506870           33.029907   \n",
       "19998  2.0   26.838487   31.665210  4.826723           20.528547   \n",
       "19999  2.0   19.549442   24.848206  5.298764           19.269166   \n",
       "\n",
       "       pred-error-logistic  pred-loss-mlp  pred-error-mlp  recon-auc-te  \\\n",
       "0                 5.066763     249.420509       10.002123      0.720000   \n",
       "1                 5.420347     250.179630       10.330979      0.553333   \n",
       "2                 5.549379     250.141972       10.818628      0.620000   \n",
       "3                 5.341392     249.967350       10.470855      0.780000   \n",
       "4                 5.501310     249.755075       10.160738      0.560000   \n",
       "...                    ...            ...             ...           ...   \n",
       "19995            94.792727      55.379258       51.413516      0.470000   \n",
       "19996            10.568205      14.678866       11.345290      0.673333   \n",
       "19997            24.713868      34.873260       28.058059      0.810000   \n",
       "19998            14.243765      22.208114       17.009608      0.600000   \n",
       "19999            13.786538      18.877188       13.544800      0.510000   \n",
       "\n",
       "       recon-auc-gc      pred     recon  norm-error-logistic  norm-error-mlp  \n",
       "0          0.786667  0.000000  0.000000             0.020295        0.040101  \n",
       "1          0.580000  0.000000  0.000000             0.021669        0.041294  \n",
       "2          0.740000  0.000000  0.000000             0.022178        0.043250  \n",
       "3          0.693333  0.000000  0.000000             0.021376        0.041889  \n",
       "4          0.433333  0.000000  0.000000             0.022010        0.040683  \n",
       "...             ...       ...       ...                  ...             ...  \n",
       "19995      0.546667  0.247787  0.874644             0.961026        0.928389  \n",
       "19996      0.563333  0.186710  0.684414             0.755456        0.772900  \n",
       "19997      0.753333  0.158830  0.995920             0.748227        0.804572  \n",
       "19998      0.466667  0.152430  0.872915             0.693852        0.765919  \n",
       "19999      0.496667  0.213245  0.958284             0.715471        0.717522  \n",
       "\n",
       "[20000 rows x 14 columns]"
      ]
     },
     "execution_count": 22,
     "metadata": {},
     "output_type": "execute_result"
    }
   ],
   "source": [
    "df"
   ]
  },
  {
   "cell_type": "code",
   "execution_count": 63,
   "id": "4a5dbd6d",
   "metadata": {},
   "outputs": [
    {
     "data": {
      "image/png": "[encoded data removed]",
      "text/plain": [
       "<Figure size 350x500 with 4 Axes>"
      ]
     },
     "metadata": {
      "image/png": {
       "height": 490,
       "width": 340
      }
     },
     "output_type": "display_data"
    }
   ],
   "source": [
    "df = pd.DataFrame(data)\n",
    "\n",
    "df[\"pred\"] = df[\"mi\"] / df[\"evidence\"]\n",
    "df[\"recon\"] = df[\"mi\"] / -G.log_joint()\n",
    "df[\"norm-error-logistic\"] = df[\"pred-error-logistic\"] / df[\"pred-loss-logistic\"]\n",
    "df[\"norm-error-mlp\"] = df[\"pred-error-mlp\"] / df[\"pred-loss-mlp\"]\n",
    "\n",
    "fig, ax = plt.subplots(2, 1, figsize=(3.5, 5), sharex=True)\n",
    "\n",
    "sns.lineplot(\n",
    "    df, x=\"j\", y=\"recon\", \n",
    "    ax=ax[0], \n",
    "    color=display.med_colors[\"blue\"], \n",
    "    linewidth=2, \n",
    "    marker=\"o\", \n",
    "    linestyle=\"-\"\n",
    ")\n",
    "axx0 = ax[0].twinx()\n",
    "\n",
    "sns.lineplot(\n",
    "    df, x=\"j\", y=\"pred\", \n",
    "    ax=axx0, \n",
    "    color=display.med_colors[\"orange\"], \n",
    "    linewidth=2, \n",
    "    marker=\"o\", \n",
    "    linestyle=\"dotted\"\n",
    ")\n",
    "ax[0].set_ylabel(\"Reconstructability\", fontsize=display.fontsizes[\"label\"])\n",
    "axx0.set_ylabel(r\"Predictability\", fontsize=display.fontsizes[\"label\"], rotation=-90, ha=\"center\", va=\"bottom\")\n",
    "ax[0].set_xlabel(r\"Coupling $J$\", fontsize=display.fontsizes[\"label\"])\n",
    "ax[0].tick_params(axis=\"both\", labelsize=display.fontsizes[\"label\"])\n",
    "axx0.tick_params(axis=\"both\", labelsize=display.fontsizes[\"label\"])\n",
    "\n",
    "# handles = [\n",
    "#     display.get_label_line(\"Reconstructability\", style=ax[0].get_lines()[0]),\n",
    "#     display.get_label_line(\"Predictability\", style=axx0.get_lines()[0]),\n",
    "# ]\n",
    "# axx0.legend(handles=handles, loc=\"upper right\", fontsize=display.fontsizes[\"legend\"])\n",
    "\n",
    "sns.lineplot(\n",
    "    df, x=\"j\", y=\"recon-auc-te\", \n",
    "    ax=ax[1], \n",
    "    color=display.light_colors[\"blue\"], \n",
    "    linewidth=2,\n",
    "    marker=\"s\",\n",
    "    linestyle=\"-\",\n",
    ")\n",
    "sns.lineplot(\n",
    "    df, x=\"j\", y=\"recon-auc-gc\", \n",
    "    ax=ax[1], \n",
    "    color=display.dark_colors[\"blue\"], \n",
    "    linewidth=2,\n",
    "    marker=\"^\",\n",
    "    linestyle=\"-\",\n",
    ")\n",
    "axx1 = ax[1].twinx()\n",
    "\n",
    "sns.lineplot(\n",
    "    df, x=\"j\", y=\"norm-error-logistic\", \n",
    "    ax=axx1, \n",
    "    color=display.light_colors[\"orange\"], \n",
    "    linewidth=2,\n",
    "    marker=\"d\",\n",
    "    linestyle=\"dotted\",\n",
    ")\n",
    "sns.lineplot(\n",
    "    df, x=\"j\", y=\"norm-error-mlp\", \n",
    "    ax=axx1, \n",
    "    color=display.dark_colors[\"orange\"], \n",
    "    linewidth=2,\n",
    "    marker=\"v\",\n",
    "    linestyle=\"dotted\",\n",
    ")\n",
    "ax[1].set_xlabel(r\"Coupling $J$\", fontsize=display.fontsizes[\"label\"])\n",
    "ax[1].set_ylabel(r\"AUC score\", fontsize=display.fontsizes[\"label\"])\n",
    "# ax[1].set_ylim([0.5, 1])\n",
    "axx1.set_ylabel(r\"Relative MAE\", fontsize=display.fontsizes[\"label\"], rotation=-90, ha=\"center\", va=\"bottom\")\n",
    "ax[1].tick_params(axis=\"both\", labelsize=display.fontsizes[\"label\"])\n",
    "axx1.tick_params(axis=\"both\", labelsize=display.fontsizes[\"label\"])\n",
    "\n",
    "handles = [\n",
    "    display.get_label_line(\"Transfer Entropy\", style=ax[1].get_lines()[0]),\n",
    "    display.get_label_line(\"Granger\", style=ax[1].get_lines()[1]),\n",
    "]\n",
    "ax[1].legend(handles=handles, loc=\"center right\", title=\"Reconstruction\", title_fontsize=display.fontsizes[\"legend\"], fontsize=display.fontsizes[\"legend\"])\n",
    "\n",
    "handles = [\n",
    "    display.get_label_line(\"Logistic\", style=axx1.get_lines()[0]),\n",
    "    display.get_label_line(\"MLP\", style=axx1.get_lines()[1]),\n",
    "]\n",
    "axx1.legend(handles=handles, loc=\"upper right\", title=\"Prediction\", title_fontsize=display.fontsizes[\"legend\"], fontsize=display.fontsizes[\"legend\"])\n",
    "ax[0].set_xlim([0, 5])\n",
    "ax[0].set_ylim([0, 1.05])\n",
    "axx0.set_ylim([0, 0.525])\n",
    "ax[0].tick_params(axis='y', color=display.med_colors[\"blue\"], length=6, width=2)\n",
    "axx0.tick_params(axis='y', color=display.med_colors[\"orange\"], length=6, width=2)\n",
    "axx0.spines['left'].set_color(display.med_colors[\"blue\"])\n",
    "axx0.spines['left'].set_linewidth(2)\n",
    "axx0.spines['right'].set_color(display.med_colors[\"orange\"])\n",
    "axx0.spines['right'].set_linewidth(2)\n",
    "\n",
    "ax[1].set_xlim([0, 5])\n",
    "ax[1].set_ylim([0.5, 1.025])\n",
    "axx1.set_ylim([0, 1.05])\n",
    "ax[1].tick_params(axis='y', color=display.med_colors[\"blue\"], length=6, width=2)\n",
    "axx1.tick_params(axis='y', color=display.med_colors[\"orange\"], length=6, width=2)\n",
    "axx1.spines['left'].set_color(display.med_colors[\"blue\"])\n",
    "axx1.spines['left'].set_linewidth(2)\n",
    "axx1.spines['right'].set_color(display.med_colors[\"orange\"])\n",
    "axx1.spines['right'].set_linewidth(2)\n",
    "display.Label.clear()\n",
    "display.Label.plot(ax[0], loc=\"bottom right\")\n",
    "display.Label.plot(ax[1], loc=\"bottom right\")\n",
    "\n",
    "fig.tight_layout()\n",
    "\n",
    "paths = [pathlib.Path(\".\")]\n",
    "for p, fmt in product(paths, [\"svg\", \"pdf\", \"png\"]):\n",
    "    fig.savefig(p / f\"{fmt}/heuristic-duality.{fmt}\", bbox_inches='tight')\n"
   ]
  },
  {
   "cell_type": "code",
   "execution_count": 128,
   "id": "c757c507",
   "metadata": {},
   "outputs": [],
   "source": [
    "import tqdm.notebook as tqdm\n",
    "from collections import defaultdict"
   ]
  },
  {
   "cell_type": "code",
   "execution_count": 162,
   "id": "0cc9f4ec",
   "metadata": {},
   "outputs": [
    {
     "name": "stdout",
     "output_type": "stream",
     "text": [
      "0.0010228033840350874\n",
      "0.002559535351072795\n",
      "0.007009441737935607\n",
      "0.013213834328669656\n",
      "0.016371883522781117\n",
      "0.025037716491130957\n",
      "0.02716826811338527\n",
      "0.030657125599270404\n",
      "0.031241007163451188\n",
      "0.034704013419580446\n",
      "0.0381905812147857\n",
      "0.04041961355956329\n",
      "0.04095303033613786\n",
      "0.041916186035371006\n",
      "0.04338965090677342\n",
      "0.045654269485431546\n",
      "0.048142797484787024\n",
      "0.04877099354898373\n",
      "0.04863811275321194\n",
      "0.04849178102225901\n",
      "0.04993020088095437\n",
      "0.049783375779471686\n",
      "0.05173805192412086\n",
      "0.05634838828049302\n",
      "0.05368416480416926\n",
      "0.054094625047023864\n",
      "0.05363604905536658\n",
      "0.056424116587963105\n",
      "0.052986039583043966\n",
      "0.05072847119766372\n",
      "0.05785183667541516\n",
      "0.0540248037342843\n",
      "0.05583034589165604\n",
      "0.05122312791351534\n",
      "0.05215297671622389\n",
      "0.051125944379937414\n",
      "0.04772495408924539\n",
      "0.05302222684190991\n",
      "0.05362632277094555\n",
      "0.05261706998374779\n",
      "0.05566074782513079\n",
      "0.05171501683591614\n",
      "0.050824018933539376\n",
      "0.052331375491605825\n",
      "0.05095784657741081\n",
      "0.05472685572454951\n",
      "0.05787225576482112\n",
      "0.053772654516332855\n",
      "0.05453187841451658\n",
      "0.056448320122100284\n"
     ]
    }
   ],
   "source": [
    "J = np.linspace(0, 4, 50)\n",
    "N, M = 5, 5\n",
    "g_samples = 100\n",
    "x_samples = 1000\n",
    "\n",
    "g = graphinf.graph.ErdosRenyiModel(N, M)\n",
    "S = []\n",
    "for _J in J:\n",
    "    x = graphinf.data.dynamics.GlauberDynamics(g, coupling=_J, length=2)\n",
    "    X = np.zeros((g_samples, x_samples, g.get_size(), x.get_length()))\n",
    "\n",
    "    for i in range(g_samples):\n",
    "        x.sample_prior()\n",
    "        for j in range(x_samples):\n",
    "            x.sample_state(1)\n",
    "    Y_X = np.array([X[i].mean(0) for i in range(g_samples)])\n",
    "    var_Y_X = np.var(Y_X, axis=0)\n",
    "    var_Y = np.var(X, axis=(0, 1))\n",
    "    S.append(var_Y_X.sum() / var_Y.sum())\n",
    "    print(S[-1])\n",
    "    \n",
    "    \n"
   ]
  },
  {
   "cell_type": "code",
   "execution_count": 163,
   "id": "0d75cce3",
   "metadata": {},
   "outputs": [
    {
     "data": {
      "text/plain": [
       "[<matplotlib.lines.Line2D at 0x286575a20>]"
      ]
     },
     "execution_count": 163,
     "metadata": {},
     "output_type": "execute_result"
    },
    {
     "data": {
      "image/png": "[encoded data removed]",
      "text/plain": [
       "<Figure size 640x480 with 1 Axes>"
      ]
     },
     "metadata": {},
     "output_type": "display_data"
    }
   ],
   "source": [
    "plt.plot(J, S)\n"
   ]
  },
  {
   "cell_type": "code",
   "execution_count": 141,
   "id": "fd376f1a",
   "metadata": {},
   "outputs": [
    {
     "name": "stderr",
     "output_type": "stream",
     "text": [
      "100%|█████████████████████████████████████████████████████████████████████████████████████████████████████████████████████████████████████████████████████████████████████████████████████████████████████████████████████████████████████████████████████████████████████████████████████████| 20/20 [00:11<00:00,  1.74it/s]\n"
     ]
    }
   ],
   "source": [
    "import tqdm\n",
    "import pandas as pd\n",
    "import seaborn as sns\n",
    "from collections import defaultdict\n",
    "T = np.logspace(1, 2, 20).astype(\"int\")\n",
    "J = 1.\n",
    "N, M = 5, 5\n",
    "n_samples = 100\n",
    "K = 100\n",
    "\n",
    "g = graphinf.graph.ErdosRenyiModel(N, M)\n",
    "data = defaultdict(list)\n",
    "for t in tqdm.tqdm(T):\n",
    "    x = graphinf.data.dynamics.GlauberDynamics(g, coupling=J, length=t)\n",
    "    X = np.zeros((n_samples, K, g.get_size(), x.get_length()))\n",
    "\n",
    "    for i in range(n_samples):\n",
    "        x.sample_prior()\n",
    "        for j in range(K):\n",
    "            x.sample_state(1)\n",
    "            X[i,j] = np.array(x.get_past_states())\n",
    "    Y_X = np.array([X[i].mean(0) for i in range(n_samples)])\n",
    "    var_Y_X = np.var(Y_X, axis=0)\n",
    "    var_Y = np.var(X, axis=(0, 1))\n",
    "    data[\"sobol\"].append(var_Y_X.sum() / var_Y.sum())\n",
    "    data[\"var_y_x\"].append(var_Y_X.sum())\n",
    "    data[\"var_y\"].append(var_Y.sum())\n",
    "    data[\"T\"].append(t)\n",
    "#     S.append(var_Y_X.sum() / var_Y.sum())\n",
    "#     print(S[-1])\n",
    "            \n",
    "    \n",
    "    \n"
   ]
  },
  {
   "cell_type": "code",
   "execution_count": 143,
   "id": "85a0814e",
   "metadata": {},
   "outputs": [
    {
     "data": {
      "text/plain": [
       "Text(0, 0.5, 'Sobol main index')"
      ]
     },
     "execution_count": 143,
     "metadata": {},
     "output_type": "execute_result"
    },
    {
     "data": {
      "image/png": "[encoded data removed]",
      "text/plain": [
       "<Figure size 640x480 with 1 Axes>"
      ]
     },
     "metadata": {},
     "output_type": "display_data"
    }
   ],
   "source": [
    "sns.lineplot(pd.DataFrame(data), x=\"T\", y=\"sobol\")\n",
    "plt.xscale(\"log\")\n",
    "plt.xlabel(\"Time steps\")\n",
    "plt.ylabel(\"Sobol main index\")"
   ]
  },
  {
   "cell_type": "code",
   "execution_count": 145,
   "id": "0a5e946a",
   "metadata": {},
   "outputs": [
    {
     "data": {
      "text/plain": [
       "Text(0, 0.5, 'Sobol main index')"
      ]
     },
     "execution_count": 145,
     "metadata": {},
     "output_type": "execute_result"
    },
    {
     "data": {
      "image/png": "[encoded data removed]",
      "text/plain": [
       "<Figure size 640x480 with 1 Axes>"
      ]
     },
     "metadata": {},
     "output_type": "display_data"
    }
   ],
   "source": [
    "sns.lineplot(pd.DataFrame(data), x=\"T\", y=\"var_y_x\")\n",
    "# sns.lineplot(pd.DataFrame(data), x=\"T\", y=\"var_y\")\n",
    "plt.xlabel(\"Time steps\")\n",
    "plt.ylabel(\"Sobol main index\")"
   ]
  },
  {
   "cell_type": "code",
   "execution_count": 194,
   "id": "ff9f944c",
   "metadata": {
    "scrolled": true
   },
   "outputs": [
    {
     "name": "stderr",
     "output_type": "stream",
     "text": [
      "100%|█████████████████████████████████████████████████████████████████████████████████████████████████████████████████████████████████████████████████████████████████████████████████████████████████████████████████████████████████████████████████████████████████████████████████████████| 20/20 [01:22<00:00,  4.11s/it]\n"
     ]
    }
   ],
   "source": [
    "import tqdm\n",
    "import pandas as pd\n",
    "import seaborn as sns\n",
    "from collections import defaultdict\n",
    "T = np.logspace(1, 2, 20).astype(\"int\")\n",
    "J = 1.\n",
    "N, M = 100, 100\n",
    "n_samples = 200\n",
    "K = 20\n",
    "\n",
    "g = graphinf.graph.ErdosRenyiModel(N, M)\n",
    "data = defaultdict(list)\n",
    "for t in tqdm.tqdm(T):\n",
    "    x = graphinf.data.dynamics.GlauberDynamics(g, coupling=J, length=t)\n",
    "    X = np.zeros((n_samples, K, N, t))\n",
    "\n",
    "    for i in range(n_samples):\n",
    "        x.sample_prior()\n",
    "        for j in range(K):\n",
    "            x.sample_state(1)\n",
    "            X[i,j] = np.array(x.get_past_states())\n",
    "    Y_X = np.array([X[i].mean(0) for i in range(n_samples)])\n",
    "\n",
    "    var_Y_X = np.var(Y_X, axis=0)\n",
    "    var_Y = np.var(X, axis=(0, 1))\n",
    "    data[\"sobol\"].append(var_Y_X.sum() / var_Y.sum())\n",
    "    data[\"var_y_x\"].append(var_Y_X.sum())\n",
    "    data[\"var_y\"].append(var_Y.sum())\n",
    "    data[\"T\"].append(t)\n",
    "#     S.append(var_Y_X.sum() / var_Y.sum())\n",
    "#     print(S[-1])\n",
    "            \n",
    "    \n",
    "    \n"
   ]
  },
  {
   "cell_type": "code",
   "execution_count": 193,
   "id": "3cd418d2",
   "metadata": {},
   "outputs": [
    {
     "data": {
      "text/plain": [
       "Text(0, 0.5, 'Sobol main index')"
      ]
     },
     "execution_count": 193,
     "metadata": {},
     "output_type": "execute_result"
    },
    {
     "data": {
      "image/png": "[encoded data removed]",
      "text/plain": [
       "<Figure size 640x480 with 1 Axes>"
      ]
     },
     "metadata": {},
     "output_type": "display_data"
    }
   ],
   "source": [
    "sns.lineplot(pd.DataFrame(data), x=\"T\", y=\"sobol\")\n",
    "plt.xscale(\"log\")\n",
    "plt.xlabel(\"Time steps\")\n",
    "plt.ylabel(\"Sobol main index\")"
   ]
  },
  {
   "cell_type": "code",
   "execution_count": 152,
   "id": "e22d40e9",
   "metadata": {},
   "outputs": [
    {
     "data": {
      "text/plain": [
       "<Axes: xlabel='T', ylabel='var_y'>"
      ]
     },
     "execution_count": 152,
     "metadata": {},
     "output_type": "execute_result"
    },
    {
     "data": {
      "image/png": "[encoded data removed]",
      "text/plain": [
       "<Figure size 640x480 with 1 Axes>"
      ]
     },
     "metadata": {},
     "output_type": "display_data"
    }
   ],
   "source": [
    "sns.lineplot(pd.DataFrame(data), x=\"T\", y=\"var_y\")\n",
    "sns.lineplot(pd.DataFrame(data), x=\"T\", y=\"var_y_x\")\n"
   ]
  },
  {
   "cell_type": "code",
   "execution_count": 17,
   "id": "98867296",
   "metadata": {},
   "outputs": [],
   "source": [
    "G = graphinf.graph.ErdosRenyiModel(5, 5, loopy=False, multigraph=False)\n",
    "X = graphinf.data.dynamics.GlauberDynamics(G, coupling=0.5, length=100)\n"
   ]
  },
  {
   "cell_type": "code",
   "execution_count": 3,
   "id": "1b2ebf84",
   "metadata": {},
   "outputs": [],
   "source": [
    "def get_transition_matrix(X):\n",
    "    n = np.array(X.get_past_neighbors_states())\n",
    "    x = np.array(X.get_past_states())\n",
    "    y = np.array(X.get_future_states())\n",
    "    p = np.zeros(x.shape)\n",
    "\n",
    "    for i in range(x.shape[0]):\n",
    "        for t in range(x.shape[1]):\n",
    "            p[i,t] = X.get_transition_prob(x[i, t], y[i, t], n[i, t])\n",
    "    return p\n",
    "\n",
    "def get_marginal_transition_matrix(X):\n",
    "    og = X.get_graph()\n",
    "    p = np.zeros((X.get_size(), X.get_length()))\n",
    "    for g in graphinf.utility.enumerate_all_graphs(og.get_size(), og.get_total_edge_number(), False, False):\n",
    "        X.set_graph(g)\n",
    "        p += get_transition_matrix(X) * np.exp(X.get_log_prior())\n",
    "    X.set_graph(og)\n",
    "    return p\n",
    "        \n"
   ]
  },
  {
   "cell_type": "code",
   "execution_count": 199,
   "id": "81003d7a",
   "metadata": {},
   "outputs": [
    {
     "name": "stderr",
     "output_type": "stream",
     "text": [
      "100%|█████████████████████████████████████████████████████████████████████████████████████████████████████████████████████████████████████████████████████████████████████████████████████████████████████████████████████████████████████████████████████████████████████████████████████████| 20/20 [00:42<00:00,  2.14s/it]\n"
     ]
    }
   ],
   "source": [
    "J = np.linspace(0, 1, 20)\n",
    "n_samples = 100\n",
    "\n",
    "data = defaultdict(list)\n",
    "for j in tqdm.tqdm(J):\n",
    "    G = graphinf.graph.ErdosRenyiModel(5, 5, loopy=False, multigraph=False)\n",
    "    X = graphinf.data.dynamics.SISDynamics(G, infection_prob=j, length=10)\n",
    "    \n",
    "    for _ in range(n_samples):\n",
    "        X.sample(2)\n",
    "        x = np.array(X.get_past_states())\n",
    "        y = np.array(X.get_future_states())\n",
    "        p = get_transition_matrix(X)\n",
    "        mp = get_marginal_transition_matrix(X)\n",
    "        p[np.logical_and(x == 0, y==0)] = 1 - p[np.logical_and(x == 0, y==0)]\n",
    "        p[np.logical_and(x == 1, y==0)] = 1 - p[np.logical_and(x == 1, y==0)]\n",
    "        \n",
    "        mp[np.logical_and(x == 0, y==0)] = 1 - mp[np.logical_and(x == 0, y==0)]\n",
    "        mp[np.logical_and(x == 1, y==0)] = 1 - mp[np.logical_and(x == 1, y==0)]\n",
    "        if len(np.unique(y)) == 1:\n",
    "            continue\n",
    "        data[\"conditional-auc\"].append(roc_auc_score(y.flatten(), p.flatten()))\n",
    "        data[\"marginal-auc\"].append(roc_auc_score(y.flatten(), mp.flatten()))\n",
    "        data[\"conditional-error\"].append(np.mean(np.abs(p - y)))\n",
    "        data[\"marginal-error\"].append(np.mean(np.abs(mp - y)))\n",
    "        data[\"evidence\"].append(-X.log_evidence(method=\"exact\"))\n",
    "        data[\"mi\"].append(X.get_log_likelihood() + data[\"evidence\"][-1])\n",
    "        data[\"J\"].append(j)\n",
    "    \n",
    "\n"
   ]
  },
  {
   "cell_type": "code",
   "execution_count": 2,
   "id": "707276a5",
   "metadata": {},
   "outputs": [
    {
     "ename": "NameError",
     "evalue": "name 'data' is not defined",
     "output_type": "error",
     "traceback": [
      "\u001b[0;31m---------------------------------------------------------------------------\u001b[0m",
      "\u001b[0;31mNameError\u001b[0m                                 Traceback (most recent call last)",
      "Cell \u001b[0;32mIn [2], line 2\u001b[0m\n\u001b[1;32m      1\u001b[0m ax \u001b[38;5;241m=\u001b[39m plt\u001b[38;5;241m.\u001b[39mgca()\n\u001b[0;32m----> 2\u001b[0m df \u001b[38;5;241m=\u001b[39m pd\u001b[38;5;241m.\u001b[39mDataFrame(\u001b[43mdata\u001b[49m)\n\u001b[1;32m      3\u001b[0m group \u001b[38;5;241m=\u001b[39m df\u001b[38;5;241m.\u001b[39mgroupby(\u001b[38;5;124m\"\u001b[39m\u001b[38;5;124mJ\u001b[39m\u001b[38;5;124m\"\u001b[39m)\n\u001b[1;32m      4\u001b[0m pred \u001b[38;5;241m=\u001b[39m group[\u001b[38;5;124m\"\u001b[39m\u001b[38;5;124mmi\u001b[39m\u001b[38;5;124m\"\u001b[39m]\u001b[38;5;241m.\u001b[39mmean() \u001b[38;5;241m/\u001b[39m group[\u001b[38;5;124m\"\u001b[39m\u001b[38;5;124mevidence\u001b[39m\u001b[38;5;124m\"\u001b[39m]\u001b[38;5;241m.\u001b[39mmean()\n",
      "\u001b[0;31mNameError\u001b[0m: name 'data' is not defined"
     ]
    },
    {
     "data": {
      "image/png": "[encoded data removed]",
      "text/plain": [
       "<Figure size 640x480 with 1 Axes>"
      ]
     },
     "metadata": {
      "image/png": {
       "height": 418,
       "width": 558
      }
     },
     "output_type": "display_data"
    }
   ],
   "source": [
    "ax = plt.gca()\n",
    "df = pd.DataFrame(data)\n",
    "group = df.groupby(\"J\")\n",
    "pred = group[\"mi\"].mean() / group[\"evidence\"].mean()\n",
    "score = group[\"conditional-error\"].mean() / group[\"marginal-error\"].mean()\n",
    "\n",
    "# ax.plot(df.J.unique(), pred, color=\"blue\")\n",
    "sns.lineplot(df, x=\"J\", y=\"mi\", ax=ax)\n",
    "axx = ax.twinx()\n",
    "# ax.plot(df.J.unique(), score, color=\"cyan\")\n",
    "# axx.plot(df.J.unique(), f_test, color=\"orange\")\n",
    "# sns.lineplot(df, x=\"J\", y=\"conditional-error\", ax=axx, color=\"red\")\n",
    "# sns.lineplot(df, x=\"J\", y=\"marginal-error\", ax=axx, color=\"green\")\n",
    "df[\"score\"] = df[\"marginal-error\"] - df[\"conditional-error\"]\n",
    "sns.lineplot(df, x=\"J\", y=\"score\", ax=axx, color=\"cyan\")\n",
    "\n",
    "\n"
   ]
  },
  {
   "cell_type": "code",
   "execution_count": 253,
   "id": "002b0274",
   "metadata": {},
   "outputs": [],
   "source": [
    "def get_transition_matrix(X):\n",
    "    n = np.array(X.get_past_neighbors_states())\n",
    "    x = np.array(X.get_past_states())\n",
    "    y = np.array(X.get_future_states())\n",
    "    p = np.zeros(x.shape)\n",
    "\n",
    "    for i in range(x.shape[0]):\n",
    "        for t in range(x.shape[1]):\n",
    "            p[i,t] = X.get_transition_prob(x[i, t], y[i, t], n[i, t])\n",
    "    return p\n",
    "\n",
    "def get_marginal_transition_matrix(X):\n",
    "    og = X.get_graph()\n",
    "    p = np.zeros((X.get_size(), X.get_length()))\n",
    "    for g in graphinf.utility.enumerate_all_graphs(og.get_size(), og.get_total_edge_number(), False, False):\n",
    "        X.set_graph(g)\n",
    "        p += get_transition_matrix(X) * np.exp(X.get_log_prior())\n",
    "    X.set_graph(og)\n",
    "    return p\n",
    "        \n",
    "def mean_absolute_error(x, y):\n",
    "    return np.abs(x-y).mean()"
   ]
  },
  {
   "cell_type": "code",
   "execution_count": 4,
   "id": "e9179ed0",
   "metadata": {},
   "outputs": [],
   "source": [
    "from sklearn.neural_network import MLPRegressor"
   ]
  },
  {
   "cell_type": "code",
   "execution_count": 6,
   "id": "33cc69c2",
   "metadata": {},
   "outputs": [
    {
     "ename": "AttributeError",
     "evalue": "type object 'MLPRegressor' has no attribute 'loss'",
     "output_type": "error",
     "traceback": [
      "\u001b[0;31m---------------------------------------------------------------------------\u001b[0m",
      "\u001b[0;31mAttributeError\u001b[0m                            Traceback (most recent call last)",
      "Cell \u001b[0;32mIn [6], line 1\u001b[0m\n\u001b[0;32m----> 1\u001b[0m \u001b[43mMLPRegressor\u001b[49m\u001b[38;5;241;43m.\u001b[39;49m\u001b[43mloss\u001b[49m\n",
      "\u001b[0;31mAttributeError\u001b[0m: type object 'MLPRegressor' has no attribute 'loss'"
     ]
    }
   ],
   "source": [
    "MLPRegressor.loss"
   ]
  },
  {
   "cell_type": "code",
   "execution_count": null,
   "id": "87ca17f6",
   "metadata": {
    "scrolled": false
   },
   "outputs": [
    {
     "name": "stderr",
     "output_type": "stream",
     "text": [
      "\r",
      "  0%|                                                                                                                                                               | 0/20 [00:00<?, ?it/s]"
     ]
    }
   ],
   "source": [
    "from sklearn.neural_network import MLPClassifier\n",
    "\n",
    "\n",
    "J = np.linspace(0, 1, 20)\n",
    "n_samples = 10\n",
    "\n",
    "data = defaultdict(list)\n",
    "for j in tqdm.tqdm(J):\n",
    "    G = graphinf.graph.ErdosRenyiModel(100, 250, loopy=False, multigraph=False)\n",
    "    X = graphinf.data.dynamics.GlauberDynamics(G, coupling=j, length=100)\n",
    "    \n",
    "    for _ in range(n_samples):\n",
    "        X.sample()\n",
    "        x = np.array(X.get_past_states())\n",
    "        y = np.array(X.get_future_states())\n",
    "        p = get_transition_matrix(X)\n",
    "        x_train, y_train = [], []\n",
    "        for _ in range(20):\n",
    "            X.sample()\n",
    "            x_train.append(X.get_past_states())\n",
    "            y_train.append(X.get_future_states())\n",
    "        x_train = np.concatenate(x_train, axis=-1)\n",
    "        y_train = np.concatenate(y_train, axis=-1)\n",
    "        \n",
    "        model = MLPClassifier(hidden_layer_sizes=(100,), activation=\"relu\")\n",
    "        model.fit(x_train.T, y_train.T)\n",
    "        mp = model.predict_proba(x.T).T\n",
    "#         mp = []\n",
    "#         for _ in range(100):\n",
    "#             mp.append(get_transition_matrix(X))\n",
    "#             X.sample_prior()\n",
    "#         mp = np.mean(mp, axis=0)      \n",
    "#         mp = get_marginal_transition_matrix(X)\n",
    "        \n",
    "#         p[y==0] = 1 - p[y == 0]\n",
    "#         mp[y==0] = 1 - mp[y == 0]\n",
    "        \n",
    "#         if len(np.unique(y)) == 1:\n",
    "#             continue\n",
    "#         data[\"conditional-auc\"].append(roc_auc_score(y.flatten(), p.flatten()))\n",
    "#         data[\"marginal-auc\"].append(roc_auc_score(y.flatten(), mp.flatten()))\n",
    "        data[\"conditional-error\"].append(np.mean(1 - p))\n",
    "        data[\"marginal-error\"].append(np.mean(1 - mp))\n",
    "        data[\"score\"].append(np.abs((p - mp)).mean())\n",
    "#         data[\"conditional-error\"].append(np.abs(p - y).mean())\n",
    "#         data[\"marginal-error\"].append(np.abs(mp - y).mean())\n",
    "#         data[\"evidence\"].append(-X.log_evidence(method=\"exact\"))\n",
    "#         data[\"mi\"].append(X.get_log_likelihood() + data[\"evidence\"][-1])\n",
    "        data[\"J\"].append(j)\n",
    "fig, ax = plt.subplots()\n",
    "df = pd.DataFrame(data)\n",
    "\n",
    "\n",
    "p = \"../../scripts/duality/data/numerical-validation/glauber-large-meanfield/reconinfo.pkl\"\n",
    "reconinf = pd.read_pickle(p)\n",
    "reconinf = reconinf[\"glauber-large-meanfield\"]\n",
    "sns.lineplot(reconinf, x=\"data_model.coupling\", y=\"mutualinfo-loc\")\n",
    "\n",
    "p = \"../../scripts/duality/data/numerical-validation/glauber-large-annealed/reconinfo.pkl\"\n",
    "reconinf = pd.read_pickle(p)\n",
    "reconinf = reconinf[\"glauber-large-annealed\"]\n",
    "sns.lineplot(reconinf, x=\"data_model.coupling\", y=\"mutualinfo-loc\")\n",
    "\n",
    "# sns.lineplot(df, x=\"J\", y=\"mi\")\n",
    "axx = ax.twinx()\n",
    "sns.lineplot(df, x=\"J\", y=\"score\", color=\"cyan\")\n",
    "axx.set_ylabel(\"Mean absolute error\")\n",
    "\n"
   ]
  },
  {
   "cell_type": "code",
   "execution_count": 369,
   "id": "d123ff45",
   "metadata": {},
   "outputs": [],
   "source": [
    "import logging\n",
    "from sklearn.linear_model import LogisticRegression\n",
    "logging.getLogger(\"pymc3\").setLevel(\"ERROR\")\n",
    "\n",
    "def linear_model(x_train, y_train):\n",
    "#     with pymc3.Model() as model:\n",
    "#         weights = pymc3.Normal(\"weights\", mu=0, sd=1, shape=(5, 5))\n",
    "#         bias = pymc3.Normal(\"bias\", mu=0, sd=1, shape=(5,))\n",
    "#         logits = pymc3.math.dot(x_train, weights) + bias\n",
    "#         probs = pymc3.invlogit(logits)\n",
    "#         likelihood = pymc3.Bernoulli(\"likelihood\",p=probs, observed=y_train)\n",
    "#         trace = pymc3.sample(100, tune=100, chains=2, progressbar=True, return_inferencedata=False)\n",
    "#     return trace.get_values(\"weights\"), trace.get_values(\"bias\")\n",
    "    model = [LogisticRegression() for i in range(y_train.shape[-1])]\n",
    "    for i, m in enumerate(model):\n",
    "        m.fit(x_train, y_train[:, i])\n",
    "    return model\n",
    "\n",
    "def mle_model(x_train, y_train):\n",
    "    for _x, _y in zip(x_train, y_train):\n",
    "        counts[tuple(_x.tolist())].append(_y)\n",
    "    return {_x: np.array(_y).mean(0) for _x, _y in counts.items()}\n",
    "    "
   ]
  },
  {
   "cell_type": "code",
   "execution_count": 410,
   "id": "d8a6b4b1",
   "metadata": {
    "scrolled": true
   },
   "outputs": [
    {
     "name": "stderr",
     "output_type": "stream",
     "text": [
      "100%|█████████████████████████████████████████████████████████████████████████████████████████████████████████████████████████████████████████████████████████████████████████████████████████████████████████| 20/20 [01:34<00:00,  4.70s/it]\n"
     ]
    }
   ],
   "source": [
    "data = defaultdict(list)\n",
    "J = np.linspace(0, 5, 20)\n",
    "n_samples = 10\n",
    "for j in tqdm.tqdm(J):\n",
    "\n",
    "    G = graphinf.graph.ErdosRenyiModel(5, 5, loopy=False, multigraph=False)\n",
    "    X = graphinf.data.dynamics.GlauberDynamics(G, coupling=j, length=100)\n",
    "    \n",
    "    for _ in range(n_samples):\n",
    "        X.sample()\n",
    "#         x = np.array(X.get_past_states()).T\n",
    "#         y = np.array(X.get_future_states()).T\n",
    "#         p = get_transition_matrix(X).T\n",
    "#         p[y == 0] = 1 - p[y == 0]\n",
    "#         mp = get_marginal_transition_matrix(X).T\n",
    "#         mp[y==0] = 1 - mp[y==0]\n",
    "\n",
    "#         counts = defaultdict(list)\n",
    "#         for _x, _y in zip(x, y):\n",
    "#             counts[tuple(_x.tolist())].append(_y)\n",
    "#         Y = graphinf.data.dynamics.GlauberDynamics(G, coupling=j, length=100)\n",
    "#         x_train, y_train = [], []\n",
    "#         for _ in range(100):\n",
    "#             Y.sample()\n",
    "#             x_train.append(np.array(Y.get_past_states()).T)\n",
    "#             y_train.append(np.array(Y.get_future_states()).T)\n",
    "#         x_train = np.concatenate(x_train, 0)\n",
    "#         y_train = np.concatenate(y_train, 0)\n",
    "#         mle = mle_model(x_train, y_train)\n",
    "#         mle = np.array([mle[tuple(_x.tolist())] for _x in x])\n",
    "# #         w, b = linear_model(x_train, y_train)\n",
    "# #         linear = sigmoid(x @ w + b.reshape(-1, 1, 5))\n",
    "#         model = linear_model(x_train, y_train)\n",
    "#         linear = np.array([m.predict_proba(x)[:, 1] for m in model]).T\n",
    "        \n",
    "#         data[\"error-marginal\"].append(mean_absolute_error(mp, p))\n",
    "#         data[\"error-mle\"].append(mean_absolute_error(mle, p))\n",
    "#         data[\"error-linear\"].append(mean_absolute_error(linear, p))\n",
    "        data[\"mi\"].append(X.get_log_likelihood() - X.log_evidence(method=\"exact\"))\n",
    "        data[\"J\"].append(j)\n"
   ]
  },
  {
   "cell_type": "code",
   "execution_count": 411,
   "id": "32f37c5f",
   "metadata": {},
   "outputs": [
    {
     "data": {
      "text/plain": [
       "<Axes: xlabel='J', ylabel='mi'>"
      ]
     },
     "execution_count": 411,
     "metadata": {},
     "output_type": "execute_result"
    },
    {
     "data": {
      "image/png": "[encoded data removed]",
      "text/plain": [
       "<Figure size 640x480 with 1 Axes>"
      ]
     },
     "metadata": {
      "image/png": {
       "height": 432,
       "width": 554
      }
     },
     "output_type": "display_data"
    }
   ],
   "source": [
    "df = pd.DataFrame(data)\n",
    "sns.lineplot(df, x=\"J\", y=\"mi\", color=\"red\")\n",
    "# axx = plt.gca().twinx()\n",
    "# sns.lineplot(df, x=\"J\", y=\"error-marginal\", ax=axx, label=\"Mean marginal\")\n",
    "# sns.lineplot(df, x=\"J\", y=\"error-mle\", ax=axx, label=\"MLE\")\n",
    "# sns.lineplot(df, x=\"J\", y=\"error-linear\", ax=axx, label=\"Logistic\")\n",
    "# axx.set_ylabel(\"Mean absolute error\")\n"
   ]
  },
  {
   "cell_type": "code",
   "execution_count": 404,
   "id": "40f82313",
   "metadata": {},
   "outputs": [
    {
     "name": "stderr",
     "output_type": "stream",
     "text": [
      "  0%|                                                                                                                                                                                                                  | 0/20 [00:01<?, ?it/s]"
     ]
    },
    {
     "name": "stdout",
     "output_type": "stream",
     "text": [
      "0.019388164605568994 0.0 0.010521960180008273\n"
     ]
    },
    {
     "name": "stderr",
     "output_type": "stream",
     "text": [
      "\n"
     ]
    }
   ],
   "source": [
    "from sklearn.neural_network import MLPClassifier\n",
    "\n",
    "for j in tqdm.tqdm(J):\n",
    "\n",
    "    G = graphinf.graph.ErdosRenyiModel(5, 5, loopy=False, multigraph=False)\n",
    "    X = graphinf.data.dynamics.GlauberDynamics(G, coupling=j, length=100)\n",
    "    Y = graphinf.data.dynamics.GlauberDynamics(G, coupling=j, length=100)\n",
    "    \n",
    "    for _ in range(n_samples):\n",
    "        X.sample()\n",
    "        x = np.array(X.get_past_states()).T\n",
    "        y = np.array(X.get_future_states()).T\n",
    "        p = get_transition_matrix(X).T\n",
    "        p[y==0] = 1 - p[y==0]\n",
    "        x_train, y_train, mp = [], [], []\n",
    "        for _ in range(100):\n",
    "            Y.sample()\n",
    "            x_train.append(np.array(Y.get_past_states()).T)\n",
    "            y_train.append(np.array(Y.get_future_states()).T)\n",
    "            \n",
    "            X.sample_prior()\n",
    "            mp.append(get_transition_matrix(X).T)\n",
    "        x_train = np.concatenate(x_train, 0)\n",
    "        y_train = np.concatenate(y_train, 0)\n",
    "        mp = np.mean(mp, 0)\n",
    "        model = MLPClassifier()\n",
    "        model.fit(x_train, y_train)\n",
    "        nn = model.predict_proba(x)\n",
    "        \n",
    "        model = [LogisticRegression() for _ in range(y_train.shape[-1])]\n",
    "        logistics = []\n",
    "        for i, m in enumerate(model):\n",
    "            m.fit(x_train, y_train[...,i])\n",
    "            logistics.append(m.predict_proba(x)[:,-1])\n",
    "        logistics = np.array(logistics).T\n",
    "        \n",
    "        print(mean_absolute_error(nn, p), mean_absolute_error(mp, p), mean_absolute_error(logistics, p))\n",
    "        break\n",
    "    break\n",
    "#         nn = mean_absolute_error(model.predict(x_train))\n",
    "        \n",
    "#         data[\"error-nn\"].append()\n",
    "#         data[\"error-mle\"].append(mean_absolute_error(mle, p))\n",
    "#         data[\"error-linear\"].append(mean_absolute_error(linear, p))\n",
    "#         data[\"mi\"].append(X.get_log_likelihood() - X.log_evidence(method=\"exact\"))\n",
    "#         data[\"J\"].append(j)\n",
    "        "
   ]
  },
  {
   "cell_type": "code",
   "execution_count": null,
   "id": "98a8fa2d",
   "metadata": {},
   "outputs": [],
   "source": []
  },
  {
   "cell_type": "code",
   "execution_count": 337,
   "id": "bad3c5d8",
   "metadata": {},
   "outputs": [
    {
     "name": "stderr",
     "output_type": "stream",
     "text": [
      "Auto-assigning NUTS sampler...\n",
      "Initializing NUTS using jitter+adapt_diag...\n",
      "Multiprocess sampling (2 chains in 4 jobs)\n",
      "NUTS: [bias, weights]\n",
      "WARNING (theano.link.c.cmodule): install mkl with `conda install mkl-service`: No module named 'mkl'\n",
      "WARNING (theano.link.c.cmodule): install mkl with `conda install mkl-service`: No module named 'mkl'\n"
     ]
    },
    {
     "data": {
      "text/html": [
       "\n",
       "<style>\n",
       "    /* Turns off some styling */\n",
       "    progress {\n",
       "        /* gets rid of default border in Firefox and Opera. */\n",
       "        border: none;\n",
       "        /* Needs to be in here for Safari polyfill so background images work as expected. */\n",
       "        background-size: auto;\n",
       "    }\n",
       "    progress:not([value]), progress:not([value])::-webkit-progress-bar {\n",
       "        background: repeating-linear-gradient(45deg, #7e7e7e, #7e7e7e 10px, #5c5c5c 10px, #5c5c5c 20px);\n",
       "    }\n",
       "    .progress-bar-interrupted, .progress-bar-interrupted::-webkit-progress-bar {\n",
       "        background: #F44336;\n",
       "    }\n",
       "</style>\n"
      ],
      "text/plain": [
       "<IPython.core.display.HTML object>"
      ]
     },
     "metadata": {},
     "output_type": "display_data"
    },
    {
     "data": {
      "text/html": [
       "\n",
       "    <div>\n",
       "      <progress value='6000' class='' max='6000' style='width:300px; height:20px; vertical-align: middle;'></progress>\n",
       "      100.00% [6000/6000 01:09&lt;00:00 Sampling 2 chains, 0 divergences]\n",
       "    </div>\n",
       "    "
      ],
      "text/plain": [
       "<IPython.core.display.HTML object>"
      ]
     },
     "metadata": {},
     "output_type": "display_data"
    },
    {
     "name": "stderr",
     "output_type": "stream",
     "text": [
      "/Users/charlesmurphy/miniconda3/envs/midynet-env/lib/python3.10/site-packages/scipy/stats/_continuous_distns.py:624: RuntimeWarning: overflow encountered in _beta_ppf\n",
      "  return _boost._beta_ppf(q, a, b)\n",
      "/Users/charlesmurphy/miniconda3/envs/midynet-env/lib/python3.10/site-packages/scipy/stats/_continuous_distns.py:624: RuntimeWarning: overflow encountered in _beta_ppf\n",
      "  return _boost._beta_ppf(q, a, b)\n",
      "Sampling 2 chains for 1_000 tune and 2_000 draw iterations (2_000 + 4_000 draws total) took 73 seconds.\n"
     ]
    }
   ],
   "source": [
    "x_train, y_train = [], []\n",
    "for _ in range(100):\n",
    "    Y.sample()\n",
    "    x_train.append(np.array(Y.get_past_states()).T)\n",
    "    y_train.append(np.array(Y.get_future_states()).T)\n",
    "#     for _x, _y in zip(x_train, y_train):\n",
    "#         counts[tuple(_x.tolist())].append(_y)\n",
    "x_train = np.concatenate(x_train, 0)\n",
    "y_train = np.concatenate(y_train, 0)\n",
    "\n",
    "with pymc3.Model() as model:\n",
    "    weights = pymc3.Normal(\"weights\", mu=0, sd=1, shape=(5, 5))\n",
    "    bias = pymc3.Normal(\"bias\", mu=0, sd=1, shape=(5,))\n",
    "    logits = pymc3.math.dot(x_train, weights) + bias\n",
    "    probs = pymc3.invlogit(logits)\n",
    "    likelihood = pymc3.Bernoulli(\"likelihood\",p=probs, observed=y_train)\n",
    "    trace = pymc3.sample(2000, tune=1000, chains=2)\n",
    "    "
   ]
  },
  {
   "cell_type": "code",
   "execution_count": 338,
   "id": "2f0a9072",
   "metadata": {},
   "outputs": [],
   "source": [
    "w, b = trace.get_values(\"weights\"), trace.get_values(\"bias\")"
   ]
  },
  {
   "cell_type": "code",
   "execution_count": 340,
   "id": "65e8f9b7",
   "metadata": {},
   "outputs": [],
   "source": [
    "p = sigmoid(x_train @ w + b.reshape(-1, 1, 5))\n"
   ]
  },
  {
   "cell_type": "code",
   "execution_count": 342,
   "id": "aa439869",
   "metadata": {},
   "outputs": [
    {
     "data": {
      "text/plain": [
       "array([[0.03436683, 0.03886737, 0.8266688 , 0.76693634, 0.6037046 ],\n",
       "       [0.98135772, 0.96840484, 0.15289411, 0.22556462, 0.2168293 ],\n",
       "       [0.29263005, 0.19829627, 0.99835023, 0.06486974, 0.97965802],\n",
       "       ...,\n",
       "       [0.03995703, 0.0352557 , 0.00109229, 0.0013497 , 0.00715178],\n",
       "       [0.03995703, 0.0352557 , 0.00109229, 0.0013497 , 0.00715178],\n",
       "       [0.03995703, 0.0352557 , 0.00109229, 0.0013497 , 0.00715178]])"
      ]
     },
     "execution_count": 342,
     "metadata": {},
     "output_type": "execute_result"
    }
   ],
   "source": [
    "p.mean(0)"
   ]
  },
  {
   "cell_type": "code",
   "execution_count": 303,
   "id": "707ca644",
   "metadata": {},
   "outputs": [],
   "source": [
    "counts = defaultdict(list)\n",
    "for _x, _y in zip(x, y):\n",
    "    counts[tuple(_x.tolist())].append(_y)\n",
    "\n",
    "for _ in range(1000):\n",
    "    X.sample()\n",
    "    x_train = np.array(X.get_past_states()).T\n",
    "    y_train = np.array(X.get_future_states()).T\n",
    "    for _x, _y in zip(x_train, y_train):\n",
    "        counts[tuple(_x.tolist())].append(_y)"
   ]
  },
  {
   "cell_type": "code",
   "execution_count": 304,
   "id": "0a43f281",
   "metadata": {},
   "outputs": [],
   "source": [
    "model = {_x: np.array(_y).mean(0) for _x, _y in counts.items()}"
   ]
  },
  {
   "cell_type": "code",
   "execution_count": 305,
   "id": "588d0e05",
   "metadata": {},
   "outputs": [],
   "source": [
    "varp = np.array([model[tuple(_x.tolist())] for _x in x])"
   ]
  },
  {
   "cell_type": "code",
   "execution_count": 306,
   "id": "97de860c",
   "metadata": {},
   "outputs": [
    {
     "data": {
      "text/plain": [
       "0.0328353268058075"
      ]
     },
     "execution_count": 306,
     "metadata": {},
     "output_type": "execute_result"
    }
   ],
   "source": [
    "mean_absolute_error(varp, p)"
   ]
  },
  {
   "cell_type": "code",
   "execution_count": 308,
   "id": "be14b3fd",
   "metadata": {},
   "outputs": [
    {
     "data": {
      "text/plain": [
       "(array([[0.98393574, 0.98192771, 0.08534137, 0.08232932, 0.08534137],\n",
       "        [0.98393574, 0.98192771, 0.08534137, 0.08232932, 0.08534137],\n",
       "        [0.74875869, 0.87189672, 0.8917577 , 0.91956306, 0.89275074],\n",
       "        [0.98859859, 0.98502706, 0.98895574, 0.98980741, 0.98810407],\n",
       "        [0.98859859, 0.98502706, 0.98895574, 0.98980741, 0.98810407],\n",
       "        [0.98859859, 0.98502706, 0.98895574, 0.98980741, 0.98810407],\n",
       "        [0.98859859, 0.98502706, 0.98895574, 0.98980741, 0.98810407],\n",
       "        [0.98859859, 0.98502706, 0.98895574, 0.98980741, 0.98810407],\n",
       "        [0.98859859, 0.98502706, 0.98895574, 0.98980741, 0.98810407],\n",
       "        [0.98859859, 0.98502706, 0.98895574, 0.98980741, 0.98810407],\n",
       "        [0.98859859, 0.98502706, 0.98895574, 0.98980741, 0.98810407],\n",
       "        [0.98859859, 0.98502706, 0.98895574, 0.98980741, 0.98810407],\n",
       "        [0.98859859, 0.98502706, 0.98895574, 0.98980741, 0.98810407],\n",
       "        [0.98859859, 0.98502706, 0.98895574, 0.98980741, 0.98810407],\n",
       "        [0.98859859, 0.98502706, 0.98895574, 0.98980741, 0.98810407],\n",
       "        [0.98859859, 0.98502706, 0.98895574, 0.98980741, 0.98810407],\n",
       "        [0.98859859, 0.98502706, 0.98895574, 0.98980741, 0.98810407],\n",
       "        [0.98859859, 0.98502706, 0.98895574, 0.98980741, 0.98810407],\n",
       "        [0.98859859, 0.98502706, 0.98895574, 0.98980741, 0.98810407],\n",
       "        [0.98859859, 0.98502706, 0.98895574, 0.98980741, 0.98810407],\n",
       "        [0.98859859, 0.98502706, 0.98895574, 0.98980741, 0.98810407],\n",
       "        [0.98859859, 0.98502706, 0.98895574, 0.98980741, 0.98810407],\n",
       "        [0.98859859, 0.98502706, 0.98895574, 0.98980741, 0.98810407],\n",
       "        [0.98859859, 0.98502706, 0.98895574, 0.98980741, 0.98810407],\n",
       "        [0.98859859, 0.98502706, 0.98895574, 0.98980741, 0.98810407],\n",
       "        [0.98859859, 0.98502706, 0.98895574, 0.98980741, 0.98810407],\n",
       "        [0.98859859, 0.98502706, 0.98895574, 0.98980741, 0.98810407],\n",
       "        [0.98859859, 0.98502706, 0.98895574, 0.98980741, 0.98810407],\n",
       "        [0.98859859, 0.98502706, 0.98895574, 0.98980741, 0.98810407],\n",
       "        [0.98859859, 0.98502706, 0.98895574, 0.98980741, 0.98810407],\n",
       "        [0.98859859, 0.98502706, 0.98895574, 0.98980741, 0.98810407],\n",
       "        [0.98859859, 0.98502706, 0.98895574, 0.98980741, 0.98810407],\n",
       "        [0.98859859, 0.98502706, 0.98895574, 0.98980741, 0.98810407],\n",
       "        [0.98859859, 0.98502706, 0.98895574, 0.98980741, 0.98810407],\n",
       "        [0.98859859, 0.98502706, 0.98895574, 0.98980741, 0.98810407],\n",
       "        [0.92919255, 0.89068323, 0.89813665, 0.78136646, 0.92049689],\n",
       "        [0.98859859, 0.98502706, 0.98895574, 0.98980741, 0.98810407],\n",
       "        [0.98859859, 0.98502706, 0.98895574, 0.98980741, 0.98810407],\n",
       "        [0.98859859, 0.98502706, 0.98895574, 0.98980741, 0.98810407],\n",
       "        [0.98859859, 0.98502706, 0.98895574, 0.98980741, 0.98810407],\n",
       "        [0.98859859, 0.98502706, 0.98895574, 0.98980741, 0.98810407],\n",
       "        [0.98859859, 0.98502706, 0.98895574, 0.98980741, 0.98810407],\n",
       "        [0.98859859, 0.98502706, 0.98895574, 0.98980741, 0.98810407],\n",
       "        [0.98859859, 0.98502706, 0.98895574, 0.98980741, 0.98810407],\n",
       "        [0.98859859, 0.98502706, 0.98895574, 0.98980741, 0.98810407],\n",
       "        [0.98859859, 0.98502706, 0.98895574, 0.98980741, 0.98810407],\n",
       "        [0.98859859, 0.98502706, 0.98895574, 0.98980741, 0.98810407],\n",
       "        [0.98859859, 0.98502706, 0.98895574, 0.98980741, 0.98810407],\n",
       "        [0.98859859, 0.98502706, 0.98895574, 0.98980741, 0.98810407],\n",
       "        [0.98859859, 0.98502706, 0.98895574, 0.98980741, 0.98810407],\n",
       "        [0.98859859, 0.98502706, 0.98895574, 0.98980741, 0.98810407],\n",
       "        [0.98859859, 0.98502706, 0.98895574, 0.98980741, 0.98810407],\n",
       "        [0.98859859, 0.98502706, 0.98895574, 0.98980741, 0.98810407],\n",
       "        [0.98859859, 0.98502706, 0.98895574, 0.98980741, 0.98810407],\n",
       "        [0.98859859, 0.98502706, 0.98895574, 0.98980741, 0.98810407],\n",
       "        [0.92919255, 0.89068323, 0.89813665, 0.78136646, 0.92049689],\n",
       "        [0.88701162, 0.90073918, 0.77085533, 0.9186906 , 0.88806758],\n",
       "        [0.92919255, 0.89068323, 0.89813665, 0.78136646, 0.92049689],\n",
       "        [0.98859859, 0.98502706, 0.98895574, 0.98980741, 0.98810407],\n",
       "        [0.98859859, 0.98502706, 0.98895574, 0.98980741, 0.98810407],\n",
       "        [0.98859859, 0.98502706, 0.98895574, 0.98980741, 0.98810407],\n",
       "        [0.98859859, 0.98502706, 0.98895574, 0.98980741, 0.98810407],\n",
       "        [0.98859859, 0.98502706, 0.98895574, 0.98980741, 0.98810407],\n",
       "        [0.98859859, 0.98502706, 0.98895574, 0.98980741, 0.98810407],\n",
       "        [0.98859859, 0.98502706, 0.98895574, 0.98980741, 0.98810407],\n",
       "        [0.98859859, 0.98502706, 0.98895574, 0.98980741, 0.98810407],\n",
       "        [0.98859859, 0.98502706, 0.98895574, 0.98980741, 0.98810407],\n",
       "        [0.98859859, 0.98502706, 0.98895574, 0.98980741, 0.98810407],\n",
       "        [0.98859859, 0.98502706, 0.98895574, 0.98980741, 0.98810407],\n",
       "        [0.98859859, 0.98502706, 0.98895574, 0.98980741, 0.98810407],\n",
       "        [0.98859859, 0.98502706, 0.98895574, 0.98980741, 0.98810407],\n",
       "        [0.98859859, 0.98502706, 0.98895574, 0.98980741, 0.98810407],\n",
       "        [0.98859859, 0.98502706, 0.98895574, 0.98980741, 0.98810407],\n",
       "        [0.98859859, 0.98502706, 0.98895574, 0.98980741, 0.98810407],\n",
       "        [0.98859859, 0.98502706, 0.98895574, 0.98980741, 0.98810407],\n",
       "        [0.98859859, 0.98502706, 0.98895574, 0.98980741, 0.98810407],\n",
       "        [0.98859859, 0.98502706, 0.98895574, 0.98980741, 0.98810407],\n",
       "        [0.98859859, 0.98502706, 0.98895574, 0.98980741, 0.98810407],\n",
       "        [0.98859859, 0.98502706, 0.98895574, 0.98980741, 0.98810407],\n",
       "        [0.98859859, 0.98502706, 0.98895574, 0.98980741, 0.98810407],\n",
       "        [0.98859859, 0.98502706, 0.98895574, 0.98980741, 0.98810407],\n",
       "        [0.98859859, 0.98502706, 0.98895574, 0.98980741, 0.98810407],\n",
       "        [0.98859859, 0.98502706, 0.98895574, 0.98980741, 0.98810407],\n",
       "        [0.98859859, 0.98502706, 0.98895574, 0.98980741, 0.98810407],\n",
       "        [0.98859859, 0.98502706, 0.98895574, 0.98980741, 0.98810407],\n",
       "        [0.98859859, 0.98502706, 0.98895574, 0.98980741, 0.98810407],\n",
       "        [0.98859859, 0.98502706, 0.98895574, 0.98980741, 0.98810407],\n",
       "        [0.98859859, 0.98502706, 0.98895574, 0.98980741, 0.98810407],\n",
       "        [0.98859859, 0.98502706, 0.98895574, 0.98980741, 0.98810407],\n",
       "        [0.98859859, 0.98502706, 0.98895574, 0.98980741, 0.98810407],\n",
       "        [0.98859859, 0.98502706, 0.98895574, 0.98980741, 0.98810407],\n",
       "        [0.98859859, 0.98502706, 0.98895574, 0.98980741, 0.98810407],\n",
       "        [0.98859859, 0.98502706, 0.98895574, 0.98980741, 0.98810407],\n",
       "        [0.98859859, 0.98502706, 0.98895574, 0.98980741, 0.98810407],\n",
       "        [0.98859859, 0.98502706, 0.98895574, 0.98980741, 0.98810407],\n",
       "        [0.98859859, 0.98502706, 0.98895574, 0.98980741, 0.98810407],\n",
       "        [0.98859859, 0.98502706, 0.98895574, 0.98980741, 0.98810407],\n",
       "        [0.98859859, 0.98502706, 0.98895574, 0.98980741, 0.98810407],\n",
       "        [0.98859859, 0.98502706, 0.98895574, 0.98980741, 0.98810407],\n",
       "        [0.98859859, 0.98502706, 0.98895574, 0.98980741, 0.98810407]]),\n",
       " array([[0.5       , 0.5       , 0.98201379, 0.98201379, 0.5       ],\n",
       "        [0.5       , 0.5       , 0.98201379, 0.98201379, 0.5       ],\n",
       "        [0.99966465, 0.5       , 0.99999386, 0.98201379, 0.5       ],\n",
       "        [0.99966465, 0.99966465, 0.99999386, 0.98201379, 0.99966465],\n",
       "        [0.99966465, 0.99966465, 0.99999386, 0.98201379, 0.99966465],\n",
       "        [0.99966465, 0.99966465, 0.99999386, 0.98201379, 0.99966465],\n",
       "        [0.99966465, 0.99966465, 0.99999386, 0.98201379, 0.99966465],\n",
       "        [0.99966465, 0.99966465, 0.99999386, 0.98201379, 0.99966465],\n",
       "        [0.99966465, 0.99966465, 0.99999386, 0.98201379, 0.99966465],\n",
       "        [0.99966465, 0.99966465, 0.99999386, 0.98201379, 0.99966465],\n",
       "        [0.99966465, 0.99966465, 0.99999386, 0.98201379, 0.99966465],\n",
       "        [0.99966465, 0.99966465, 0.99999386, 0.98201379, 0.99966465],\n",
       "        [0.99966465, 0.99966465, 0.99999386, 0.98201379, 0.99966465],\n",
       "        [0.99966465, 0.99966465, 0.99999386, 0.98201379, 0.99966465],\n",
       "        [0.99966465, 0.99966465, 0.99999386, 0.98201379, 0.99966465],\n",
       "        [0.99966465, 0.99966465, 0.99999386, 0.98201379, 0.99966465],\n",
       "        [0.99966465, 0.99966465, 0.99999386, 0.98201379, 0.99966465],\n",
       "        [0.99966465, 0.99966465, 0.99999386, 0.98201379, 0.99966465],\n",
       "        [0.99966465, 0.99966465, 0.99999386, 0.98201379, 0.99966465],\n",
       "        [0.99966465, 0.99966465, 0.99999386, 0.98201379, 0.99966465],\n",
       "        [0.99966465, 0.99966465, 0.99999386, 0.98201379, 0.99966465],\n",
       "        [0.99966465, 0.99966465, 0.99999386, 0.98201379, 0.99966465],\n",
       "        [0.99966465, 0.99966465, 0.99999386, 0.98201379, 0.99966465],\n",
       "        [0.99966465, 0.99966465, 0.99999386, 0.98201379, 0.99966465],\n",
       "        [0.99966465, 0.99966465, 0.99999386, 0.98201379, 0.99966465],\n",
       "        [0.99966465, 0.99966465, 0.99999386, 0.98201379, 0.99966465],\n",
       "        [0.99966465, 0.99966465, 0.99999386, 0.98201379, 0.99966465],\n",
       "        [0.99966465, 0.99966465, 0.99999386, 0.98201379, 0.99966465],\n",
       "        [0.99966465, 0.99966465, 0.99999386, 0.98201379, 0.99966465],\n",
       "        [0.99966465, 0.99966465, 0.99999386, 0.98201379, 0.99966465],\n",
       "        [0.99966465, 0.99966465, 0.99999386, 0.98201379, 0.99966465],\n",
       "        [0.99966465, 0.99966465, 0.99999386, 0.98201379, 0.99966465],\n",
       "        [0.99966465, 0.99966465, 0.99999386, 0.98201379, 0.99966465],\n",
       "        [0.99966465, 0.99966465, 0.99999386, 0.98201379, 0.99966465],\n",
       "        [0.99966465, 0.99966465, 0.99999386, 0.98201379, 0.99966465],\n",
       "        [0.99966465, 0.99966465, 0.98201379, 0.98201379, 0.99966465],\n",
       "        [0.99966465, 0.99966465, 0.99999386, 0.98201379, 0.99966465],\n",
       "        [0.99966465, 0.99966465, 0.99999386, 0.98201379, 0.99966465],\n",
       "        [0.99966465, 0.99966465, 0.99999386, 0.98201379, 0.99966465],\n",
       "        [0.99966465, 0.99966465, 0.99999386, 0.98201379, 0.99966465],\n",
       "        [0.99966465, 0.99966465, 0.99999386, 0.98201379, 0.99966465],\n",
       "        [0.99966465, 0.99966465, 0.99999386, 0.98201379, 0.99966465],\n",
       "        [0.99966465, 0.99966465, 0.99999386, 0.98201379, 0.99966465],\n",
       "        [0.99966465, 0.99966465, 0.99999386, 0.98201379, 0.99966465],\n",
       "        [0.99966465, 0.99966465, 0.99999386, 0.98201379, 0.99966465],\n",
       "        [0.99966465, 0.99966465, 0.99999386, 0.98201379, 0.99966465],\n",
       "        [0.99966465, 0.99966465, 0.99999386, 0.98201379, 0.99966465],\n",
       "        [0.99966465, 0.99966465, 0.99999386, 0.98201379, 0.99966465],\n",
       "        [0.99966465, 0.99966465, 0.99999386, 0.98201379, 0.99966465],\n",
       "        [0.99966465, 0.99966465, 0.99999386, 0.98201379, 0.99966465],\n",
       "        [0.99966465, 0.99966465, 0.99999386, 0.98201379, 0.99966465],\n",
       "        [0.99966465, 0.99966465, 0.99999386, 0.98201379, 0.99966465],\n",
       "        [0.99966465, 0.99966465, 0.99999386, 0.98201379, 0.99966465],\n",
       "        [0.99966465, 0.99966465, 0.99999386, 0.98201379, 0.99966465],\n",
       "        [0.99966465, 0.99966465, 0.99999386, 0.98201379, 0.99966465],\n",
       "        [0.99966465, 0.99966465, 0.98201379, 0.98201379, 0.99966465],\n",
       "        [0.99966465, 0.5       , 0.99999386, 0.01798621, 0.5       ],\n",
       "        [0.99966465, 0.99966465, 0.98201379, 0.98201379, 0.99966465],\n",
       "        [0.99966465, 0.99966465, 0.99999386, 0.98201379, 0.99966465],\n",
       "        [0.99966465, 0.99966465, 0.99999386, 0.98201379, 0.99966465],\n",
       "        [0.99966465, 0.99966465, 0.99999386, 0.98201379, 0.99966465],\n",
       "        [0.99966465, 0.99966465, 0.99999386, 0.98201379, 0.99966465],\n",
       "        [0.99966465, 0.99966465, 0.99999386, 0.98201379, 0.99966465],\n",
       "        [0.99966465, 0.99966465, 0.99999386, 0.98201379, 0.99966465],\n",
       "        [0.99966465, 0.99966465, 0.99999386, 0.98201379, 0.99966465],\n",
       "        [0.99966465, 0.99966465, 0.99999386, 0.98201379, 0.99966465],\n",
       "        [0.99966465, 0.99966465, 0.99999386, 0.98201379, 0.99966465],\n",
       "        [0.99966465, 0.99966465, 0.99999386, 0.98201379, 0.99966465],\n",
       "        [0.99966465, 0.99966465, 0.99999386, 0.98201379, 0.99966465],\n",
       "        [0.99966465, 0.99966465, 0.99999386, 0.98201379, 0.99966465],\n",
       "        [0.99966465, 0.99966465, 0.99999386, 0.98201379, 0.99966465],\n",
       "        [0.99966465, 0.99966465, 0.99999386, 0.98201379, 0.99966465],\n",
       "        [0.99966465, 0.99966465, 0.99999386, 0.98201379, 0.99966465],\n",
       "        [0.99966465, 0.99966465, 0.99999386, 0.98201379, 0.99966465],\n",
       "        [0.99966465, 0.99966465, 0.99999386, 0.98201379, 0.99966465],\n",
       "        [0.99966465, 0.99966465, 0.99999386, 0.98201379, 0.99966465],\n",
       "        [0.99966465, 0.99966465, 0.99999386, 0.98201379, 0.99966465],\n",
       "        [0.99966465, 0.99966465, 0.99999386, 0.98201379, 0.99966465],\n",
       "        [0.99966465, 0.99966465, 0.99999386, 0.98201379, 0.99966465],\n",
       "        [0.99966465, 0.99966465, 0.99999386, 0.98201379, 0.99966465],\n",
       "        [0.99966465, 0.99966465, 0.99999386, 0.98201379, 0.99966465],\n",
       "        [0.99966465, 0.99966465, 0.99999386, 0.98201379, 0.99966465],\n",
       "        [0.99966465, 0.99966465, 0.99999386, 0.98201379, 0.99966465],\n",
       "        [0.99966465, 0.99966465, 0.99999386, 0.98201379, 0.99966465],\n",
       "        [0.99966465, 0.99966465, 0.99999386, 0.98201379, 0.99966465],\n",
       "        [0.99966465, 0.99966465, 0.99999386, 0.98201379, 0.99966465],\n",
       "        [0.99966465, 0.99966465, 0.99999386, 0.98201379, 0.99966465],\n",
       "        [0.99966465, 0.99966465, 0.99999386, 0.98201379, 0.99966465],\n",
       "        [0.99966465, 0.99966465, 0.99999386, 0.98201379, 0.99966465],\n",
       "        [0.99966465, 0.99966465, 0.99999386, 0.98201379, 0.99966465],\n",
       "        [0.99966465, 0.99966465, 0.99999386, 0.98201379, 0.99966465],\n",
       "        [0.99966465, 0.99966465, 0.99999386, 0.98201379, 0.99966465],\n",
       "        [0.99966465, 0.99966465, 0.99999386, 0.98201379, 0.99966465],\n",
       "        [0.99966465, 0.99966465, 0.99999386, 0.98201379, 0.99966465],\n",
       "        [0.99966465, 0.99966465, 0.99999386, 0.98201379, 0.99966465],\n",
       "        [0.99966465, 0.99966465, 0.99999386, 0.98201379, 0.99966465],\n",
       "        [0.99966465, 0.99966465, 0.99999386, 0.98201379, 0.99966465],\n",
       "        [0.99966465, 0.99966465, 0.99999386, 0.98201379, 0.99966465],\n",
       "        [0.99966465, 0.99966465, 0.99999386, 0.98201379, 0.99966465],\n",
       "        [0.99966465, 0.99966465, 0.99999386, 0.98201379, 0.99966465]]))"
      ]
     },
     "execution_count": 308,
     "metadata": {},
     "output_type": "execute_result"
    }
   ],
   "source": [
    "varp, p"
   ]
  },
  {
   "cell_type": "code",
   "execution_count": 282,
   "id": "29615af5",
   "metadata": {},
   "outputs": [
    {
     "data": {
      "text/plain": [
       "array([[9.82013790e-01, 1.79862100e-02, 9.82013790e-01, 6.14417460e-06,\n",
       "        5.00000000e-01],\n",
       "       [1.79862100e-02, 9.82013790e-01, 1.79862100e-02, 9.99993856e-01,\n",
       "        5.00000000e-01],\n",
       "       [9.82013790e-01, 1.79862100e-02, 9.82013790e-01, 6.14417460e-06,\n",
       "        5.00000000e-01],\n",
       "       [6.14417460e-06, 9.82013790e-01, 1.79862100e-02, 9.82013790e-01,\n",
       "        5.00000000e-01],\n",
       "       [9.99993856e-01, 1.79862100e-02, 9.82013790e-01, 1.79862100e-02,\n",
       "        5.00000000e-01],\n",
       "       [1.79862100e-02, 9.82013790e-01, 1.79862100e-02, 9.99993856e-01,\n",
       "        5.00000000e-01],\n",
       "       [9.82013790e-01, 1.79862100e-02, 9.82013790e-01, 6.14417460e-06,\n",
       "        5.00000000e-01],\n",
       "       [6.14417460e-06, 9.82013790e-01, 1.79862100e-02, 9.82013790e-01,\n",
       "        5.00000000e-01],\n",
       "       [9.99993856e-01, 1.79862100e-02, 9.82013790e-01, 1.79862100e-02,\n",
       "        5.00000000e-01],\n",
       "       [6.14417460e-06, 9.82013790e-01, 1.79862100e-02, 9.82013790e-01,\n",
       "        5.00000000e-01],\n",
       "       [9.99993856e-01, 1.79862100e-02, 9.82013790e-01, 1.79862100e-02,\n",
       "        5.00000000e-01],\n",
       "       [1.79862100e-02, 9.82013790e-01, 1.79862100e-02, 9.99993856e-01,\n",
       "        5.00000000e-01],\n",
       "       [9.82013790e-01, 1.79862100e-02, 9.82013790e-01, 6.14417460e-06,\n",
       "        5.00000000e-01],\n",
       "       [1.79862100e-02, 9.82013790e-01, 1.79862100e-02, 9.99993856e-01,\n",
       "        5.00000000e-01],\n",
       "       [9.99993856e-01, 1.79862100e-02, 9.82013790e-01, 1.79862100e-02,\n",
       "        5.00000000e-01],\n",
       "       [6.14417460e-06, 9.82013790e-01, 1.79862100e-02, 9.82013790e-01,\n",
       "        5.00000000e-01],\n",
       "       [9.82013790e-01, 1.79862100e-02, 9.82013790e-01, 6.14417460e-06,\n",
       "        5.00000000e-01],\n",
       "       [6.14417460e-06, 9.82013790e-01, 1.79862100e-02, 9.82013790e-01,\n",
       "        5.00000000e-01],\n",
       "       [9.99993856e-01, 1.79862100e-02, 9.82013790e-01, 1.79862100e-02,\n",
       "        5.00000000e-01],\n",
       "       [1.79862100e-02, 9.82013790e-01, 1.79862100e-02, 9.99993856e-01,\n",
       "        5.00000000e-01],\n",
       "       [9.99993856e-01, 1.79862100e-02, 9.82013790e-01, 1.79862100e-02,\n",
       "        5.00000000e-01],\n",
       "       [1.79862100e-02, 9.82013790e-01, 9.82013790e-01, 9.82013790e-01,\n",
       "        9.99664650e-01],\n",
       "       [9.99993856e-01, 1.79862100e-02, 9.82013790e-01, 9.82013790e-01,\n",
       "        5.00000000e-01],\n",
       "       [9.82013790e-01, 9.82013790e-01, 9.82013790e-01, 9.99993856e-01,\n",
       "        9.99664650e-01],\n",
       "       [9.99993856e-01, 9.82013790e-01, 9.82013790e-01, 9.99993856e-01,\n",
       "        9.99664650e-01],\n",
       "       [9.99993856e-01, 9.82013790e-01, 9.82013790e-01, 9.99993856e-01,\n",
       "        9.99664650e-01],\n",
       "       [9.99993856e-01, 9.82013790e-01, 9.82013790e-01, 9.99993856e-01,\n",
       "        9.99664650e-01],\n",
       "       [9.99993856e-01, 9.82013790e-01, 9.82013790e-01, 9.99993856e-01,\n",
       "        9.99664650e-01],\n",
       "       [9.99993856e-01, 9.82013790e-01, 9.82013790e-01, 9.99993856e-01,\n",
       "        9.99664650e-01],\n",
       "       [9.99993856e-01, 9.82013790e-01, 9.82013790e-01, 9.99993856e-01,\n",
       "        9.99664650e-01],\n",
       "       [9.99993856e-01, 9.82013790e-01, 9.82013790e-01, 9.99993856e-01,\n",
       "        9.99664650e-01],\n",
       "       [9.99993856e-01, 9.82013790e-01, 9.82013790e-01, 9.99993856e-01,\n",
       "        9.99664650e-01],\n",
       "       [9.99993856e-01, 9.82013790e-01, 9.82013790e-01, 9.99993856e-01,\n",
       "        9.99664650e-01],\n",
       "       [9.99993856e-01, 9.82013790e-01, 9.82013790e-01, 9.99993856e-01,\n",
       "        9.99664650e-01],\n",
       "       [9.99993856e-01, 9.82013790e-01, 9.82013790e-01, 9.99993856e-01,\n",
       "        9.99664650e-01],\n",
       "       [9.99993856e-01, 9.82013790e-01, 9.82013790e-01, 9.99993856e-01,\n",
       "        9.99664650e-01],\n",
       "       [9.99993856e-01, 9.82013790e-01, 9.82013790e-01, 9.99993856e-01,\n",
       "        9.99664650e-01],\n",
       "       [9.99993856e-01, 9.82013790e-01, 9.82013790e-01, 9.99993856e-01,\n",
       "        9.99664650e-01],\n",
       "       [9.82013790e-01, 9.82013790e-01, 9.82013790e-01, 9.99993856e-01,\n",
       "        9.99664650e-01],\n",
       "       [9.99993856e-01, 9.82013790e-01, 9.82013790e-01, 9.99993856e-01,\n",
       "        9.99664650e-01],\n",
       "       [9.99993856e-01, 9.82013790e-01, 9.82013790e-01, 9.99993856e-01,\n",
       "        9.99664650e-01],\n",
       "       [9.99993856e-01, 9.82013790e-01, 9.82013790e-01, 9.99993856e-01,\n",
       "        9.99664650e-01],\n",
       "       [9.99993856e-01, 9.82013790e-01, 9.82013790e-01, 9.99993856e-01,\n",
       "        9.99664650e-01],\n",
       "       [9.99993856e-01, 9.82013790e-01, 9.82013790e-01, 9.99993856e-01,\n",
       "        9.99664650e-01],\n",
       "       [9.99993856e-01, 9.82013790e-01, 9.82013790e-01, 9.99993856e-01,\n",
       "        9.99664650e-01],\n",
       "       [9.99993856e-01, 9.82013790e-01, 9.82013790e-01, 9.99993856e-01,\n",
       "        9.99664650e-01],\n",
       "       [9.99993856e-01, 9.82013790e-01, 9.82013790e-01, 9.99993856e-01,\n",
       "        9.99664650e-01],\n",
       "       [9.99993856e-01, 9.82013790e-01, 9.82013790e-01, 9.99993856e-01,\n",
       "        9.99664650e-01],\n",
       "       [9.99993856e-01, 9.82013790e-01, 9.82013790e-01, 9.99993856e-01,\n",
       "        9.99664650e-01],\n",
       "       [9.99993856e-01, 9.82013790e-01, 9.82013790e-01, 9.99993856e-01,\n",
       "        9.99664650e-01]])"
      ]
     },
     "execution_count": 282,
     "metadata": {},
     "output_type": "execute_result"
    }
   ],
   "source": [
    "p"
   ]
  },
  {
   "cell_type": "code",
   "execution_count": 283,
   "id": "70203861",
   "metadata": {},
   "outputs": [
    {
     "data": {
      "text/plain": [
       "array([[0.81075697, 0.0498008 , 0.84063745, 0.03984064, 0.84661355],\n",
       "       [0.13226453, 0.96392786, 0.15831663, 0.96593186, 0.14428858],\n",
       "       [0.81075697, 0.0498008 , 0.84063745, 0.03984064, 0.84661355],\n",
       "       [0.02426343, 0.89601386, 0.02946274, 0.90294627, 0.90294627],\n",
       "       [0.97377049, 0.14918033, 0.97377049, 0.1147541 , 0.09836066],\n",
       "       [0.13226453, 0.96392786, 0.15831663, 0.96593186, 0.14428858],\n",
       "       [0.81075697, 0.0498008 , 0.84063745, 0.03984064, 0.84661355],\n",
       "       [0.02426343, 0.89601386, 0.02946274, 0.90294627, 0.90294627],\n",
       "       [0.97377049, 0.14918033, 0.97377049, 0.1147541 , 0.09836066],\n",
       "       [0.02426343, 0.89601386, 0.02946274, 0.90294627, 0.90294627],\n",
       "       [0.97377049, 0.14918033, 0.97377049, 0.1147541 , 0.09836066],\n",
       "       [0.13226453, 0.96392786, 0.15831663, 0.96593186, 0.14428858],\n",
       "       [0.81075697, 0.0498008 , 0.84063745, 0.03984064, 0.84661355],\n",
       "       [0.13226453, 0.96392786, 0.15831663, 0.96593186, 0.14428858],\n",
       "       [0.97377049, 0.14918033, 0.97377049, 0.1147541 , 0.09836066],\n",
       "       [0.02426343, 0.89601386, 0.02946274, 0.90294627, 0.90294627],\n",
       "       [0.81075697, 0.0498008 , 0.84063745, 0.03984064, 0.84661355],\n",
       "       [0.02426343, 0.89601386, 0.02946274, 0.90294627, 0.90294627],\n",
       "       [0.97377049, 0.14918033, 0.97377049, 0.1147541 , 0.09836066],\n",
       "       [0.13226453, 0.96392786, 0.15831663, 0.96593186, 0.14428858],\n",
       "       [0.97377049, 0.14918033, 0.97377049, 0.1147541 , 0.09836066],\n",
       "       [0.13559322, 0.96456086, 0.09399076, 0.12326656, 0.97380586],\n",
       "       [0.88713318, 0.84650113, 0.81264108, 0.81489842, 0.83747178],\n",
       "       [0.89948893, 0.73594549, 0.90459966, 0.91311755, 0.86712095],\n",
       "       [0.99241864, 0.9873644 , 0.98643984, 0.98748767, 0.98798077],\n",
       "       [0.99241864, 0.9873644 , 0.98643984, 0.98748767, 0.98798077],\n",
       "       [0.99241864, 0.9873644 , 0.98643984, 0.98748767, 0.98798077],\n",
       "       [0.99241864, 0.9873644 , 0.98643984, 0.98748767, 0.98798077],\n",
       "       [0.99241864, 0.9873644 , 0.98643984, 0.98748767, 0.98798077],\n",
       "       [0.99241864, 0.9873644 , 0.98643984, 0.98748767, 0.98798077],\n",
       "       [0.99241864, 0.9873644 , 0.98643984, 0.98748767, 0.98798077],\n",
       "       [0.99241864, 0.9873644 , 0.98643984, 0.98748767, 0.98798077],\n",
       "       [0.99241864, 0.9873644 , 0.98643984, 0.98748767, 0.98798077],\n",
       "       [0.99241864, 0.9873644 , 0.98643984, 0.98748767, 0.98798077],\n",
       "       [0.99241864, 0.9873644 , 0.98643984, 0.98748767, 0.98798077],\n",
       "       [0.99241864, 0.9873644 , 0.98643984, 0.98748767, 0.98798077],\n",
       "       [0.99241864, 0.9873644 , 0.98643984, 0.98748767, 0.98798077],\n",
       "       [0.99241864, 0.9873644 , 0.98643984, 0.98748767, 0.98798077],\n",
       "       [0.89948893, 0.73594549, 0.90459966, 0.91311755, 0.86712095],\n",
       "       [0.99241864, 0.9873644 , 0.98643984, 0.98748767, 0.98798077],\n",
       "       [0.99241864, 0.9873644 , 0.98643984, 0.98748767, 0.98798077],\n",
       "       [0.99241864, 0.9873644 , 0.98643984, 0.98748767, 0.98798077],\n",
       "       [0.99241864, 0.9873644 , 0.98643984, 0.98748767, 0.98798077],\n",
       "       [0.99241864, 0.9873644 , 0.98643984, 0.98748767, 0.98798077],\n",
       "       [0.99241864, 0.9873644 , 0.98643984, 0.98748767, 0.98798077],\n",
       "       [0.99241864, 0.9873644 , 0.98643984, 0.98748767, 0.98798077],\n",
       "       [0.99241864, 0.9873644 , 0.98643984, 0.98748767, 0.98798077],\n",
       "       [0.99241864, 0.9873644 , 0.98643984, 0.98748767, 0.98798077],\n",
       "       [0.99241864, 0.9873644 , 0.98643984, 0.98748767, 0.98798077],\n",
       "       [0.99241864, 0.9873644 , 0.98643984, 0.98748767, 0.98798077]])"
      ]
     },
     "execution_count": 283,
     "metadata": {},
     "output_type": "execute_result"
    }
   ],
   "source": [
    "varp"
   ]
  },
  {
   "cell_type": "code",
   "execution_count": 10,
   "id": "8210d21a",
   "metadata": {},
   "outputs": [
    {
     "data": {
      "text/plain": [
       "(-64.40703677112045, -239.93672061542577)"
      ]
     },
     "execution_count": 10,
     "metadata": {},
     "output_type": "execute_result"
    }
   ],
   "source": [
    "X.log_evidence(method=\"exact\"), np.log(mp).sum()"
   ]
  },
  {
   "cell_type": "code",
   "execution_count": 47,
   "id": "1afad6b8",
   "metadata": {},
   "outputs": [],
   "source": [
    "from sklearn.neural_network import MLPClassifier"
   ]
  },
  {
   "cell_type": "code",
   "execution_count": 98,
   "id": "61ff18f6",
   "metadata": {
    "scrolled": true
   },
   "outputs": [
    {
     "name": "stdout",
     "output_type": "stream",
     "text": [
      "Iteration 1, loss = 39.49263805\n",
      "Iteration 2, loss = 25.72454687\n",
      "Iteration 3, loss = 24.25460159\n",
      "Iteration 4, loss = 23.25103983\n",
      "Iteration 5, loss = 22.37721589\n",
      "Iteration 6, loss = 21.56887861\n",
      "Iteration 7, loss = 20.81127964\n",
      "Iteration 8, loss = 20.09587069\n",
      "Iteration 9, loss = 19.41384635\n",
      "Iteration 10, loss = 18.76693388\n",
      "Iteration 11, loss = 18.15565070\n",
      "Iteration 12, loss = 17.57000303\n",
      "Iteration 13, loss = 17.01533696\n",
      "Iteration 14, loss = 16.48982612\n",
      "Iteration 15, loss = 15.98716437\n",
      "Iteration 16, loss = 15.51137878\n",
      "Iteration 17, loss = 15.05834242\n",
      "Iteration 18, loss = 14.62697695\n",
      "Iteration 19, loss = 14.21716872\n",
      "Iteration 20, loss = 13.82706782\n",
      "Iteration 21, loss = 13.45432367\n",
      "Iteration 22, loss = 13.10036156\n",
      "Iteration 23, loss = 12.76201675\n",
      "Iteration 24, loss = 12.44046835\n",
      "Iteration 25, loss = 12.13336884\n",
      "Iteration 26, loss = 11.84002069\n",
      "Iteration 27, loss = 11.56072101\n",
      "Iteration 28, loss = 11.29383877\n",
      "Iteration 29, loss = 11.03755370\n",
      "Iteration 30, loss = 10.79289699\n",
      "Iteration 31, loss = 10.56009576\n",
      "Iteration 32, loss = 10.33668174\n",
      "Iteration 33, loss = 10.12129999\n",
      "Iteration 34, loss = 9.91616192\n",
      "Iteration 35, loss = 9.71921609\n",
      "Iteration 36, loss = 9.53006544\n",
      "Iteration 37, loss = 9.34967630\n",
      "Iteration 38, loss = 9.17487328\n",
      "Iteration 39, loss = 9.00899433\n",
      "Iteration 40, loss = 8.84777145\n",
      "Iteration 41, loss = 8.69380926\n",
      "Iteration 42, loss = 8.54587330\n",
      "Iteration 43, loss = 8.40163828\n",
      "Iteration 44, loss = 8.26609657\n",
      "Iteration 45, loss = 8.13401216\n",
      "Iteration 46, loss = 8.00516816\n",
      "Iteration 47, loss = 7.88329959\n",
      "Iteration 48, loss = 7.76524522\n",
      "Iteration 49, loss = 7.65096857\n",
      "Iteration 50, loss = 7.54183591\n",
      "Iteration 51, loss = 7.43343082\n",
      "Iteration 52, loss = 7.33365970\n",
      "Iteration 53, loss = 7.23384639\n",
      "Iteration 54, loss = 7.13693332\n",
      "Iteration 55, loss = 7.04547372\n",
      "Iteration 56, loss = 6.95634984\n",
      "Iteration 57, loss = 6.87004774\n",
      "Iteration 58, loss = 6.78538773\n",
      "Iteration 59, loss = 6.70537415\n",
      "Iteration 60, loss = 6.62639356\n",
      "Iteration 61, loss = 6.55183714\n",
      "Iteration 62, loss = 6.47716689\n",
      "Iteration 63, loss = 6.40746485\n",
      "Iteration 64, loss = 6.33783590\n",
      "Iteration 65, loss = 6.27176236\n",
      "Iteration 66, loss = 6.20649906\n",
      "Iteration 67, loss = 6.14426978\n",
      "Iteration 68, loss = 6.08285834\n",
      "Iteration 69, loss = 6.02377823\n",
      "Iteration 70, loss = 5.96696276\n",
      "Iteration 71, loss = 5.91316329\n",
      "Iteration 72, loss = 5.85741484\n",
      "Iteration 73, loss = 5.80442544\n",
      "Iteration 74, loss = 5.75488816\n",
      "Iteration 75, loss = 5.70488673\n",
      "Iteration 76, loss = 5.65682030\n",
      "Iteration 77, loss = 5.60907353\n",
      "Iteration 78, loss = 5.56595307\n",
      "Iteration 79, loss = 5.52100655\n",
      "Iteration 80, loss = 5.47567989\n",
      "Iteration 81, loss = 5.43656503\n",
      "Iteration 82, loss = 5.39398874\n",
      "Iteration 83, loss = 5.35413740\n",
      "Iteration 84, loss = 5.31659318\n",
      "Iteration 85, loss = 5.27744085\n",
      "Iteration 86, loss = 5.24223577\n",
      "Iteration 87, loss = 5.20697475\n",
      "Iteration 88, loss = 5.17303856\n",
      "Iteration 89, loss = 5.13820123\n",
      "Iteration 90, loss = 5.10725339\n",
      "Iteration 91, loss = 5.07289831\n",
      "Iteration 92, loss = 5.04228590\n",
      "Iteration 93, loss = 5.01182134\n",
      "Iteration 94, loss = 4.98197557\n",
      "Iteration 95, loss = 4.95331186\n",
      "Iteration 96, loss = 4.92573636\n",
      "Iteration 97, loss = 4.89717079\n",
      "Iteration 98, loss = 4.87103408\n",
      "Iteration 99, loss = 4.84560250\n",
      "Iteration 100, loss = 4.81928505\n",
      "Iteration 101, loss = 4.79512860\n",
      "Iteration 102, loss = 4.77097145\n",
      "Iteration 103, loss = 4.74723756\n",
      "Iteration 104, loss = 4.72261744\n",
      "Iteration 105, loss = 4.70031768\n",
      "Iteration 106, loss = 4.67839443\n",
      "Iteration 107, loss = 4.65761442\n",
      "Iteration 108, loss = 4.63622887\n",
      "Iteration 109, loss = 4.61615546\n",
      "Iteration 110, loss = 4.59702644\n",
      "Iteration 111, loss = 4.57746029\n",
      "Iteration 112, loss = 4.55537555\n",
      "Iteration 113, loss = 4.53815474\n",
      "Iteration 114, loss = 4.52011358\n",
      "Iteration 115, loss = 4.50202375\n",
      "Iteration 116, loss = 4.48524665\n",
      "Iteration 117, loss = 4.46906239\n",
      "Iteration 118, loss = 4.45222826\n",
      "Iteration 119, loss = 4.43647833\n",
      "Iteration 120, loss = 4.41956230\n",
      "Iteration 121, loss = 4.40330298\n",
      "Iteration 122, loss = 4.38966257\n",
      "Iteration 123, loss = 4.37272154\n",
      "Iteration 124, loss = 4.36047075\n",
      "Iteration 125, loss = 4.34485711\n",
      "Iteration 126, loss = 4.33347268\n",
      "Iteration 127, loss = 4.31706311\n",
      "Iteration 128, loss = 4.30550578\n",
      "Iteration 129, loss = 4.29288279\n",
      "Iteration 130, loss = 4.27970066\n",
      "Iteration 131, loss = 4.26813684\n",
      "Iteration 132, loss = 4.25521345\n",
      "Iteration 133, loss = 4.24371881\n",
      "Iteration 134, loss = 4.23294550\n",
      "Iteration 135, loss = 4.22085564\n",
      "Iteration 136, loss = 4.20977596\n",
      "Iteration 137, loss = 4.19706731\n",
      "Iteration 138, loss = 4.18793264\n",
      "Iteration 139, loss = 4.17816911\n",
      "Iteration 140, loss = 4.16781694\n",
      "Iteration 141, loss = 4.15874748\n",
      "Iteration 142, loss = 4.14861533\n",
      "Iteration 143, loss = 4.13777624\n",
      "Iteration 144, loss = 4.12883614\n",
      "Iteration 145, loss = 4.12002587\n",
      "Iteration 146, loss = 4.11191599\n",
      "Iteration 147, loss = 4.10141129\n",
      "Iteration 148, loss = 4.09402543\n",
      "Iteration 149, loss = 4.08742676\n",
      "Iteration 150, loss = 4.07578390\n",
      "Iteration 151, loss = 4.06847782\n",
      "Iteration 152, loss = 4.06234079\n",
      "Iteration 153, loss = 4.05471592\n",
      "Iteration 154, loss = 4.04499783\n",
      "Iteration 155, loss = 4.03897622\n",
      "Iteration 156, loss = 4.03238602\n",
      "Iteration 157, loss = 4.02417934\n",
      "Iteration 158, loss = 4.01780533\n",
      "Iteration 159, loss = 4.00973306\n",
      "Iteration 160, loss = 4.00418115\n",
      "Iteration 161, loss = 3.99744217\n",
      "Iteration 162, loss = 3.99052053\n",
      "Iteration 163, loss = 3.98497297\n",
      "Iteration 164, loss = 3.97918053\n",
      "Iteration 165, loss = 3.97320611\n",
      "Iteration 166, loss = 3.96666730\n",
      "Iteration 167, loss = 3.96357541\n",
      "Iteration 168, loss = 3.95694143\n",
      "Iteration 169, loss = 3.94963100\n",
      "Iteration 170, loss = 3.94532723\n",
      "Iteration 171, loss = 3.94037233\n",
      "Iteration 172, loss = 3.93244265\n",
      "Iteration 173, loss = 3.92803192\n",
      "Iteration 174, loss = 3.92447533\n",
      "Iteration 175, loss = 3.91800208\n",
      "Iteration 176, loss = 3.91546037\n",
      "Iteration 177, loss = 3.90992128\n",
      "Iteration 178, loss = 3.90366525\n",
      "Iteration 179, loss = 3.89875307\n",
      "Iteration 180, loss = 3.89542280\n",
      "Iteration 181, loss = 3.89087994\n",
      "Iteration 182, loss = 3.88703517\n",
      "Iteration 183, loss = 3.88177499\n",
      "Iteration 184, loss = 3.87850640\n",
      "Iteration 185, loss = 3.87427604\n",
      "Iteration 186, loss = 3.87210793\n",
      "Iteration 187, loss = 3.86656836\n",
      "Iteration 188, loss = 3.86183385\n",
      "Iteration 189, loss = 3.85773473\n",
      "Iteration 190, loss = 3.85684281\n",
      "Iteration 191, loss = 3.85163959\n",
      "Iteration 192, loss = 3.84820179\n",
      "Iteration 193, loss = 3.84239977\n",
      "Iteration 194, loss = 3.83979010\n",
      "Iteration 195, loss = 3.83597142\n",
      "Iteration 196, loss = 3.83379044\n",
      "Iteration 197, loss = 3.83095344\n",
      "Iteration 198, loss = 3.82838529\n",
      "Iteration 199, loss = 3.82381243\n",
      "Iteration 200, loss = 3.82060476\n",
      "Train:  0.4004\n",
      "Test:  0.05\n"
     ]
    }
   ],
   "source": [
    "X = graphinf.data.dynamics.GlauberDynamics(G, coupling=1, length=1000)\n",
    "x_train, y_train = [], []\n",
    "for _ in range(10):\n",
    "    X.sample()\n",
    "    x_train.append(X.get_past_states())\n",
    "    y_train.append(X.get_future_states())\n",
    "x_train = np.concatenate(x_train, axis=-1).T\n",
    "y_train = np.concatenate(y_train, axis=-1).T\n",
    "\n",
    "X.sample()\n",
    "x_test = np.array(X.get_past_states()).T\n",
    "y_test = np.array(X.get_future_states()).T\n",
    "p_test = get_transition_matrix(X).T\n",
    "p_test[y_test == 0] = 1 - p_test[y_test == 0]\n",
    "\n",
    "m = MLPClassifier(hidden_layer_sizes=(), verbose=True, learning_rate_init=0.001, activation=\"identity\")\n",
    "m.fit(x_train, y_train)\n",
    "print(\"Train: \", m.score(x_train, y_train))\n",
    "print(\"Test: \", m.score(x_test, y_test))\n",
    "\n"
   ]
  },
  {
   "cell_type": "code",
   "execution_count": 90,
   "id": "c45fd967",
   "metadata": {},
   "outputs": [],
   "source": [
    "MLPClassifier?"
   ]
  },
  {
   "cell_type": "code",
   "execution_count": 99,
   "id": "c728ade7",
   "metadata": {},
   "outputs": [
    {
     "data": {
      "text/plain": [
       "array([[8.80797078e-01, 9.99664650e-01, 5.00000000e-01, ...,\n",
       "        1.19202922e-01, 5.00000000e-01, 8.80797078e-01],\n",
       "       [9.97527377e-01, 5.00000000e-01, 5.00000000e-01, ...,\n",
       "        1.19202922e-01, 5.00000000e-01, 9.97527377e-01],\n",
       "       [9.97527377e-01, 5.00000000e-01, 5.00000000e-01, ...,\n",
       "        1.19202922e-01, 3.35350130e-04, 1.19202922e-01],\n",
       "       ...,\n",
       "       [9.99999168e-01, 9.99993856e-01, 5.00000000e-01, ...,\n",
       "        8.80797078e-01, 9.99993856e-01, 9.97527377e-01],\n",
       "       [9.99999168e-01, 9.99993856e-01, 5.00000000e-01, ...,\n",
       "        8.80797078e-01, 9.99993856e-01, 9.97527377e-01],\n",
       "       [9.99999168e-01, 9.99993856e-01, 5.00000000e-01, ...,\n",
       "        8.80797078e-01, 9.99993856e-01, 9.97527377e-01]])"
      ]
     },
     "execution_count": 99,
     "metadata": {},
     "output_type": "execute_result"
    }
   ],
   "source": [
    "p_test"
   ]
  },
  {
   "cell_type": "code",
   "execution_count": 100,
   "id": "cbafdc25",
   "metadata": {},
   "outputs": [
    {
     "data": {
      "text/plain": [
       "array([[0.89555082, 0.39948505, 0.82765317, ..., 0.37341386, 0.92065987,\n",
       "        0.93093574],\n",
       "       [0.93839839, 0.9375594 , 0.96464442, ..., 0.89543641, 0.92957523,\n",
       "        0.90372005],\n",
       "       [0.84485325, 0.61869257, 0.29069847, ..., 0.77415711, 0.59217103,\n",
       "        0.74909978],\n",
       "       ...,\n",
       "       [0.99722985, 0.99365755, 0.99935993, ..., 0.99864375, 0.99834712,\n",
       "        0.99565011],\n",
       "       [0.99150834, 0.98766198, 0.99900711, ..., 0.99887296, 0.99827284,\n",
       "        0.99329103],\n",
       "       [0.99636859, 0.99343922, 0.9995277 , ..., 0.99764901, 0.99876394,\n",
       "        0.99561679]])"
      ]
     },
     "execution_count": 100,
     "metadata": {},
     "output_type": "execute_result"
    }
   ],
   "source": [
    "m.predict_proba(x_test)"
   ]
  },
  {
   "cell_type": "code",
   "execution_count": 86,
   "id": "979689e0",
   "metadata": {},
   "outputs": [
    {
     "data": {
      "text/plain": [
       "0.523"
      ]
     },
     "execution_count": 86,
     "metadata": {},
     "output_type": "execute_result"
    }
   ],
   "source": [
    "m.score(x_test, y_test)"
   ]
  },
  {
   "cell_type": "code",
   "execution_count": 34,
   "id": "098d5454",
   "metadata": {},
   "outputs": [],
   "source": [
    "def sigmoid(x):\n",
    "    return 1 / (1  +np.exp(-x))\n",
    "\n",
    "_logits = trace.get_values(\"coeff\") @ x + trace.get_values(\"intercept\")\n",
    "_probs = sigmoid(_logits)"
   ]
  },
  {
   "cell_type": "code",
   "execution_count": 39,
   "id": "25e63bab",
   "metadata": {},
   "outputs": [],
   "source": [
    "# _probs.mean(0)\n",
    "p = get_transition_matrix(X)\n",
    "p[y == 0] = 1 - p[y == 0]"
   ]
  },
  {
   "cell_type": "code",
   "execution_count": 45,
   "id": "6346c3a6",
   "metadata": {},
   "outputs": [
    {
     "data": {
      "text/plain": [
       "0.030666039388685742"
      ]
     },
     "execution_count": 45,
     "metadata": {},
     "output_type": "execute_result"
    }
   ],
   "source": [
    "np.abs(p - _probs).mean()"
   ]
  },
  {
   "cell_type": "code",
   "execution_count": 42,
   "id": "ec4546b9",
   "metadata": {},
   "outputs": [
    {
     "data": {
      "text/plain": [
       "array([[0.90487455, 0.83261763, 0.88835875, ..., 0.0805216 , 0.07967804,\n",
       "        0.02680979],\n",
       "       [0.88056956, 0.07555749, 0.89572934, ..., 0.06782037, 0.02925242,\n",
       "        0.02434201],\n",
       "       [0.85989208, 0.0751178 , 0.87834488, ..., 0.04794121, 0.03033189,\n",
       "        0.02429991],\n",
       "       ...,\n",
       "       [0.94569958, 0.95662365, 0.94413066, ..., 0.05919704, 0.02992929,\n",
       "        0.06117416],\n",
       "       [0.08696179, 0.87950657, 0.04931652, ..., 0.04798297, 0.02369857,\n",
       "        0.03239011],\n",
       "       [0.8435352 , 0.06157716, 0.86957611, ..., 0.09508116, 0.02627561,\n",
       "        0.03574856]])"
      ]
     },
     "execution_count": 42,
     "metadata": {},
     "output_type": "execute_result"
    }
   ],
   "source": [
    "_probs.mean(0)"
   ]
  },
  {
   "cell_type": "code",
   "execution_count": null,
   "id": "e94704c0",
   "metadata": {},
   "outputs": [],
   "source": []
  },
  {
   "cell_type": "code",
   "execution_count": 329,
   "id": "88f677ff",
   "metadata": {},
   "outputs": [],
   "source": [
    "p = \"../../scripts/duality/data/numerical-validation/glauber-large-meanfield/reconinfo.pkl\"\n",
    "reconinf = pd.read_pickle(p)"
   ]
  },
  {
   "cell_type": "code",
   "execution_count": 330,
   "id": "6e8cb8b7",
   "metadata": {},
   "outputs": [],
   "source": [
    "reconinfo = reconinf[\"glauber-large-meanfield\"]\n"
   ]
  },
  {
   "cell_type": "code",
   "execution_count": 331,
   "id": "11e28f51",
   "metadata": {},
   "outputs": [
    {
     "data": {
      "text/html": [
       "<div>\n",
       "<style scoped>\n",
       "    .dataframe tbody tr th:only-of-type {\n",
       "        vertical-align: middle;\n",
       "    }\n",
       "\n",
       "    .dataframe tbody tr th {\n",
       "        vertical-align: top;\n",
       "    }\n",
       "\n",
       "    .dataframe thead th {\n",
       "        text-align: right;\n",
       "    }\n",
       "</style>\n",
       "<table border=\"1\" class=\"dataframe\">\n",
       "  <thead>\n",
       "    <tr style=\"text-align: right;\">\n",
       "      <th></th>\n",
       "      <th>data_model.coupling</th>\n",
       "      <th>evidence-loc</th>\n",
       "      <th>evidence-scale</th>\n",
       "      <th>prior-loc</th>\n",
       "      <th>prior-scale</th>\n",
       "      <th>likelihood-loc</th>\n",
       "      <th>likelihood-scale</th>\n",
       "      <th>posterior-loc</th>\n",
       "      <th>posterior-scale</th>\n",
       "      <th>mutualinfo-loc</th>\n",
       "      <th>mutualinfo-scale</th>\n",
       "      <th>recon-loc</th>\n",
       "      <th>recon-scale</th>\n",
       "      <th>pred-loc</th>\n",
       "      <th>pred-scale</th>\n",
       "    </tr>\n",
       "  </thead>\n",
       "  <tbody>\n",
       "    <tr>\n",
       "      <th>0</th>\n",
       "      <td>0.000000</td>\n",
       "      <td>100002.554512</td>\n",
       "      <td>0.020096</td>\n",
       "      <td>1426.210632</td>\n",
       "      <td>0.0</td>\n",
       "      <td>100000.000000</td>\n",
       "      <td>0.000000</td>\n",
       "      <td>1423.656120</td>\n",
       "      <td>0.020096</td>\n",
       "      <td>2.554512</td>\n",
       "      <td>0.020096</td>\n",
       "      <td>0.001791</td>\n",
       "      <td>0.000014</td>\n",
       "      <td>0.000026</td>\n",
       "      <td>2.009461e-07</td>\n",
       "    </tr>\n",
       "    <tr>\n",
       "      <th>1</th>\n",
       "      <td>0.022222</td>\n",
       "      <td>99983.430294</td>\n",
       "      <td>5.162028</td>\n",
       "      <td>1426.210632</td>\n",
       "      <td>0.0</td>\n",
       "      <td>99816.246105</td>\n",
       "      <td>5.801821</td>\n",
       "      <td>1259.026443</td>\n",
       "      <td>1.007780</td>\n",
       "      <td>167.184189</td>\n",
       "      <td>1.007780</td>\n",
       "      <td>0.117223</td>\n",
       "      <td>0.000707</td>\n",
       "      <td>0.001672</td>\n",
       "      <td>9.993144e-06</td>\n",
       "    </tr>\n",
       "    <tr>\n",
       "      <th>2</th>\n",
       "      <td>0.044444</td>\n",
       "      <td>99851.850735</td>\n",
       "      <td>9.970163</td>\n",
       "      <td>1426.210632</td>\n",
       "      <td>0.0</td>\n",
       "      <td>99280.848079</td>\n",
       "      <td>12.710105</td>\n",
       "      <td>855.207976</td>\n",
       "      <td>3.655986</td>\n",
       "      <td>571.002656</td>\n",
       "      <td>3.655986</td>\n",
       "      <td>0.400363</td>\n",
       "      <td>0.002563</td>\n",
       "      <td>0.005718</td>\n",
       "      <td>3.604312e-05</td>\n",
       "    </tr>\n",
       "    <tr>\n",
       "      <th>3</th>\n",
       "      <td>0.066667</td>\n",
       "      <td>99370.208939</td>\n",
       "      <td>13.030286</td>\n",
       "      <td>1426.210632</td>\n",
       "      <td>0.0</td>\n",
       "      <td>98395.591262</td>\n",
       "      <td>15.522100</td>\n",
       "      <td>451.592955</td>\n",
       "      <td>2.997509</td>\n",
       "      <td>974.617677</td>\n",
       "      <td>2.997509</td>\n",
       "      <td>0.683362</td>\n",
       "      <td>0.002102</td>\n",
       "      <td>0.009808</td>\n",
       "      <td>2.887896e-05</td>\n",
       "    </tr>\n",
       "    <tr>\n",
       "      <th>4</th>\n",
       "      <td>0.088889</td>\n",
       "      <td>98389.717720</td>\n",
       "      <td>17.374540</td>\n",
       "      <td>1426.210632</td>\n",
       "      <td>0.0</td>\n",
       "      <td>97172.049200</td>\n",
       "      <td>18.662807</td>\n",
       "      <td>208.542113</td>\n",
       "      <td>2.339897</td>\n",
       "      <td>1217.668519</td>\n",
       "      <td>2.339897</td>\n",
       "      <td>0.853779</td>\n",
       "      <td>0.001641</td>\n",
       "      <td>0.012376</td>\n",
       "      <td>2.159646e-05</td>\n",
       "    </tr>\n",
       "    <tr>\n",
       "      <th>5</th>\n",
       "      <td>0.111111</td>\n",
       "      <td>96925.034775</td>\n",
       "      <td>29.020793</td>\n",
       "      <td>1426.210632</td>\n",
       "      <td>0.0</td>\n",
       "      <td>95616.934931</td>\n",
       "      <td>28.862718</td>\n",
       "      <td>118.110788</td>\n",
       "      <td>1.893630</td>\n",
       "      <td>1308.099844</td>\n",
       "      <td>1.893630</td>\n",
       "      <td>0.917186</td>\n",
       "      <td>0.001328</td>\n",
       "      <td>0.013496</td>\n",
       "      <td>1.549616e-05</td>\n",
       "    </tr>\n",
       "    <tr>\n",
       "      <th>6</th>\n",
       "      <td>0.133333</td>\n",
       "      <td>95001.141586</td>\n",
       "      <td>37.803101</td>\n",
       "      <td>1426.210632</td>\n",
       "      <td>0.0</td>\n",
       "      <td>93673.252922</td>\n",
       "      <td>36.280256</td>\n",
       "      <td>98.321968</td>\n",
       "      <td>1.884743</td>\n",
       "      <td>1327.888664</td>\n",
       "      <td>1.884743</td>\n",
       "      <td>0.931061</td>\n",
       "      <td>0.001322</td>\n",
       "      <td>0.013978</td>\n",
       "      <td>1.427716e-05</td>\n",
       "    </tr>\n",
       "    <tr>\n",
       "      <th>7</th>\n",
       "      <td>0.155556</td>\n",
       "      <td>92703.344709</td>\n",
       "      <td>44.909455</td>\n",
       "      <td>1426.210632</td>\n",
       "      <td>0.0</td>\n",
       "      <td>91368.730184</td>\n",
       "      <td>45.643312</td>\n",
       "      <td>91.596106</td>\n",
       "      <td>1.535896</td>\n",
       "      <td>1334.614526</td>\n",
       "      <td>1.535896</td>\n",
       "      <td>0.935777</td>\n",
       "      <td>0.001077</td>\n",
       "      <td>0.014397</td>\n",
       "      <td>9.593521e-06</td>\n",
       "    </tr>\n",
       "    <tr>\n",
       "      <th>8</th>\n",
       "      <td>0.177778</td>\n",
       "      <td>89750.647260</td>\n",
       "      <td>73.367737</td>\n",
       "      <td>1426.210632</td>\n",
       "      <td>0.0</td>\n",
       "      <td>88411.403060</td>\n",
       "      <td>74.481290</td>\n",
       "      <td>86.966433</td>\n",
       "      <td>1.608754</td>\n",
       "      <td>1339.244199</td>\n",
       "      <td>1.608754</td>\n",
       "      <td>0.939023</td>\n",
       "      <td>0.001128</td>\n",
       "      <td>0.014922</td>\n",
       "      <td>5.726671e-06</td>\n",
       "    </tr>\n",
       "    <tr>\n",
       "      <th>9</th>\n",
       "      <td>0.200000</td>\n",
       "      <td>85680.179248</td>\n",
       "      <td>124.804687</td>\n",
       "      <td>1426.210632</td>\n",
       "      <td>0.0</td>\n",
       "      <td>84332.884131</td>\n",
       "      <td>125.389215</td>\n",
       "      <td>78.915515</td>\n",
       "      <td>1.082366</td>\n",
       "      <td>1347.295117</td>\n",
       "      <td>1.082366</td>\n",
       "      <td>0.944668</td>\n",
       "      <td>0.000759</td>\n",
       "      <td>0.015725</td>\n",
       "      <td>1.027251e-05</td>\n",
       "    </tr>\n",
       "    <tr>\n",
       "      <th>10</th>\n",
       "      <td>0.242857</td>\n",
       "      <td>69755.273626</td>\n",
       "      <td>197.446573</td>\n",
       "      <td>1426.210632</td>\n",
       "      <td>0.0</td>\n",
       "      <td>68401.485542</td>\n",
       "      <td>197.350724</td>\n",
       "      <td>72.422547</td>\n",
       "      <td>1.176021</td>\n",
       "      <td>1353.788085</td>\n",
       "      <td>1.176021</td>\n",
       "      <td>0.949220</td>\n",
       "      <td>0.000825</td>\n",
       "      <td>0.019408</td>\n",
       "      <td>3.807539e-05</td>\n",
       "    </tr>\n",
       "    <tr>\n",
       "      <th>11</th>\n",
       "      <td>0.285714</td>\n",
       "      <td>53262.671430</td>\n",
       "      <td>173.925553</td>\n",
       "      <td>1426.210632</td>\n",
       "      <td>0.0</td>\n",
       "      <td>51997.089922</td>\n",
       "      <td>171.926594</td>\n",
       "      <td>160.629124</td>\n",
       "      <td>3.750229</td>\n",
       "      <td>1265.581508</td>\n",
       "      <td>3.750229</td>\n",
       "      <td>0.887373</td>\n",
       "      <td>0.002630</td>\n",
       "      <td>0.023761</td>\n",
       "      <td>7.180244e-06</td>\n",
       "    </tr>\n",
       "    <tr>\n",
       "      <th>12</th>\n",
       "      <td>0.328571</td>\n",
       "      <td>41315.484480</td>\n",
       "      <td>105.611919</td>\n",
       "      <td>1426.210632</td>\n",
       "      <td>0.0</td>\n",
       "      <td>40208.958450</td>\n",
       "      <td>101.591957</td>\n",
       "      <td>319.684602</td>\n",
       "      <td>7.574400</td>\n",
       "      <td>1106.526030</td>\n",
       "      <td>7.574400</td>\n",
       "      <td>0.775850</td>\n",
       "      <td>0.005311</td>\n",
       "      <td>0.026782</td>\n",
       "      <td>1.148689e-04</td>\n",
       "    </tr>\n",
       "    <tr>\n",
       "      <th>13</th>\n",
       "      <td>0.371429</td>\n",
       "      <td>32537.871906</td>\n",
       "      <td>108.767158</td>\n",
       "      <td>1426.210632</td>\n",
       "      <td>0.0</td>\n",
       "      <td>31589.114325</td>\n",
       "      <td>102.089049</td>\n",
       "      <td>477.453051</td>\n",
       "      <td>12.211256</td>\n",
       "      <td>948.757581</td>\n",
       "      <td>12.211256</td>\n",
       "      <td>0.665230</td>\n",
       "      <td>0.008562</td>\n",
       "      <td>0.029159</td>\n",
       "      <td>2.778228e-04</td>\n",
       "    </tr>\n",
       "    <tr>\n",
       "      <th>14</th>\n",
       "      <td>0.414286</td>\n",
       "      <td>25975.723649</td>\n",
       "      <td>89.850980</td>\n",
       "      <td>1426.210632</td>\n",
       "      <td>0.0</td>\n",
       "      <td>25167.214883</td>\n",
       "      <td>84.775248</td>\n",
       "      <td>617.701866</td>\n",
       "      <td>12.573464</td>\n",
       "      <td>808.508766</td>\n",
       "      <td>12.573464</td>\n",
       "      <td>0.566893</td>\n",
       "      <td>0.008816</td>\n",
       "      <td>0.031126</td>\n",
       "      <td>3.763823e-04</td>\n",
       "    </tr>\n",
       "    <tr>\n",
       "      <th>15</th>\n",
       "      <td>0.457143</td>\n",
       "      <td>21037.217530</td>\n",
       "      <td>79.395430</td>\n",
       "      <td>1426.210632</td>\n",
       "      <td>0.0</td>\n",
       "      <td>20352.720389</td>\n",
       "      <td>69.773539</td>\n",
       "      <td>741.713492</td>\n",
       "      <td>12.069201</td>\n",
       "      <td>684.497140</td>\n",
       "      <td>12.069201</td>\n",
       "      <td>0.479941</td>\n",
       "      <td>0.008462</td>\n",
       "      <td>0.032537</td>\n",
       "      <td>4.509093e-04</td>\n",
       "    </tr>\n",
       "    <tr>\n",
       "      <th>16</th>\n",
       "      <td>0.500000</td>\n",
       "      <td>17307.413817</td>\n",
       "      <td>86.513644</td>\n",
       "      <td>1426.210632</td>\n",
       "      <td>0.0</td>\n",
       "      <td>16704.317461</td>\n",
       "      <td>73.851119</td>\n",
       "      <td>823.114276</td>\n",
       "      <td>19.330511</td>\n",
       "      <td>603.096356</td>\n",
       "      <td>19.330511</td>\n",
       "      <td>0.422866</td>\n",
       "      <td>0.013554</td>\n",
       "      <td>0.034846</td>\n",
       "      <td>9.427085e-04</td>\n",
       "    </tr>\n",
       "    <tr>\n",
       "      <th>17</th>\n",
       "      <td>0.542857</td>\n",
       "      <td>14363.603916</td>\n",
       "      <td>91.835456</td>\n",
       "      <td>1426.210632</td>\n",
       "      <td>0.0</td>\n",
       "      <td>13832.591346</td>\n",
       "      <td>72.494602</td>\n",
       "      <td>895.198062</td>\n",
       "      <td>21.355766</td>\n",
       "      <td>531.012571</td>\n",
       "      <td>21.355766</td>\n",
       "      <td>0.372324</td>\n",
       "      <td>0.014974</td>\n",
       "      <td>0.036969</td>\n",
       "      <td>1.250429e-03</td>\n",
       "    </tr>\n",
       "    <tr>\n",
       "      <th>18</th>\n",
       "      <td>0.585714</td>\n",
       "      <td>12061.535845</td>\n",
       "      <td>71.083105</td>\n",
       "      <td>1426.210632</td>\n",
       "      <td>0.0</td>\n",
       "      <td>11592.260567</td>\n",
       "      <td>58.008347</td>\n",
       "      <td>956.935354</td>\n",
       "      <td>19.068489</td>\n",
       "      <td>469.275278</td>\n",
       "      <td>19.068489</td>\n",
       "      <td>0.329036</td>\n",
       "      <td>0.013370</td>\n",
       "      <td>0.038907</td>\n",
       "      <td>1.351642e-03</td>\n",
       "    </tr>\n",
       "    <tr>\n",
       "      <th>19</th>\n",
       "      <td>0.628571</td>\n",
       "      <td>10262.277874</td>\n",
       "      <td>77.824742</td>\n",
       "      <td>1426.210632</td>\n",
       "      <td>0.0</td>\n",
       "      <td>9834.426518</td>\n",
       "      <td>63.040393</td>\n",
       "      <td>998.359276</td>\n",
       "      <td>22.131652</td>\n",
       "      <td>427.851356</td>\n",
       "      <td>22.131652</td>\n",
       "      <td>0.299992</td>\n",
       "      <td>0.015518</td>\n",
       "      <td>0.041692</td>\n",
       "      <td>1.840431e-03</td>\n",
       "    </tr>\n",
       "    <tr>\n",
       "      <th>20</th>\n",
       "      <td>0.671429</td>\n",
       "      <td>8880.050797</td>\n",
       "      <td>78.013293</td>\n",
       "      <td>1426.210632</td>\n",
       "      <td>0.0</td>\n",
       "      <td>8477.966073</td>\n",
       "      <td>60.363764</td>\n",
       "      <td>1024.125908</td>\n",
       "      <td>24.398919</td>\n",
       "      <td>402.084724</td>\n",
       "      <td>24.398919</td>\n",
       "      <td>0.281925</td>\n",
       "      <td>0.017108</td>\n",
       "      <td>0.045280</td>\n",
       "      <td>2.349819e-03</td>\n",
       "    </tr>\n",
       "    <tr>\n",
       "      <th>21</th>\n",
       "      <td>0.714286</td>\n",
       "      <td>7695.820020</td>\n",
       "      <td>93.104349</td>\n",
       "      <td>1426.210632</td>\n",
       "      <td>0.0</td>\n",
       "      <td>7328.564216</td>\n",
       "      <td>67.003722</td>\n",
       "      <td>1058.954828</td>\n",
       "      <td>24.397544</td>\n",
       "      <td>367.255804</td>\n",
       "      <td>24.397544</td>\n",
       "      <td>0.257505</td>\n",
       "      <td>0.017107</td>\n",
       "      <td>0.047721</td>\n",
       "      <td>2.592897e-03</td>\n",
       "    </tr>\n",
       "    <tr>\n",
       "      <th>22</th>\n",
       "      <td>0.757143</td>\n",
       "      <td>6798.839274</td>\n",
       "      <td>78.633462</td>\n",
       "      <td>1426.210632</td>\n",
       "      <td>0.0</td>\n",
       "      <td>6444.036359</td>\n",
       "      <td>58.837284</td>\n",
       "      <td>1071.407717</td>\n",
       "      <td>23.669300</td>\n",
       "      <td>354.802915</td>\n",
       "      <td>23.669300</td>\n",
       "      <td>0.248773</td>\n",
       "      <td>0.016596</td>\n",
       "      <td>0.052186</td>\n",
       "      <td>2.877807e-03</td>\n",
       "    </tr>\n",
       "    <tr>\n",
       "      <th>23</th>\n",
       "      <td>0.800000</td>\n",
       "      <td>6076.672151</td>\n",
       "      <td>96.079609</td>\n",
       "      <td>1426.210632</td>\n",
       "      <td>0.0</td>\n",
       "      <td>5720.616987</td>\n",
       "      <td>63.691455</td>\n",
       "      <td>1070.155468</td>\n",
       "      <td>35.651298</td>\n",
       "      <td>356.055164</td>\n",
       "      <td>35.651298</td>\n",
       "      <td>0.249651</td>\n",
       "      <td>0.024997</td>\n",
       "      <td>0.058594</td>\n",
       "      <td>4.940472e-03</td>\n",
       "    </tr>\n",
       "  </tbody>\n",
       "</table>\n",
       "</div>"
      ],
      "text/plain": [
       "    data_model.coupling   evidence-loc  evidence-scale    prior-loc  \\\n",
       "0              0.000000  100002.554512        0.020096  1426.210632   \n",
       "1              0.022222   99983.430294        5.162028  1426.210632   \n",
       "2              0.044444   99851.850735        9.970163  1426.210632   \n",
       "3              0.066667   99370.208939       13.030286  1426.210632   \n",
       "4              0.088889   98389.717720       17.374540  1426.210632   \n",
       "5              0.111111   96925.034775       29.020793  1426.210632   \n",
       "6              0.133333   95001.141586       37.803101  1426.210632   \n",
       "7              0.155556   92703.344709       44.909455  1426.210632   \n",
       "8              0.177778   89750.647260       73.367737  1426.210632   \n",
       "9              0.200000   85680.179248      124.804687  1426.210632   \n",
       "10             0.242857   69755.273626      197.446573  1426.210632   \n",
       "11             0.285714   53262.671430      173.925553  1426.210632   \n",
       "12             0.328571   41315.484480      105.611919  1426.210632   \n",
       "13             0.371429   32537.871906      108.767158  1426.210632   \n",
       "14             0.414286   25975.723649       89.850980  1426.210632   \n",
       "15             0.457143   21037.217530       79.395430  1426.210632   \n",
       "16             0.500000   17307.413817       86.513644  1426.210632   \n",
       "17             0.542857   14363.603916       91.835456  1426.210632   \n",
       "18             0.585714   12061.535845       71.083105  1426.210632   \n",
       "19             0.628571   10262.277874       77.824742  1426.210632   \n",
       "20             0.671429    8880.050797       78.013293  1426.210632   \n",
       "21             0.714286    7695.820020       93.104349  1426.210632   \n",
       "22             0.757143    6798.839274       78.633462  1426.210632   \n",
       "23             0.800000    6076.672151       96.079609  1426.210632   \n",
       "\n",
       "    prior-scale  likelihood-loc  likelihood-scale  posterior-loc  \\\n",
       "0           0.0   100000.000000          0.000000    1423.656120   \n",
       "1           0.0    99816.246105          5.801821    1259.026443   \n",
       "2           0.0    99280.848079         12.710105     855.207976   \n",
       "3           0.0    98395.591262         15.522100     451.592955   \n",
       "4           0.0    97172.049200         18.662807     208.542113   \n",
       "5           0.0    95616.934931         28.862718     118.110788   \n",
       "6           0.0    93673.252922         36.280256      98.321968   \n",
       "7           0.0    91368.730184         45.643312      91.596106   \n",
       "8           0.0    88411.403060         74.481290      86.966433   \n",
       "9           0.0    84332.884131        125.389215      78.915515   \n",
       "10          0.0    68401.485542        197.350724      72.422547   \n",
       "11          0.0    51997.089922        171.926594     160.629124   \n",
       "12          0.0    40208.958450        101.591957     319.684602   \n",
       "13          0.0    31589.114325        102.089049     477.453051   \n",
       "14          0.0    25167.214883         84.775248     617.701866   \n",
       "15          0.0    20352.720389         69.773539     741.713492   \n",
       "16          0.0    16704.317461         73.851119     823.114276   \n",
       "17          0.0    13832.591346         72.494602     895.198062   \n",
       "18          0.0    11592.260567         58.008347     956.935354   \n",
       "19          0.0     9834.426518         63.040393     998.359276   \n",
       "20          0.0     8477.966073         60.363764    1024.125908   \n",
       "21          0.0     7328.564216         67.003722    1058.954828   \n",
       "22          0.0     6444.036359         58.837284    1071.407717   \n",
       "23          0.0     5720.616987         63.691455    1070.155468   \n",
       "\n",
       "    posterior-scale  mutualinfo-loc  mutualinfo-scale  recon-loc  recon-scale  \\\n",
       "0          0.020096        2.554512          0.020096   0.001791     0.000014   \n",
       "1          1.007780      167.184189          1.007780   0.117223     0.000707   \n",
       "2          3.655986      571.002656          3.655986   0.400363     0.002563   \n",
       "3          2.997509      974.617677          2.997509   0.683362     0.002102   \n",
       "4          2.339897     1217.668519          2.339897   0.853779     0.001641   \n",
       "5          1.893630     1308.099844          1.893630   0.917186     0.001328   \n",
       "6          1.884743     1327.888664          1.884743   0.931061     0.001322   \n",
       "7          1.535896     1334.614526          1.535896   0.935777     0.001077   \n",
       "8          1.608754     1339.244199          1.608754   0.939023     0.001128   \n",
       "9          1.082366     1347.295117          1.082366   0.944668     0.000759   \n",
       "10         1.176021     1353.788085          1.176021   0.949220     0.000825   \n",
       "11         3.750229     1265.581508          3.750229   0.887373     0.002630   \n",
       "12         7.574400     1106.526030          7.574400   0.775850     0.005311   \n",
       "13        12.211256      948.757581         12.211256   0.665230     0.008562   \n",
       "14        12.573464      808.508766         12.573464   0.566893     0.008816   \n",
       "15        12.069201      684.497140         12.069201   0.479941     0.008462   \n",
       "16        19.330511      603.096356         19.330511   0.422866     0.013554   \n",
       "17        21.355766      531.012571         21.355766   0.372324     0.014974   \n",
       "18        19.068489      469.275278         19.068489   0.329036     0.013370   \n",
       "19        22.131652      427.851356         22.131652   0.299992     0.015518   \n",
       "20        24.398919      402.084724         24.398919   0.281925     0.017108   \n",
       "21        24.397544      367.255804         24.397544   0.257505     0.017107   \n",
       "22        23.669300      354.802915         23.669300   0.248773     0.016596   \n",
       "23        35.651298      356.055164         35.651298   0.249651     0.024997   \n",
       "\n",
       "    pred-loc    pred-scale  \n",
       "0   0.000026  2.009461e-07  \n",
       "1   0.001672  9.993144e-06  \n",
       "2   0.005718  3.604312e-05  \n",
       "3   0.009808  2.887896e-05  \n",
       "4   0.012376  2.159646e-05  \n",
       "5   0.013496  1.549616e-05  \n",
       "6   0.013978  1.427716e-05  \n",
       "7   0.014397  9.593521e-06  \n",
       "8   0.014922  5.726671e-06  \n",
       "9   0.015725  1.027251e-05  \n",
       "10  0.019408  3.807539e-05  \n",
       "11  0.023761  7.180244e-06  \n",
       "12  0.026782  1.148689e-04  \n",
       "13  0.029159  2.778228e-04  \n",
       "14  0.031126  3.763823e-04  \n",
       "15  0.032537  4.509093e-04  \n",
       "16  0.034846  9.427085e-04  \n",
       "17  0.036969  1.250429e-03  \n",
       "18  0.038907  1.351642e-03  \n",
       "19  0.041692  1.840431e-03  \n",
       "20  0.045280  2.349819e-03  \n",
       "21  0.047721  2.592897e-03  \n",
       "22  0.052186  2.877807e-03  \n",
       "23  0.058594  4.940472e-03  "
      ]
     },
     "execution_count": 331,
     "metadata": {},
     "output_type": "execute_result"
    }
   ],
   "source": [
    "reconinfo"
   ]
  },
  {
   "cell_type": "code",
   "execution_count": 389,
   "id": "425864d8",
   "metadata": {},
   "outputs": [],
   "source": [
    "\n",
    "G = graphinf.graph.ErdosRenyiModel(100, 250, loopy=False, multigraph=False)\n",
    "X = graphinf.data.dynamics.GlauberDynamics(G, coupling=1, length=200)\n"
   ]
  },
  {
   "cell_type": "code",
   "execution_count": null,
   "id": "e44f931f",
   "metadata": {},
   "outputs": [],
   "source": []
  },
  {
   "cell_type": "code",
   "execution_count": null,
   "id": "e814ca93",
   "metadata": {},
   "outputs": [],
   "source": []
  },
  {
   "cell_type": "code",
   "execution_count": null,
   "id": "e9886893",
   "metadata": {},
   "outputs": [],
   "source": []
  },
  {
   "cell_type": "code",
   "execution_count": 504,
   "id": "9d897aa0",
   "metadata": {},
   "outputs": [],
   "source": [
    "from sklearn.neural_network import MLPClassifier\n",
    "\n",
    "G = graphinf.graph.ErdosRenyiModel(50, 100, loopy=False, multigraph=False)\n",
    "X = graphinf.data.dynamics.GlauberDynamics(G, coupling=1, length=200)\n",
    "\n",
    "with_graph = False\n",
    "x, y = [], []\n",
    "n_samples = 100\n",
    "for _ in range(n_samples):\n",
    "    X.sample()\n",
    "    if with_graph:\n",
    "        a = np.array(G.get_state().get_adjacency_matrix(True)).flatten()\n",
    "        x.append(np.concatenate([X.get_past_states(), a.reshape(-1, 1).repeat(200, 1)], axis=0))\n",
    "    else:\n",
    "        x.append(X.get_past_states())\n",
    "    y.append(X.get_future_states())\n",
    "x_train = np.array(x).transpose(0, 2, 1).reshape(X.get_length() * n_samples, -1)\n",
    "y_train = np.array(y).transpose(0, 2, 1).reshape(X.get_length() * n_samples, -1)\n",
    "\n",
    "\n",
    "X.sample()\n",
    "if with_graph:\n",
    "    a = np.array(G.get_state().get_adjacency_matrix(True)).flatten()\n",
    "    x_test = np.concatenate([X.get_past_states(), a.reshape(-1, 1).repeat(200, 1)], axis=0).T\n",
    "else:\n",
    "    x_test = np.array(X.get_past_states()).T\n",
    "y_test = np.array(X.get_future_states()).T\n",
    "p_test = get_transition_matrix(X).T\n",
    "p[y_test==0] = 1 - p[y_test==0]\n"
   ]
  },
  {
   "cell_type": "code",
   "execution_count": 505,
   "id": "8cffe9d5",
   "metadata": {},
   "outputs": [
    {
     "name": "stdout",
     "output_type": "stream",
     "text": [
      "Training sizes:  (20000, 50) (20000, 50)\n",
      "Predicted log-likelihood:  -1139.96406304722\n",
      "true log-likelihood:  -7852.789073273383\n"
     ]
    }
   ],
   "source": [
    "m = MLPClassifier()\n",
    "print(\"Training sizes: \", x_train.shape, y_train.shape)\n",
    "m.fit(x_train, y_train)\n",
    "\n",
    "pred = m.predict_proba(x_test)\n",
    "print(\"Predicted log-likelihood: \", np.log(pred[y_test==1]).sum() + np.log(1 - pred[y_test==0]).sum())\n",
    "print(\"true log-likelihood: \", np.log(p[y_test==1]).sum() + np.log(1 - p[y_test==0]).sum())"
   ]
  },
  {
   "cell_type": "code",
   "execution_count": 502,
   "id": "c71183f9",
   "metadata": {},
   "outputs": [],
   "source": [
    "from sklearn.neural_network import MLPClassifier\n",
    "\n",
    "G = graphinf.graph.ErdosRenyiModel(50, 100, loopy=False, multigraph=False)\n",
    "X = graphinf.data.dynamics.GlauberDynamics(G, coupling=1, length=200)\n",
    "\n",
    "with_graph = True\n",
    "x, y = [], []\n",
    "n_samples = 100\n",
    "for _ in range(n_samples):\n",
    "    X.sample()\n",
    "    if with_graph:\n",
    "        a = np.array(G.get_state().get_adjacency_matrix(True)).flatten()\n",
    "        x.append(np.concatenate([X.get_past_states(), a.reshape(-1, 1).repeat(200, 1)], axis=0))\n",
    "    else:\n",
    "        x.append(X.get_past_states())\n",
    "    y.append(X.get_future_states())\n",
    "x_train = np.array(x).transpose(0, 2, 1).reshape(X.get_length() * n_samples, -1)\n",
    "y_train = np.array(y).transpose(0, 2, 1).reshape(X.get_length() * n_samples, -1)\n",
    "\n",
    "\n",
    "X.sample()\n",
    "if with_graph:\n",
    "    a = np.array(G.get_state().get_adjacency_matrix(True)).flatten()\n",
    "    x_test = np.concatenate([X.get_past_states(), a.reshape(-1, 1).repeat(200, 1)], axis=0).T\n",
    "else:\n",
    "    x_test = np.array(X.get_past_states()).T\n",
    "y_test = np.array(X.get_future_states()).T\n",
    "p_test = get_transition_matrix(X).T\n",
    "p[y_test==0] = 1 - p[y_test==0]\n"
   ]
  },
  {
   "cell_type": "code",
   "execution_count": 503,
   "id": "e0fe1d0d",
   "metadata": {},
   "outputs": [
    {
     "name": "stdout",
     "output_type": "stream",
     "text": [
      "Training sizes:  (20000, 2550) (20000, 50)\n",
      "Predicted log-likelihood:  -4659.2413971641045\n",
      "true log-likelihood:  -3506.7890732555306\n"
     ]
    }
   ],
   "source": [
    "m = MLPClassifier()\n",
    "print(\"Training sizes: \", x_train.shape, y_train.shape)\n",
    "m.fit(x_train, y_train)\n",
    "\n",
    "pred = m.predict_proba(x_test)\n",
    "print(\"Predicted log-likelihood: \", np.log(pred[y_test==1]).sum() + np.log(1 - pred[y_test==0]).sum())\n",
    "print(\"true log-likelihood: \", np.log(p[y_test==1]).sum() + np.log(1 - p[y_test==0]).sum())"
   ]
  },
  {
   "cell_type": "code",
   "execution_count": 495,
   "id": "8e0f2438",
   "metadata": {},
   "outputs": [
    {
     "data": {
      "text/plain": [
       "-993.3476276027639"
      ]
     },
     "execution_count": 495,
     "metadata": {},
     "output_type": "execute_result"
    }
   ],
   "source": [
    "np.log(pred[y_test==1]).sum() + np.log(1 - pred[y_test==0]).sum()"
   ]
  },
  {
   "cell_type": "code",
   "execution_count": 496,
   "id": "752f6bf5",
   "metadata": {},
   "outputs": [
    {
     "data": {
      "text/plain": [
       "-464.7890732554675"
      ]
     },
     "execution_count": 496,
     "metadata": {},
     "output_type": "execute_result"
    }
   ],
   "source": [
    "np.log(p[y_test==1]).sum() + np.log(1 - p[y_test==0]).sum()"
   ]
  },
  {
   "cell_type": "code",
   "execution_count": 380,
   "id": "79bcad48",
   "metadata": {},
   "outputs": [
    {
     "data": {
      "text/plain": [
       "array([[0.5       , 0.5       , 0.5       , 0.5       , 0.5       ,\n",
       "        0.5       , 0.5       , 0.5       , 0.5       , 0.5       ,\n",
       "        0.5       , 0.5       , 0.5       , 0.5       , 0.5       ,\n",
       "        0.5       , 0.5       , 0.5       , 0.5       , 0.5       ],\n",
       "       [0.73105858, 0.73105858, 0.73105858, 0.73105858, 0.73105858,\n",
       "        0.73105858, 0.95257413, 0.95257413, 0.73105858, 0.95257413,\n",
       "        0.95257413, 0.95257413, 0.95257413, 0.04742587, 0.95257413,\n",
       "        0.73105858, 0.95257413, 0.73105858, 0.73105858, 0.95257413],\n",
       "       [0.73105858, 0.73105858, 0.73105858, 0.73105858, 0.73105858,\n",
       "        0.73105858, 0.95257413, 0.95257413, 0.73105858, 0.95257413,\n",
       "        0.95257413, 0.95257413, 0.95257413, 0.95257413, 0.73105858,\n",
       "        0.26894142, 0.73105858, 0.73105858, 0.73105858, 0.95257413],\n",
       "       [0.88079708, 0.88079708, 0.88079708, 0.88079708, 0.88079708,\n",
       "        0.88079708, 0.88079708, 0.88079708, 0.88079708, 0.88079708,\n",
       "        0.88079708, 0.88079708, 0.88079708, 0.88079708, 0.5       ,\n",
       "        0.88079708, 0.5       , 0.11920292, 0.88079708, 0.88079708],\n",
       "       [0.88079708, 0.88079708, 0.88079708, 0.88079708, 0.11920292,\n",
       "        0.88079708, 0.88079708, 0.11920292, 0.88079708, 0.88079708,\n",
       "        0.88079708, 0.88079708, 0.88079708, 0.88079708, 0.5       ,\n",
       "        0.88079708, 0.5       , 0.88079708, 0.88079708, 0.88079708]])"
      ]
     },
     "execution_count": 380,
     "metadata": {},
     "output_type": "execute_result"
    }
   ],
   "source": [
    "P"
   ]
  },
  {
   "cell_type": "code",
   "execution_count": 379,
   "id": "61d474d4",
   "metadata": {},
   "outputs": [
    {
     "data": {
      "text/plain": [
       "array([[3.20281973e-01, 2.25119104e-01, 5.72072266e-01, ...,\n",
       "        6.94498111e-02, 4.63297891e-02, 8.12453408e-02],\n",
       "       [3.91796711e-01, 2.12800941e-01, 6.60069015e-01, ...,\n",
       "        9.24396578e-03, 3.45611374e-03, 9.70738867e-03],\n",
       "       [1.34700114e-01, 8.75849789e-01, 2.63413955e-02, ...,\n",
       "        7.88971809e-04, 3.46417668e-04, 1.28208163e-03],\n",
       "       ...,\n",
       "       [1.22573477e-01, 9.59987790e-01, 4.43539140e-02, ...,\n",
       "        2.26949913e-04, 3.53450751e-05, 3.69289909e-04],\n",
       "       [8.23368767e-01, 4.22805356e-02, 9.49495097e-01, ...,\n",
       "        1.56857972e-03, 5.02760240e-04, 7.56635992e-04],\n",
       "       [1.70793762e-01, 7.98275741e-01, 8.46362210e-02, ...,\n",
       "        1.65569199e-02, 8.10088925e-03, 2.33082827e-02]])"
      ]
     },
     "execution_count": 379,
     "metadata": {},
     "output_type": "execute_result"
    }
   ],
   "source": [
    "m.predict_proba(x)"
   ]
  },
  {
   "cell_type": "code",
   "execution_count": 382,
   "id": "7b001276",
   "metadata": {},
   "outputs": [],
   "source": [
    "from sklearn.neural_network import MLPClassifier\n",
    "from sklearn.metrics import roc_auc_score"
   ]
  },
  {
   "cell_type": "code",
   "execution_count": 383,
   "id": "c36cde83",
   "metadata": {},
   "outputs": [
    {
     "name": "stdout",
     "output_type": "stream",
     "text": [
      "With G:  0.9667865546858487\n",
      "Without G:  0.5555520088883215\n"
     ]
    }
   ],
   "source": [
    "nn_with_g = MLPClassifier()\n",
    "nn_without_g = MLPClassifier()\n",
    "\n",
    "nn_with_g.fit(x_with_g, y)\n",
    "print(\"With G: \", roc_auc_score(y.flatten(), nn_with_g.predict_proba(x_with_g).flatten()))\n",
    "\n",
    "nn_without_g.fit(x_without_g, y)\n",
    "print(\"Without G: \", roc_auc_score(y.flatten(), nn_without_g.predict_proba(x_without_g).flatten()))\n"
   ]
  },
  {
   "cell_type": "code",
   "execution_count": 354,
   "id": "ad2fbf94",
   "metadata": {},
   "outputs": [
    {
     "data": {
      "text/plain": [
       "array([[0, 0, 0, ..., 0, 0, 0],\n",
       "       [0, 0, 0, ..., 0, 0, 0],\n",
       "       [0, 0, 0, ..., 0, 0, 0],\n",
       "       ...,\n",
       "       [0, 0, 0, ..., 0, 0, 0],\n",
       "       [0, 0, 0, ..., 0, 0, 0],\n",
       "       [0, 0, 0, ..., 0, 0, 0]])"
      ]
     },
     "execution_count": 354,
     "metadata": {},
     "output_type": "execute_result"
    }
   ],
   "source": []
  },
  {
   "cell_type": "code",
   "execution_count": 248,
   "id": "1be79170",
   "metadata": {},
   "outputs": [
    {
     "ename": "ValueError",
     "evalue": "Classification metrics can't handle a mix of binary and continuous targets",
     "output_type": "error",
     "traceback": [
      "\u001b[0;31m---------------------------------------------------------------------------\u001b[0m",
      "\u001b[0;31mValueError\u001b[0m                                Traceback (most recent call last)",
      "Cell \u001b[0;32mIn [248], line 2\u001b[0m\n\u001b[1;32m      1\u001b[0m pred \u001b[38;5;241m=\u001b[39m nn\u001b[38;5;241m.\u001b[39mpredict_proba(x)\u001b[38;5;241m.\u001b[39mflatten()\n\u001b[0;32m----> 2\u001b[0m \u001b[43mclassification_report\u001b[49m\u001b[43m(\u001b[49m\u001b[43my\u001b[49m\u001b[38;5;241;43m.\u001b[39;49m\u001b[43mflatten\u001b[49m\u001b[43m(\u001b[49m\u001b[43m)\u001b[49m\u001b[38;5;241;43m.\u001b[39;49m\u001b[43mastype\u001b[49m\u001b[43m(\u001b[49m\u001b[38;5;124;43m\"\u001b[39;49m\u001b[38;5;124;43mint\u001b[39;49m\u001b[38;5;124;43m\"\u001b[39;49m\u001b[43m)\u001b[49m\u001b[43m,\u001b[49m\u001b[43m \u001b[49m\u001b[43mpred\u001b[49m\u001b[43m)\u001b[49m\n",
      "File \u001b[0;32m~/miniconda3/envs/midynet-env/lib/python3.10/site-packages/sklearn/metrics/_classification.py:2132\u001b[0m, in \u001b[0;36mclassification_report\u001b[0;34m(y_true, y_pred, labels, target_names, sample_weight, digits, output_dict, zero_division)\u001b[0m\n\u001b[1;32m   2017\u001b[0m \u001b[38;5;28;01mdef\u001b[39;00m \u001b[38;5;21mclassification_report\u001b[39m(\n\u001b[1;32m   2018\u001b[0m     y_true,\n\u001b[1;32m   2019\u001b[0m     y_pred,\n\u001b[0;32m   (...)\u001b[0m\n\u001b[1;32m   2026\u001b[0m     zero_division\u001b[38;5;241m=\u001b[39m\u001b[38;5;124m\"\u001b[39m\u001b[38;5;124mwarn\u001b[39m\u001b[38;5;124m\"\u001b[39m,\n\u001b[1;32m   2027\u001b[0m ):\n\u001b[1;32m   2028\u001b[0m     \u001b[38;5;124;03m\"\"\"Build a text report showing the main classification metrics.\u001b[39;00m\n\u001b[1;32m   2029\u001b[0m \n\u001b[1;32m   2030\u001b[0m \u001b[38;5;124;03m    Read more in the :ref:`User Guide <classification_report>`.\u001b[39;00m\n\u001b[0;32m   (...)\u001b[0m\n\u001b[1;32m   2129\u001b[0m \u001b[38;5;124;03m    <BLANKLINE>\u001b[39;00m\n\u001b[1;32m   2130\u001b[0m \u001b[38;5;124;03m    \"\"\"\u001b[39;00m\n\u001b[0;32m-> 2132\u001b[0m     y_type, y_true, y_pred \u001b[38;5;241m=\u001b[39m \u001b[43m_check_targets\u001b[49m\u001b[43m(\u001b[49m\u001b[43my_true\u001b[49m\u001b[43m,\u001b[49m\u001b[43m \u001b[49m\u001b[43my_pred\u001b[49m\u001b[43m)\u001b[49m\n\u001b[1;32m   2134\u001b[0m     \u001b[38;5;28;01mif\u001b[39;00m labels \u001b[38;5;129;01mis\u001b[39;00m \u001b[38;5;28;01mNone\u001b[39;00m:\n\u001b[1;32m   2135\u001b[0m         labels \u001b[38;5;241m=\u001b[39m unique_labels(y_true, y_pred)\n",
      "File \u001b[0;32m~/miniconda3/envs/midynet-env/lib/python3.10/site-packages/sklearn/metrics/_classification.py:93\u001b[0m, in \u001b[0;36m_check_targets\u001b[0;34m(y_true, y_pred)\u001b[0m\n\u001b[1;32m     90\u001b[0m     y_type \u001b[38;5;241m=\u001b[39m {\u001b[38;5;124m\"\u001b[39m\u001b[38;5;124mmulticlass\u001b[39m\u001b[38;5;124m\"\u001b[39m}\n\u001b[1;32m     92\u001b[0m \u001b[38;5;28;01mif\u001b[39;00m \u001b[38;5;28mlen\u001b[39m(y_type) \u001b[38;5;241m>\u001b[39m \u001b[38;5;241m1\u001b[39m:\n\u001b[0;32m---> 93\u001b[0m     \u001b[38;5;28;01mraise\u001b[39;00m \u001b[38;5;167;01mValueError\u001b[39;00m(\n\u001b[1;32m     94\u001b[0m         \u001b[38;5;124m\"\u001b[39m\u001b[38;5;124mClassification metrics can\u001b[39m\u001b[38;5;124m'\u001b[39m\u001b[38;5;124mt handle a mix of \u001b[39m\u001b[38;5;132;01m{0}\u001b[39;00m\u001b[38;5;124m and \u001b[39m\u001b[38;5;132;01m{1}\u001b[39;00m\u001b[38;5;124m targets\u001b[39m\u001b[38;5;124m\"\u001b[39m\u001b[38;5;241m.\u001b[39mformat(\n\u001b[1;32m     95\u001b[0m             type_true, type_pred\n\u001b[1;32m     96\u001b[0m         )\n\u001b[1;32m     97\u001b[0m     )\n\u001b[1;32m     99\u001b[0m \u001b[38;5;66;03m# We can't have more than one value on y_type => The set is no more needed\u001b[39;00m\n\u001b[1;32m    100\u001b[0m y_type \u001b[38;5;241m=\u001b[39m y_type\u001b[38;5;241m.\u001b[39mpop()\n",
      "\u001b[0;31mValueError\u001b[0m: Classification metrics can't handle a mix of binary and continuous targets"
     ]
    }
   ],
   "source": [
    "pred = nn.predict_proba(x).flatten()\n",
    "classification_report(y.flatten().astype(\"int\"), pred)"
   ]
  },
  {
   "cell_type": "code",
   "execution_count": 1,
   "id": "8169dd69",
   "metadata": {},
   "outputs": [],
   "source": [
    "import midynet, graphinf, matplotlib.pyplot as plt, numpy as np, pandas as pd, seaborn as sns\n",
    "\n",
    "from scipy.linalg import det\n",
    "from tqdm import notebook as tqdm\n",
    "from collections import defaultdict"
   ]
  },
  {
   "cell_type": "code",
   "execution_count": 19,
   "id": "bb0045b2",
   "metadata": {},
   "outputs": [
    {
     "data": {
      "application/vnd.jupyter.widget-view+json": {
       "model_id": "83b6d4ada54b4e4d8121cc7cb4fb367e",
       "version_major": 2,
       "version_minor": 0
      },
      "text/plain": [
       "  0%|          | 0/20 [00:00<?, ?it/s]"
      ]
     },
     "metadata": {},
     "output_type": "display_data"
    },
    {
     "name": "stdout",
     "output_type": "stream",
     "text": [
      "0.0 -0.7777777777777778\n",
      "0.21052631578947367 0.09810713918156268\n",
      "0.42105263157894735 0.2932098952546853\n",
      "0.631578947368421 0.5769900788909644\n",
      "0.8421052631578947 0.8425207584410466\n",
      "1.0526315789473684 0.8249728516290957\n",
      "1.263157894736842 0.8558970350244874\n",
      "1.4736842105263157 0.8936022917821046\n",
      "1.6842105263157894 0.8857820983821101\n",
      "1.894736842105263 0.8961242519113013\n",
      "2.1052631578947367 0.9461013710091961\n",
      "2.3157894736842106 0.911009046472751\n",
      "2.526315789473684 0.9514568152903421\n",
      "2.7368421052631575 0.975378393036187\n",
      "2.9473684210526314 0.9768047313109338\n",
      "3.1578947368421053 0.9927665752507626\n",
      "3.3684210526315788 0.9824025917579998\n",
      "3.578947368421052 0.9952803050031767\n",
      "3.789473684210526 0.9890544038291201\n",
      "4.0 0.9961476450480308\n"
     ]
    }
   ],
   "source": [
    "N, M = 100, 250\n",
    "\n",
    "sobol = []\n",
    "J = np.linspace(0, 4, 20)\n",
    "g = graphinf.graph.ErdosRenyiModel(N, M, with_self_loops=False, with_parallel_edges=False)\n",
    "\n",
    "for _J in tqdm.tqdm(J):\n",
    "    x = graphinf.data.dynamics.GlauberDynamics(g, coupling=_J, length=50)\n",
    "\n",
    "    n_samples = 20\n",
    "    samples_v0 = []\n",
    "    samples_v1 = []\n",
    "    for _ in range(n_samples):\n",
    "        x.sample_prior()\n",
    "        s = []\n",
    "        x.sample_state(1)\n",
    "        x0 = x.get_state()\n",
    "        for _ in  range(100):\n",
    "            x.sample_state(x0)\n",
    "            s.append(x.get_log_likelihood())\n",
    "            samples_v1.append(x.get_log_likelihood())\n",
    "        samples_v0.append(np.var(s))\n",
    "        \n",
    "    v0 = np.mean(samples_v0)\n",
    "    v1 = np.var(samples_v1)\n",
    "    sobol.append((v1 - v0)/v1)\n",
    "    print(_J, sobol[-1])\n"
   ]
  },
  {
   "cell_type": "code",
   "execution_count": 21,
   "id": "7e0e2837",
   "metadata": {},
   "outputs": [
    {
     "data": {
      "text/plain": [
       "[<matplotlib.lines.Line2D at 0x168441930>]"
      ]
     },
     "execution_count": 21,
     "metadata": {},
     "output_type": "execute_result"
    },
    {
     "data": {
      "image/png": "[encoded data removed]",
      "text/plain": [
       "<Figure size 640x480 with 1 Axes>"
      ]
     },
     "metadata": {},
     "output_type": "display_data"
    }
   ],
   "source": [
    "plt.plot(J[1:], sobol[1:])"
   ]
  },
  {
   "cell_type": "code",
   "execution_count": 25,
   "id": "6c7eb09f",
   "metadata": {},
   "outputs": [
    {
     "data": {
      "application/vnd.jupyter.widget-view+json": {
       "model_id": "b808a08a862e481caa8d30057292b769",
       "version_major": 2,
       "version_minor": 0
      },
      "text/plain": [
       "  0%|          | 0/10 [00:00<?, ?it/s]"
      ]
     },
     "metadata": {},
     "output_type": "display_data"
    },
    {
     "ename": "KeyboardInterrupt",
     "evalue": "",
     "output_type": "error",
     "traceback": [
      "\u001b[0;31m---------------------------------------------------------------------------\u001b[0m",
      "\u001b[0;31mKeyboardInterrupt\u001b[0m                         Traceback (most recent call last)",
      "Cell \u001b[0;32mIn [25], line 10\u001b[0m\n\u001b[1;32m      8\u001b[0m data[\u001b[38;5;124m\"\u001b[39m\u001b[38;5;124mhg\u001b[39m\u001b[38;5;124m\"\u001b[39m]\u001b[38;5;241m.\u001b[39mappend(x\u001b[38;5;241m.\u001b[39mget_log_prior())\n\u001b[1;32m      9\u001b[0m data[\u001b[38;5;124m\"\u001b[39m\u001b[38;5;124mhxg\u001b[39m\u001b[38;5;124m\"\u001b[39m]\u001b[38;5;241m.\u001b[39mappend(x\u001b[38;5;241m.\u001b[39mget_log_likelihood())\n\u001b[0;32m---> 10\u001b[0m data[\u001b[38;5;124m\"\u001b[39m\u001b[38;5;124mhgx\u001b[39m\u001b[38;5;124m\"\u001b[39m]\u001b[38;5;241m.\u001b[39mappend(\u001b[43mx\u001b[49m\u001b[38;5;241;43m.\u001b[39;49m\u001b[43mget_log_posterior\u001b[49m\u001b[43m(\u001b[49m\u001b[43mmethod\u001b[49m\u001b[38;5;241;43m=\u001b[39;49m\u001b[38;5;124;43m\"\u001b[39;49m\u001b[38;5;124;43mmeanfield\u001b[39;49m\u001b[38;5;124;43m\"\u001b[39;49m\u001b[43m,\u001b[49m\u001b[43m \u001b[49m\u001b[43mn_sweeps\u001b[49m\u001b[38;5;241;43m=\u001b[39;49m\u001b[38;5;241;43m1000\u001b[39;49m\u001b[43m,\u001b[49m\u001b[43m \u001b[49m\u001b[43mn_steps_per_vertex\u001b[49m\u001b[38;5;241;43m=\u001b[39;49m\u001b[38;5;241;43m5\u001b[39;49m\u001b[43m)\u001b[49m)\n\u001b[1;32m     11\u001b[0m data[\u001b[38;5;124m\"\u001b[39m\u001b[38;5;124mhx\u001b[39m\u001b[38;5;124m\"\u001b[39m]\u001b[38;5;241m.\u001b[39mappend(data[\u001b[38;5;124m\"\u001b[39m\u001b[38;5;124mhg\u001b[39m\u001b[38;5;124m\"\u001b[39m][\u001b[38;5;241m-\u001b[39m\u001b[38;5;241m1\u001b[39m] \u001b[38;5;241m+\u001b[39m data[\u001b[38;5;124m\"\u001b[39m\u001b[38;5;124mhxg\u001b[39m\u001b[38;5;124m\"\u001b[39m][\u001b[38;5;241m-\u001b[39m\u001b[38;5;241m1\u001b[39m] \u001b[38;5;241m-\u001b[39m data[\u001b[38;5;124m\"\u001b[39m\u001b[38;5;124mhgx\u001b[39m\u001b[38;5;124m\"\u001b[39m][\u001b[38;5;241m-\u001b[39m\u001b[38;5;241m1\u001b[39m])\n\u001b[1;32m     12\u001b[0m data[\u001b[38;5;124m\"\u001b[39m\u001b[38;5;124mJ\u001b[39m\u001b[38;5;124m\"\u001b[39m]\u001b[38;5;241m.\u001b[39mappend(_J)\n",
      "File \u001b[0;32m~/Documents/ulaval/doctorat/projects/codes/graphinf/graphinf/data/wrapper.py:105\u001b[0m, in \u001b[0;36mDataModelWrapper.get_log_posterior\u001b[0;34m(self, graph, method, sweep_type, n_sweeps, n_steps_per_vertex, burn, start_from_original, reset_original, verbose, **kwargs)\u001b[0m\n\u001b[1;32m    103\u001b[0m graph \u001b[38;5;241m=\u001b[39m \u001b[38;5;28mself\u001b[39m\u001b[38;5;241m.\u001b[39mget_graph() \u001b[38;5;28;01mif\u001b[39;00m graph \u001b[38;5;129;01mis\u001b[39;00m \u001b[38;5;28;01mNone\u001b[39;00m \u001b[38;5;28;01melse\u001b[39;00m graph\n\u001b[1;32m    104\u001b[0m \u001b[38;5;28;01mif\u001b[39;00m method \u001b[38;5;241m==\u001b[39m \u001b[38;5;124m\"\u001b[39m\u001b[38;5;124mmeanfield\u001b[39m\u001b[38;5;124m\"\u001b[39m:\n\u001b[0;32m--> 105\u001b[0m     posterior \u001b[38;5;241m=\u001b[39m \u001b[43mlog_posterior_meanfield\u001b[49m\u001b[43m(\u001b[49m\u001b[38;5;28;43mself\u001b[39;49m\u001b[43m,\u001b[49m\u001b[43m \u001b[49m\u001b[43mgraph\u001b[49m\u001b[43m,\u001b[49m\u001b[43m \u001b[49m\u001b[38;5;241;43m*\u001b[39;49m\u001b[38;5;241;43m*\u001b[39;49m\u001b[43mkwargs\u001b[49m\u001b[43m)\u001b[49m\n\u001b[1;32m    106\u001b[0m \u001b[38;5;28;01melse\u001b[39;00m:\n\u001b[1;32m    107\u001b[0m     \u001b[38;5;28mself\u001b[39m\u001b[38;5;241m.\u001b[39mset_graph(graph)\n",
      "File \u001b[0;32m~/Documents/ulaval/doctorat/projects/codes/graphinf/graphinf/data/util.py:90\u001b[0m, in \u001b[0;36mlog_posterior_meanfield\u001b[0;34m(model, graph, **kwargs)\u001b[0m\n\u001b[1;32m     88\u001b[0m model\u001b[38;5;241m.\u001b[39mset_graph(graph)\n\u001b[1;32m     89\u001b[0m callback(model)\n\u001b[0;32m---> 90\u001b[0m \u001b[43mmcmc_on_graph\u001b[49m\u001b[43m(\u001b[49m\u001b[43mmodel\u001b[49m\u001b[43m,\u001b[49m\u001b[43m \u001b[49m\u001b[43mcallback\u001b[49m\u001b[38;5;241;43m=\u001b[39;49m\u001b[43mcallback\u001b[49m\u001b[43m,\u001b[49m\u001b[43m \u001b[49m\u001b[38;5;241;43m*\u001b[39;49m\u001b[38;5;241;43m*\u001b[39;49m\u001b[43mkwargs\u001b[49m\u001b[43m)\u001b[49m\n\u001b[1;32m     92\u001b[0m \u001b[38;5;28;01mreturn\u001b[39;00m collector\u001b[38;5;241m.\u001b[39mlog_prob_estimate(graph)\n",
      "File \u001b[0;32m~/Documents/ulaval/doctorat/projects/codes/graphinf/graphinf/data/util.py:62\u001b[0m, in \u001b[0;36mmcmc_on_graph\u001b[0;34m(model, n_sweeps, sweep_type, n_steps, burn, beta_prior, beta_likelihood, start_from_original, reset_original, callback, verbose)\u001b[0m\n\u001b[1;32m     60\u001b[0m \u001b[38;5;28;01mfor\u001b[39;00m i \u001b[38;5;129;01min\u001b[39;00m \u001b[38;5;28mrange\u001b[39m(n_sweeps):\n\u001b[1;32m     61\u001b[0m     t0 \u001b[38;5;241m=\u001b[39m time\u001b[38;5;241m.\u001b[39mtime()\n\u001b[0;32m---> 62\u001b[0m     success \u001b[38;5;241m=\u001b[39m \u001b[43msweep\u001b[49m\u001b[43m(\u001b[49m\n\u001b[1;32m     63\u001b[0m \u001b[43m        \u001b[49m\u001b[43mn_steps\u001b[49m\u001b[43m,\u001b[49m\u001b[43m \u001b[49m\u001b[43mbeta_prior\u001b[49m\u001b[38;5;241;43m=\u001b[39;49m\u001b[43mbeta_prior\u001b[49m\u001b[43m,\u001b[49m\u001b[43m \u001b[49m\u001b[43mbeta_likelihood\u001b[49m\u001b[38;5;241;43m=\u001b[39;49m\u001b[43mbeta_likelihood\u001b[49m\n\u001b[1;32m     64\u001b[0m \u001b[43m    \u001b[49m\u001b[43m)\u001b[49m\n\u001b[1;32m     65\u001b[0m     t1 \u001b[38;5;241m=\u001b[39m time\u001b[38;5;241m.\u001b[39mtime()\n\u001b[1;32m     66\u001b[0m     \u001b[38;5;28;01mif\u001b[39;00m logger \u001b[38;5;129;01mis\u001b[39;00m \u001b[38;5;129;01mnot\u001b[39;00m \u001b[38;5;28;01mNone\u001b[39;00m:\n",
      "\u001b[0;31mKeyboardInterrupt\u001b[0m: "
     ]
    }
   ],
   "source": [
    "data = defaultdict(list)\n",
    "\n",
    "for _J in tqdm.tqdm(J[::2]):\n",
    "    x = graphinf.data.dynamics.GlauberDynamics(g, coupling=_J, length=10)\n",
    "    x0 = x.get_state()\n",
    "    for _ in range(20):\n",
    "        x.sample(x0)\n",
    "        data[\"hg\"].append(x.get_log_prior())\n",
    "        data[\"hxg\"].append(x.get_log_likelihood())\n",
    "        data[\"hgx\"].append(x.get_log_posterior(method=\"meanfield\", n_sweeps=1000, n_steps_per_vertex=5))\n",
    "        data[\"hx\"].append(data[\"hg\"][-1] + data[\"hxg\"][-1] - data[\"hgx\"][-1])\n",
    "        data[\"J\"].append(_J)\n",
    "    print(_J, data[\"hgx\"][-1] - data[\"hg\"][-1])\n",
    "    \n",
    "df = pd.DataFrame(data)\n",
    "df[\"pred\"] = 1 - df[\"hxg\"] / df[\"hx\"]\n",
    "df[\"mi\"] = df[\"hgx\"] - df[\"hg\"]\n",
    "sns.lineplot(df, x=\"J\", y=\"mi\")\n",
    "sns.lineplot(df, x=\"J\", y=\"pred\")\n"
   ]
  },
  {
   "cell_type": "code",
   "execution_count": 24,
   "id": "3be7cd12",
   "metadata": {},
   "outputs": [
    {
     "data": {
      "text/plain": [
       "<Axes: xlabel='J', ylabel='pred'>"
      ]
     },
     "execution_count": 24,
     "metadata": {},
     "output_type": "execute_result"
    },
    {
     "data": {
      "image/png": "[encoded data removed]",
      "text/plain": [
       "<Figure size 640x480 with 1 Axes>"
      ]
     },
     "metadata": {},
     "output_type": "display_data"
    }
   ],
   "source": [
    "sns.lineplot(df, x=\"J\", y=\"pred\")"
   ]
  },
  {
   "cell_type": "code",
   "execution_count": 1,
   "id": "d3ae669d",
   "metadata": {},
   "outputs": [],
   "source": [
    "import midynet, graphinf, matplotlib.pyplot as plt, numpy as np, pandas as pd, seaborn as sns\n",
    "\n",
    "from collections import defaultdict\n",
    "from tqdm import notebook as tqdm"
   ]
  },
  {
   "cell_type": "code",
   "execution_count": 3,
   "id": "6a05376d",
   "metadata": {},
   "outputs": [],
   "source": [
    "g0 = graphinf.utility.load_graph(\"../../data/graphs/polblogs.npy\")\n",
    "\n",
    "g = graphinf.graph.ConfigurationModel(g0)"
   ]
  },
  {
   "cell_type": "code",
   "execution_count": 10,
   "id": "26f401ca",
   "metadata": {},
   "outputs": [
    {
     "data": {
      "application/vnd.jupyter.widget-view+json": {
       "model_id": "2d0184a58d2f45c893a850860fffeeb2",
       "version_major": 2,
       "version_minor": 0
      },
      "text/plain": [
       "  0%|          | 0/21 [00:00<?, ?it/s]"
      ]
     },
     "metadata": {},
     "output_type": "display_data"
    },
    {
     "data": {
      "text/plain": [
       "<Axes: xlabel='coupling', ylabel='X'>"
      ]
     },
     "execution_count": 10,
     "metadata": {},
     "output_type": "execute_result"
    },
    {
     "data": {
      "image/png": "[encoded data removed]",
      "text/plain": [
       "<Figure size 640x480 with 1 Axes>"
      ]
     },
     "metadata": {},
     "output_type": "display_data"
    }
   ],
   "source": [
    "coup = np.concatenate([np.linspace(0, 0.02, 20), np.linspace(0, 0.08, 1)])\n",
    "# data = defaultdict(list)\n",
    "n_samples = 1\n",
    "for c in tqdm.tqdm(coup):\n",
    "    x = graphinf.data.dynamics.GlauberDynamics(g, coupling=c, length=2*g.get_size())\n",
    "    for i in range(n_samples):\n",
    "        x.sample(g.get_size())\n",
    "        X = x.get_future_states()\n",
    "        data[\"X\"].append(np.mean(X))\n",
    "        data[\"coupling\"].append(c)\n",
    "df = pd.DataFrame(data)\n",
    "sns.lineplot(df, x=\"coupling\", y=\"X\", marker=\"o\")"
   ]
  },
  {
   "cell_type": "code",
   "execution_count": 52,
   "id": "b8de324e",
   "metadata": {},
   "outputs": [
    {
     "data": {
      "application/vnd.jupyter.widget-view+json": {
       "model_id": "26dab92f97c94c06b62de63a61fe22bb",
       "version_major": 2,
       "version_minor": 0
      },
      "text/plain": [
       "  0%|          | 0/20 [00:00<?, ?it/s]"
      ]
     },
     "metadata": {},
     "output_type": "display_data"
    },
    {
     "ename": "KeyboardInterrupt",
     "evalue": "",
     "output_type": "error",
     "traceback": [
      "\u001b[0;31m---------------------------------------------------------------------------\u001b[0m",
      "\u001b[0;31mKeyboardInterrupt\u001b[0m                         Traceback (most recent call last)",
      "Cell \u001b[0;32mIn [52], line 11\u001b[0m\n\u001b[1;32m      9\u001b[0m data[\u001b[38;5;124m\"\u001b[39m\u001b[38;5;124mhg\u001b[39m\u001b[38;5;124m\"\u001b[39m]\u001b[38;5;241m.\u001b[39mappend(x\u001b[38;5;241m.\u001b[39mget_log_prior())\n\u001b[1;32m     10\u001b[0m data[\u001b[38;5;124m\"\u001b[39m\u001b[38;5;124mhxg\u001b[39m\u001b[38;5;124m\"\u001b[39m]\u001b[38;5;241m.\u001b[39mappend(x\u001b[38;5;241m.\u001b[39mget_log_likelihood())\n\u001b[0;32m---> 11\u001b[0m data[\u001b[38;5;124m\"\u001b[39m\u001b[38;5;124mhgx\u001b[39m\u001b[38;5;124m\"\u001b[39m]\u001b[38;5;241m.\u001b[39mappend(\u001b[43mx\u001b[49m\u001b[38;5;241;43m.\u001b[39;49m\u001b[43mget_log_posterior\u001b[49m\u001b[43m(\u001b[49m\u001b[43mmethod\u001b[49m\u001b[38;5;241;43m=\u001b[39;49m\u001b[38;5;124;43m\"\u001b[39;49m\u001b[38;5;124;43mmeanfield\u001b[39;49m\u001b[38;5;124;43m\"\u001b[39;49m\u001b[43m,\u001b[49m\u001b[43m \u001b[49m\u001b[43mn_sweeps\u001b[49m\u001b[38;5;241;43m=\u001b[39;49m\u001b[38;5;241;43m1000\u001b[39;49m\u001b[43m,\u001b[49m\u001b[43m \u001b[49m\u001b[43mn_steps_per_vertex\u001b[49m\u001b[38;5;241;43m=\u001b[39;49m\u001b[38;5;241;43m2\u001b[39;49m\u001b[43m,\u001b[49m\u001b[43m \u001b[49m\u001b[43mverbose\u001b[49m\u001b[38;5;241;43m=\u001b[39;49m\u001b[38;5;28;43;01mFalse\u001b[39;49;00m\u001b[43m)\u001b[49m)\n\u001b[1;32m     12\u001b[0m data[\u001b[38;5;124m\"\u001b[39m\u001b[38;5;124mhx\u001b[39m\u001b[38;5;124m\"\u001b[39m]\u001b[38;5;241m.\u001b[39mappend(data[\u001b[38;5;124m\"\u001b[39m\u001b[38;5;124mhg\u001b[39m\u001b[38;5;124m\"\u001b[39m][\u001b[38;5;241m-\u001b[39m\u001b[38;5;241m1\u001b[39m] \u001b[38;5;241m+\u001b[39m data[\u001b[38;5;124m\"\u001b[39m\u001b[38;5;124mhxg\u001b[39m\u001b[38;5;124m\"\u001b[39m][\u001b[38;5;241m-\u001b[39m\u001b[38;5;241m1\u001b[39m] \u001b[38;5;241m-\u001b[39m data[\u001b[38;5;124m\"\u001b[39m\u001b[38;5;124mhgx\u001b[39m\u001b[38;5;124m\"\u001b[39m][\u001b[38;5;241m-\u001b[39m\u001b[38;5;241m1\u001b[39m])\n\u001b[1;32m     13\u001b[0m data[\u001b[38;5;124m\"\u001b[39m\u001b[38;5;124mcoupling\u001b[39m\u001b[38;5;124m\"\u001b[39m]\u001b[38;5;241m.\u001b[39mappend(c)\n",
      "File \u001b[0;32m~/Documents/ulaval/doctorat/projects/codes/graphinf/graphinf/data/wrapper.py:105\u001b[0m, in \u001b[0;36mDataModelWrapper.get_log_posterior\u001b[0;34m(self, graph, method, sweep_type, n_sweeps, n_steps_per_vertex, burn, start_from_original, reset_original, verbose, **kwargs)\u001b[0m\n\u001b[1;32m    103\u001b[0m graph \u001b[38;5;241m=\u001b[39m \u001b[38;5;28mself\u001b[39m\u001b[38;5;241m.\u001b[39mget_graph() \u001b[38;5;28;01mif\u001b[39;00m graph \u001b[38;5;129;01mis\u001b[39;00m \u001b[38;5;28;01mNone\u001b[39;00m \u001b[38;5;28;01melse\u001b[39;00m graph\n\u001b[1;32m    104\u001b[0m \u001b[38;5;28;01mif\u001b[39;00m method \u001b[38;5;241m==\u001b[39m \u001b[38;5;124m\"\u001b[39m\u001b[38;5;124mmeanfield\u001b[39m\u001b[38;5;124m\"\u001b[39m:\n\u001b[0;32m--> 105\u001b[0m     posterior \u001b[38;5;241m=\u001b[39m \u001b[43mlog_posterior_meanfield\u001b[49m\u001b[43m(\u001b[49m\u001b[38;5;28;43mself\u001b[39;49m\u001b[43m,\u001b[49m\u001b[43m \u001b[49m\u001b[43mgraph\u001b[49m\u001b[43m,\u001b[49m\u001b[43m \u001b[49m\u001b[38;5;241;43m*\u001b[39;49m\u001b[38;5;241;43m*\u001b[39;49m\u001b[43mkwargs\u001b[49m\u001b[43m)\u001b[49m\n\u001b[1;32m    106\u001b[0m \u001b[38;5;28;01melse\u001b[39;00m:\n\u001b[1;32m    107\u001b[0m     \u001b[38;5;28mself\u001b[39m\u001b[38;5;241m.\u001b[39mset_graph(graph)\n",
      "File \u001b[0;32m~/Documents/ulaval/doctorat/projects/codes/graphinf/graphinf/data/util.py:90\u001b[0m, in \u001b[0;36mlog_posterior_meanfield\u001b[0;34m(model, graph, **kwargs)\u001b[0m\n\u001b[1;32m     88\u001b[0m model\u001b[38;5;241m.\u001b[39mset_graph(graph)\n\u001b[1;32m     89\u001b[0m callback(model)\n\u001b[0;32m---> 90\u001b[0m \u001b[43mmcmc_on_graph\u001b[49m\u001b[43m(\u001b[49m\u001b[43mmodel\u001b[49m\u001b[43m,\u001b[49m\u001b[43m \u001b[49m\u001b[43mcallback\u001b[49m\u001b[38;5;241;43m=\u001b[39;49m\u001b[43mcallback\u001b[49m\u001b[43m,\u001b[49m\u001b[43m \u001b[49m\u001b[38;5;241;43m*\u001b[39;49m\u001b[38;5;241;43m*\u001b[39;49m\u001b[43mkwargs\u001b[49m\u001b[43m)\u001b[49m\n\u001b[1;32m     92\u001b[0m \u001b[38;5;28;01mreturn\u001b[39;00m collector\u001b[38;5;241m.\u001b[39mlog_prob_estimate(graph)\n",
      "File \u001b[0;32m~/Documents/ulaval/doctorat/projects/codes/graphinf/graphinf/data/util.py:62\u001b[0m, in \u001b[0;36mmcmc_on_graph\u001b[0;34m(model, n_sweeps, sweep_type, n_steps, burn, beta_prior, beta_likelihood, start_from_original, reset_original, callback, verbose)\u001b[0m\n\u001b[1;32m     60\u001b[0m \u001b[38;5;28;01mfor\u001b[39;00m i \u001b[38;5;129;01min\u001b[39;00m \u001b[38;5;28mrange\u001b[39m(n_sweeps):\n\u001b[1;32m     61\u001b[0m     t0 \u001b[38;5;241m=\u001b[39m time\u001b[38;5;241m.\u001b[39mtime()\n\u001b[0;32m---> 62\u001b[0m     success \u001b[38;5;241m=\u001b[39m \u001b[43msweep\u001b[49m\u001b[43m(\u001b[49m\n\u001b[1;32m     63\u001b[0m \u001b[43m        \u001b[49m\u001b[43mn_steps\u001b[49m\u001b[43m,\u001b[49m\u001b[43m \u001b[49m\u001b[43mbeta_prior\u001b[49m\u001b[38;5;241;43m=\u001b[39;49m\u001b[43mbeta_prior\u001b[49m\u001b[43m,\u001b[49m\u001b[43m \u001b[49m\u001b[43mbeta_likelihood\u001b[49m\u001b[38;5;241;43m=\u001b[39;49m\u001b[43mbeta_likelihood\u001b[49m\n\u001b[1;32m     64\u001b[0m \u001b[43m    \u001b[49m\u001b[43m)\u001b[49m\n\u001b[1;32m     65\u001b[0m     t1 \u001b[38;5;241m=\u001b[39m time\u001b[38;5;241m.\u001b[39mtime()\n\u001b[1;32m     66\u001b[0m     \u001b[38;5;28;01mif\u001b[39;00m logger \u001b[38;5;129;01mis\u001b[39;00m \u001b[38;5;129;01mnot\u001b[39;00m \u001b[38;5;28;01mNone\u001b[39;00m:\n",
      "\u001b[0;31mKeyboardInterrupt\u001b[0m: "
     ]
    }
   ],
   "source": [
    "data = defaultdict(list)\n",
    "for c in tqdm.tqdm(coup):\n",
    "    x = graphinf.data.dynamics.GlauberDynamics(g, coupling=c, length=2*g.get_size())\n",
    "    x.freeze_param()\n",
    "    x.freeze_graph_prior()\n",
    "    \n",
    "    for _ in range(10):\n",
    "        x.sample(g.get_size())\n",
    "        data[\"hg\"].append(x.get_log_prior())\n",
    "        data[\"hxg\"].append(x.get_log_likelihood())\n",
    "        data[\"hgx\"].append(x.get_log_posterior(method=\"meanfield\", n_sweeps=1000, n_steps_per_vertex=2, verbose=False))\n",
    "        data[\"hx\"].append(data[\"hg\"][-1] + data[\"hxg\"][-1] - data[\"hgx\"][-1])\n",
    "        data[\"coupling\"].append(c)\n",
    "\n",
    "df = pd.DataFrame(data)\n",
    "df[\"mi\"] = df[\"hgx\"] - df[\"hg\"]\n",
    "df[\"recon\"] = df[\"mi\"] /-df[\"hg\"]\n",
    "df[\"pred\"] = df[\"mi\"] /-df[\"hx\"]\n",
    "        \n",
    "fig, ax = plt.subplots(1, 1, figsize=(5, 4))\n",
    "axx = ax.twinx()\n",
    "sns.lineplot(df, x=\"coupling\", y=\"recon\", ax=ax, label=\"Recon.\")\n",
    "sns.lineplot(df, x=\"coupling\", y=\"pred\", ax=axx, label=\"Pred.\")\n"
   ]
  },
  {
   "cell_type": "code",
   "execution_count": 62,
   "id": "a29a41b2",
   "metadata": {},
   "outputs": [
    {
     "data": {
      "text/plain": [
       "<Axes: xlabel='coupling', ylabel='recon'>"
      ]
     },
     "execution_count": 62,
     "metadata": {},
     "output_type": "execute_result"
    },
    {
     "data": {
      "image/png": "[encoded data removed]",
      "text/plain": [
       "<Figure size 500x400 with 1 Axes>"
      ]
     },
     "metadata": {},
     "output_type": "display_data"
    }
   ],
   "source": [
    "df = pd.DataFrame(data)\n",
    "df[\"mi\"] = df[\"hgx\"] - df[\"hg\"]\n",
    "df[\"recon\"] = df[\"mi\"] /-df[\"hg\"]\n",
    "df[\"pred\"] = df[\"mi\"] /-df[\"hx\"]\n",
    "        \n",
    "fig, ax = plt.subplots(1, 1, figsize=(5, 4))\n",
    "# axx = ax.twinx()\n",
    "sns.lineplot(df, x=\"coupling\", y=\"recon\", ax=ax, label=\"Recon.\")\n",
    "sns.lineplot(df, x=\"coupling\", y=\"pred\", ax=ax, label=\"Pred.\")"
   ]
  },
  {
   "cell_type": "code",
   "execution_count": null,
   "id": "fddbc0e0",
   "metadata": {},
   "outputs": [],
   "source": [
    "fig,\n",
    "sns.lineplot()"
   ]
  },
  {
   "cell_type": "code",
   "execution_count": 7,
   "id": "7b92c05e",
   "metadata": {},
   "outputs": [],
   "source": [
    "g0 = midynet.config.GraphFactory.build(midynet.config.GraphConfig.euairlines())\n",
    "g = graphinf.graph.ConfigurationModel(g0)"
   ]
  },
  {
   "cell_type": "code",
   "execution_count": 21,
   "id": "3536ef90",
   "metadata": {},
   "outputs": [
    {
     "data": {
      "application/vnd.jupyter.widget-view+json": {
       "model_id": "055c6758dd4b4924b37d784764ed5b83",
       "version_major": 2,
       "version_minor": 0
      },
      "text/plain": [
       "  0%|          | 0/20 [00:00<?, ?it/s]"
      ]
     },
     "metadata": {},
     "output_type": "display_data"
    }
   ],
   "source": [
    "inf = np.linspace(0, 0.06, 20)\n",
    "data = defaultdict(list)\n",
    "n_samples = 50\n",
    "for i in tqdm.tqdm(inf):\n",
    "    \n",
    "    x = graphinf.data.dynamics.SISDynamics(g, infection_prob=i, length=2*g.get_size())\n",
    "    for _ in range(n_samples):\n",
    "        x.sample(10)\n",
    "        X = x.get_future_states()\n",
    "        data[\"X\"].append(np.mean(X))\n",
    "        data[\"infection\"].append(i)\n",
    "df = pd.DataFrame(data)\n",
    "sns.lineplot(df, x=\"infection\", y=\"X\")"
   ]
  },
  {
   "cell_type": "code",
   "execution_count": 22,
   "id": "362f80d8",
   "metadata": {},
   "outputs": [
    {
     "data": {
      "text/plain": [
       "<Axes: xlabel='infection', ylabel='X'>"
      ]
     },
     "execution_count": 22,
     "metadata": {},
     "output_type": "execute_result"
    },
    {
     "data": {
      "image/png": "[encoded data removed]",
      "text/plain": [
       "<Figure size 640x480 with 1 Axes>"
      ]
     },
     "metadata": {},
     "output_type": "display_data"
    }
   ],
   "source": [
    "df = pd.DataFrame(data)\n",
    "sns.lineplot(df, x=\"infection\", y=\"X\")"
   ]
  },
  {
   "cell_type": "code",
   "execution_count": 91,
   "id": "0241d6a9",
   "metadata": {},
   "outputs": [
    {
     "data": {
      "application/vnd.jupyter.widget-view+json": {
       "model_id": "318101c311fd464a8ae68cbf056dbb1f",
       "version_major": 2,
       "version_minor": 0
      },
      "text/plain": [
       "  0%|          | 0/40 [00:00<?, ?it/s]"
      ]
     },
     "metadata": {},
     "output_type": "display_data"
    }
   ],
   "source": [
    "g0 = midynet.config.GraphFactory.build(midynet.config.GraphConfig.celegans())\n",
    "g = graphinf.graph.ConfigurationModel(g0)\n",
    "\n",
    "\n",
    "nu = np.append(np.linspace(0, 0.3, 20), np.linspace(0.05, 0.12, 20))\n",
    "np.sort(nu)\n",
    "\n",
    "data = defaultdict(list)\n",
    "n_samples = 10\n",
    "for _nu in tqdm.tqdm(nu):\n",
    "    \n",
    "    x = graphinf.data.dynamics.CowanDynamics(g, nu=_nu, a=8., eta=0.1, length=2 * g.get_size())\n",
    "    for _ in range(n_samples):\n",
    "        x.sample(5)\n",
    "        X = np.array(x.get_past_states())\n",
    "\n",
    "        x.sample(g.get_size() - 5)\n",
    "        Y = np.array(x.get_past_states())\n",
    "        data[\"forward\"].append(np.mean(X))\n",
    "        data[\"backward\"].append(np.mean(Y))\n",
    "        data[\"nu\"].append(_nu)\n",
    "\n",
    "\n",
    "    \n",
    "    "
   ]
  },
  {
   "cell_type": "code",
   "execution_count": 92,
   "id": "b330108c",
   "metadata": {},
   "outputs": [
    {
     "data": {
      "text/plain": [
       "<Axes: xlabel='nu', ylabel='forward'>"
      ]
     },
     "execution_count": 92,
     "metadata": {},
     "output_type": "execute_result"
    },
    {
     "data": {
      "image/png": "[encoded data removed]",
      "text/plain": [
       "<Figure size 640x480 with 1 Axes>"
      ]
     },
     "metadata": {},
     "output_type": "display_data"
    }
   ],
   "source": [
    "df = pd.DataFrame(data)\n",
    "sns.lineplot(df, x=\"nu\", y=\"forward\", marker=\">\")\n",
    "sns.lineplot(df, x=\"nu\", y=\"backward\", marker=\"<\")\n"
   ]
  },
  {
   "cell_type": "code",
   "execution_count": 90,
   "id": "d482036d",
   "metadata": {},
   "outputs": [],
   "source": [
    "np.sort?"
   ]
  },
  {
   "cell_type": "code",
   "execution_count": 11,
   "id": "2b586861",
   "metadata": {},
   "outputs": [],
   "source": [
    "import pymc3, logging, numpy as np\n",
    "logger = logging.getLogger(\"pymc3\")\n"
   ]
  },
  {
   "cell_type": "code",
   "execution_count": 13,
   "id": "e9cf00ef",
   "metadata": {},
   "outputs": [],
   "source": [
    "logger.setLevel(\"ERROR\")"
   ]
  },
  {
   "cell_type": "code",
   "execution_count": 90,
   "id": "e6b932c2",
   "metadata": {},
   "outputs": [],
   "source": [
    "n = 100\n",
    "X = np.random.randn(n, n)\n",
    "a, b, s = 4, -7, 0.4\n",
    "\n",
    "Y = a * X + b + np.random.normal(0, s, size=n)"
   ]
  },
  {
   "cell_type": "code",
   "execution_count": 91,
   "id": "22b18efa",
   "metadata": {},
   "outputs": [
    {
     "data": {
      "text/html": [
       "\n",
       "<style>\n",
       "    /* Turns off some styling */\n",
       "    progress {\n",
       "        /* gets rid of default border in Firefox and Opera. */\n",
       "        border: none;\n",
       "        /* Needs to be in here for Safari polyfill so background images work as expected. */\n",
       "        background-size: auto;\n",
       "    }\n",
       "    progress:not([value]), progress:not([value])::-webkit-progress-bar {\n",
       "        background: repeating-linear-gradient(45deg, #7e7e7e, #7e7e7e 10px, #5c5c5c 10px, #5c5c5c 20px);\n",
       "    }\n",
       "    .progress-bar-interrupted, .progress-bar-interrupted::-webkit-progress-bar {\n",
       "        background: #F44336;\n",
       "    }\n",
       "</style>\n"
      ],
      "text/plain": [
       "<IPython.core.display.HTML object>"
      ]
     },
     "metadata": {},
     "output_type": "display_data"
    },
    {
     "data": {
      "text/html": [
       "\n",
       "    <div>\n",
       "      <progress value='3000' class='' max='3000' style='width:300px; height:20px; vertical-align: middle;'></progress>\n",
       "      100.00% [3000/3000 00:02&lt;00:00 Sampling 2 chains, 0 divergences]\n",
       "    </div>\n",
       "    "
      ],
      "text/plain": [
       "<IPython.core.display.HTML object>"
      ]
     },
     "metadata": {},
     "output_type": "display_data"
    },
    {
     "name": "stderr",
     "output_type": "stream",
     "text": [
      "/Users/charlesmurphy/miniconda3/envs/midynet-env/lib/python3.10/site-packages/scipy/stats/_continuous_distns.py:624: RuntimeWarning: overflow encountered in _beta_ppf\n",
      "  return _boost._beta_ppf(q, a, b)\n",
      "/Users/charlesmurphy/miniconda3/envs/midynet-env/lib/python3.10/site-packages/scipy/stats/_continuous_distns.py:624: RuntimeWarning: overflow encountered in _beta_ppf\n",
      "  return _boost._beta_ppf(q, a, b)\n"
     ]
    }
   ],
   "source": [
    "with pymc3.Model() as model:\n",
    "    # Define the model parameters\n",
    "    b_ = pymc3.Normal('b', mu=0, sd=1)\n",
    "    a_ = pymc3.Normal('a', mu=0, sd=1)\n",
    "    s_ = pymc3.HalfCauchy(\"s\", beta=10)\n",
    "    \n",
    "    # Define the likelihood of the observed data\n",
    "    likelihood = pymc3.Normal(\"likelihood\", mu=a_ * X + b_, sd=s_, observed=Y)\n",
    "    \n",
    "    # Perform inference using the No-U-Turn Sampler (NUTS)\n",
    "    trace = pymc3.sample(1000, tune=500, chains=2, progressbar=True, return_inferencedata=False)"
   ]
  },
  {
   "cell_type": "code",
   "execution_count": 94,
   "id": "9afc74a3",
   "metadata": {},
   "outputs": [
    {
     "data": {
      "text/plain": [
       "(2000,)"
      ]
     },
     "execution_count": 94,
     "metadata": {},
     "output_type": "execute_result"
    }
   ],
   "source": [
    "trace.get_values(\"a\").data.shape"
   ]
  },
  {
   "cell_type": "code",
   "execution_count": 65,
   "id": "253eb87e",
   "metadata": {},
   "outputs": [
    {
     "data": {
      "text/plain": [
       "(4.029236207377294, -6.992294801368194, 0.39833021683750147)"
      ]
     },
     "execution_count": 65,
     "metadata": {},
     "output_type": "execute_result"
    }
   ],
   "source": [
    "trace.get_values(\"a\").mean(), trace.get_values(\"b\").mean(), trace.get_values(\"s\").mean()"
   ]
  },
  {
   "cell_type": "code",
   "execution_count": 66,
   "id": "20077938",
   "metadata": {},
   "outputs": [
    {
     "data": {
      "text/plain": [
       "(0.0001540817966468901, 0.00016900971744560474, 7.757437251175915e-05)"
      ]
     },
     "execution_count": 66,
     "metadata": {},
     "output_type": "execute_result"
    }
   ],
   "source": [
    "trace.get_values(\"a\").var(), trace.get_values(\"b\").var(), trace.get_values(\"s\").var()"
   ]
  },
  {
   "cell_type": "code",
   "execution_count": 67,
   "id": "956d1c6b",
   "metadata": {},
   "outputs": [],
   "source": [
    "pymc3.Bernoulli?"
   ]
  },
  {
   "cell_type": "code",
   "execution_count": 84,
   "id": "60830dc3",
   "metadata": {},
   "outputs": [
    {
     "data": {
      "text/html": [
       "<div><svg style=\"position: absolute; width: 0; height: 0; overflow: hidden\">\n",
       "<defs>\n",
       "<symbol id=\"icon-database\" viewBox=\"0 0 32 32\">\n",
       "<path d=\"M16 0c-8.837 0-16 2.239-16 5v4c0 2.761 7.163 5 16 5s16-2.239 16-5v-4c0-2.761-7.163-5-16-5z\"></path>\n",
       "<path d=\"M16 17c-8.837 0-16-2.239-16-5v6c0 2.761 7.163 5 16 5s16-2.239 16-5v-6c0 2.761-7.163 5-16 5z\"></path>\n",
       "<path d=\"M16 26c-8.837 0-16-2.239-16-5v6c0 2.761 7.163 5 16 5s16-2.239 16-5v-6c0 2.761-7.163 5-16 5z\"></path>\n",
       "</symbol>\n",
       "<symbol id=\"icon-file-text2\" viewBox=\"0 0 32 32\">\n",
       "<path d=\"M28.681 7.159c-0.694-0.947-1.662-2.053-2.724-3.116s-2.169-2.030-3.116-2.724c-1.612-1.182-2.393-1.319-2.841-1.319h-15.5c-1.378 0-2.5 1.121-2.5 2.5v27c0 1.378 1.122 2.5 2.5 2.5h23c1.378 0 2.5-1.122 2.5-2.5v-19.5c0-0.448-0.137-1.23-1.319-2.841zM24.543 5.457c0.959 0.959 1.712 1.825 2.268 2.543h-4.811v-4.811c0.718 0.556 1.584 1.309 2.543 2.268zM28 29.5c0 0.271-0.229 0.5-0.5 0.5h-23c-0.271 0-0.5-0.229-0.5-0.5v-27c0-0.271 0.229-0.5 0.5-0.5 0 0 15.499-0 15.5 0v7c0 0.552 0.448 1 1 1h7v19.5z\"></path>\n",
       "<path d=\"M23 26h-14c-0.552 0-1-0.448-1-1s0.448-1 1-1h14c0.552 0 1 0.448 1 1s-0.448 1-1 1z\"></path>\n",
       "<path d=\"M23 22h-14c-0.552 0-1-0.448-1-1s0.448-1 1-1h14c0.552 0 1 0.448 1 1s-0.448 1-1 1z\"></path>\n",
       "<path d=\"M23 18h-14c-0.552 0-1-0.448-1-1s0.448-1 1-1h14c0.552 0 1 0.448 1 1s-0.448 1-1 1z\"></path>\n",
       "</symbol>\n",
       "</defs>\n",
       "</svg>\n",
       "<style>/* CSS stylesheet for displaying xarray objects in jupyterlab.\n",
       " *\n",
       " */\n",
       "\n",
       ":root {\n",
       "  --xr-font-color0: var(--jp-content-font-color0, rgba(0, 0, 0, 1));\n",
       "  --xr-font-color2: var(--jp-content-font-color2, rgba(0, 0, 0, 0.54));\n",
       "  --xr-font-color3: var(--jp-content-font-color3, rgba(0, 0, 0, 0.38));\n",
       "  --xr-border-color: var(--jp-border-color2, #e0e0e0);\n",
       "  --xr-disabled-color: var(--jp-layout-color3, #bdbdbd);\n",
       "  --xr-background-color: var(--jp-layout-color0, white);\n",
       "  --xr-background-color-row-even: var(--jp-layout-color1, white);\n",
       "  --xr-background-color-row-odd: var(--jp-layout-color2, #eeeeee);\n",
       "}\n",
       "\n",
       "html[theme=dark],\n",
       "body[data-theme=dark],\n",
       "body.vscode-dark {\n",
       "  --xr-font-color0: rgba(255, 255, 255, 1);\n",
       "  --xr-font-color2: rgba(255, 255, 255, 0.54);\n",
       "  --xr-font-color3: rgba(255, 255, 255, 0.38);\n",
       "  --xr-border-color: #1F1F1F;\n",
       "  --xr-disabled-color: #515151;\n",
       "  --xr-background-color: #111111;\n",
       "  --xr-background-color-row-even: #111111;\n",
       "  --xr-background-color-row-odd: #313131;\n",
       "}\n",
       "\n",
       ".xr-wrap {\n",
       "  display: block !important;\n",
       "  min-width: 300px;\n",
       "  max-width: 700px;\n",
       "}\n",
       "\n",
       ".xr-text-repr-fallback {\n",
       "  /* fallback to plain text repr when CSS is not injected (untrusted notebook) */\n",
       "  display: none;\n",
       "}\n",
       "\n",
       ".xr-header {\n",
       "  padding-top: 6px;\n",
       "  padding-bottom: 6px;\n",
       "  margin-bottom: 4px;\n",
       "  border-bottom: solid 1px var(--xr-border-color);\n",
       "}\n",
       "\n",
       ".xr-header > div,\n",
       ".xr-header > ul {\n",
       "  display: inline;\n",
       "  margin-top: 0;\n",
       "  margin-bottom: 0;\n",
       "}\n",
       "\n",
       ".xr-obj-type,\n",
       ".xr-array-name {\n",
       "  margin-left: 2px;\n",
       "  margin-right: 10px;\n",
       "}\n",
       "\n",
       ".xr-obj-type {\n",
       "  color: var(--xr-font-color2);\n",
       "}\n",
       "\n",
       ".xr-sections {\n",
       "  padding-left: 0 !important;\n",
       "  display: grid;\n",
       "  grid-template-columns: 150px auto auto 1fr 20px 20px;\n",
       "}\n",
       "\n",
       ".xr-section-item {\n",
       "  display: contents;\n",
       "}\n",
       "\n",
       ".xr-section-item input {\n",
       "  display: none;\n",
       "}\n",
       "\n",
       ".xr-section-item input + label {\n",
       "  color: var(--xr-disabled-color);\n",
       "}\n",
       "\n",
       ".xr-section-item input:enabled + label {\n",
       "  cursor: pointer;\n",
       "  color: var(--xr-font-color2);\n",
       "}\n",
       "\n",
       ".xr-section-item input:enabled + label:hover {\n",
       "  color: var(--xr-font-color0);\n",
       "}\n",
       "\n",
       ".xr-section-summary {\n",
       "  grid-column: 1;\n",
       "  color: var(--xr-font-color2);\n",
       "  font-weight: 500;\n",
       "}\n",
       "\n",
       ".xr-section-summary > span {\n",
       "  display: inline-block;\n",
       "  padding-left: 0.5em;\n",
       "}\n",
       "\n",
       ".xr-section-summary-in:disabled + label {\n",
       "  color: var(--xr-font-color2);\n",
       "}\n",
       "\n",
       ".xr-section-summary-in + label:before {\n",
       "  display: inline-block;\n",
       "  content: '►';\n",
       "  font-size: 11px;\n",
       "  width: 15px;\n",
       "  text-align: center;\n",
       "}\n",
       "\n",
       ".xr-section-summary-in:disabled + label:before {\n",
       "  color: var(--xr-disabled-color);\n",
       "}\n",
       "\n",
       ".xr-section-summary-in:checked + label:before {\n",
       "  content: '▼';\n",
       "}\n",
       "\n",
       ".xr-section-summary-in:checked + label > span {\n",
       "  display: none;\n",
       "}\n",
       "\n",
       ".xr-section-summary,\n",
       ".xr-section-inline-details {\n",
       "  padding-top: 4px;\n",
       "  padding-bottom: 4px;\n",
       "}\n",
       "\n",
       ".xr-section-inline-details {\n",
       "  grid-column: 2 / -1;\n",
       "}\n",
       "\n",
       ".xr-section-details {\n",
       "  display: none;\n",
       "  grid-column: 1 / -1;\n",
       "  margin-bottom: 5px;\n",
       "}\n",
       "\n",
       ".xr-section-summary-in:checked ~ .xr-section-details {\n",
       "  display: contents;\n",
       "}\n",
       "\n",
       ".xr-array-wrap {\n",
       "  grid-column: 1 / -1;\n",
       "  display: grid;\n",
       "  grid-template-columns: 20px auto;\n",
       "}\n",
       "\n",
       ".xr-array-wrap > label {\n",
       "  grid-column: 1;\n",
       "  vertical-align: top;\n",
       "}\n",
       "\n",
       ".xr-preview {\n",
       "  color: var(--xr-font-color3);\n",
       "}\n",
       "\n",
       ".xr-array-preview,\n",
       ".xr-array-data {\n",
       "  padding: 0 5px !important;\n",
       "  grid-column: 2;\n",
       "}\n",
       "\n",
       ".xr-array-data,\n",
       ".xr-array-in:checked ~ .xr-array-preview {\n",
       "  display: none;\n",
       "}\n",
       "\n",
       ".xr-array-in:checked ~ .xr-array-data,\n",
       ".xr-array-preview {\n",
       "  display: inline-block;\n",
       "}\n",
       "\n",
       ".xr-dim-list {\n",
       "  display: inline-block !important;\n",
       "  list-style: none;\n",
       "  padding: 0 !important;\n",
       "  margin: 0;\n",
       "}\n",
       "\n",
       ".xr-dim-list li {\n",
       "  display: inline-block;\n",
       "  padding: 0;\n",
       "  margin: 0;\n",
       "}\n",
       "\n",
       ".xr-dim-list:before {\n",
       "  content: '(';\n",
       "}\n",
       "\n",
       ".xr-dim-list:after {\n",
       "  content: ')';\n",
       "}\n",
       "\n",
       ".xr-dim-list li:not(:last-child):after {\n",
       "  content: ',';\n",
       "  padding-right: 5px;\n",
       "}\n",
       "\n",
       ".xr-has-index {\n",
       "  font-weight: bold;\n",
       "}\n",
       "\n",
       ".xr-var-list,\n",
       ".xr-var-item {\n",
       "  display: contents;\n",
       "}\n",
       "\n",
       ".xr-var-item > div,\n",
       ".xr-var-item label,\n",
       ".xr-var-item > .xr-var-name span {\n",
       "  background-color: var(--xr-background-color-row-even);\n",
       "  margin-bottom: 0;\n",
       "}\n",
       "\n",
       ".xr-var-item > .xr-var-name:hover span {\n",
       "  padding-right: 5px;\n",
       "}\n",
       "\n",
       ".xr-var-list > li:nth-child(odd) > div,\n",
       ".xr-var-list > li:nth-child(odd) > label,\n",
       ".xr-var-list > li:nth-child(odd) > .xr-var-name span {\n",
       "  background-color: var(--xr-background-color-row-odd);\n",
       "}\n",
       "\n",
       ".xr-var-name {\n",
       "  grid-column: 1;\n",
       "}\n",
       "\n",
       ".xr-var-dims {\n",
       "  grid-column: 2;\n",
       "}\n",
       "\n",
       ".xr-var-dtype {\n",
       "  grid-column: 3;\n",
       "  text-align: right;\n",
       "  color: var(--xr-font-color2);\n",
       "}\n",
       "\n",
       ".xr-var-preview {\n",
       "  grid-column: 4;\n",
       "}\n",
       "\n",
       ".xr-index-preview {\n",
       "  grid-column: 2 / 5;\n",
       "  color: var(--xr-font-color2);\n",
       "}\n",
       "\n",
       ".xr-var-name,\n",
       ".xr-var-dims,\n",
       ".xr-var-dtype,\n",
       ".xr-preview,\n",
       ".xr-attrs dt {\n",
       "  white-space: nowrap;\n",
       "  overflow: hidden;\n",
       "  text-overflow: ellipsis;\n",
       "  padding-right: 10px;\n",
       "}\n",
       "\n",
       ".xr-var-name:hover,\n",
       ".xr-var-dims:hover,\n",
       ".xr-var-dtype:hover,\n",
       ".xr-attrs dt:hover {\n",
       "  overflow: visible;\n",
       "  width: auto;\n",
       "  z-index: 1;\n",
       "}\n",
       "\n",
       ".xr-var-attrs,\n",
       ".xr-var-data,\n",
       ".xr-index-data {\n",
       "  display: none;\n",
       "  background-color: var(--xr-background-color) !important;\n",
       "  padding-bottom: 5px !important;\n",
       "}\n",
       "\n",
       ".xr-var-attrs-in:checked ~ .xr-var-attrs,\n",
       ".xr-var-data-in:checked ~ .xr-var-data,\n",
       ".xr-index-data-in:checked ~ .xr-index-data {\n",
       "  display: block;\n",
       "}\n",
       "\n",
       ".xr-var-data > table {\n",
       "  float: right;\n",
       "}\n",
       "\n",
       ".xr-var-name span,\n",
       ".xr-var-data,\n",
       ".xr-index-name div,\n",
       ".xr-index-data,\n",
       ".xr-attrs {\n",
       "  padding-left: 25px !important;\n",
       "}\n",
       "\n",
       ".xr-attrs,\n",
       ".xr-var-attrs,\n",
       ".xr-var-data,\n",
       ".xr-index-data {\n",
       "  grid-column: 1 / -1;\n",
       "}\n",
       "\n",
       "dl.xr-attrs {\n",
       "  padding: 0;\n",
       "  margin: 0;\n",
       "  display: grid;\n",
       "  grid-template-columns: 125px auto;\n",
       "}\n",
       "\n",
       ".xr-attrs dt,\n",
       ".xr-attrs dd {\n",
       "  padding: 0;\n",
       "  margin: 0;\n",
       "  float: left;\n",
       "  padding-right: 10px;\n",
       "  width: auto;\n",
       "}\n",
       "\n",
       ".xr-attrs dt {\n",
       "  font-weight: normal;\n",
       "  grid-column: 1;\n",
       "}\n",
       "\n",
       ".xr-attrs dt:hover span {\n",
       "  display: inline-block;\n",
       "  background: var(--xr-background-color);\n",
       "  padding-right: 10px;\n",
       "}\n",
       "\n",
       ".xr-attrs dd {\n",
       "  grid-column: 2;\n",
       "  white-space: pre-wrap;\n",
       "  word-break: break-all;\n",
       "}\n",
       "\n",
       ".xr-icon-database,\n",
       ".xr-icon-file-text2,\n",
       ".xr-no-icon {\n",
       "  display: inline-block;\n",
       "  vertical-align: middle;\n",
       "  width: 1em;\n",
       "  height: 1.5em !important;\n",
       "  stroke-width: 0;\n",
       "  stroke: currentColor;\n",
       "  fill: currentColor;\n",
       "}\n",
       "</style><pre class='xr-text-repr-fallback'>&lt;xarray.Dataset&gt;\n",
       "Dimensions:  ()\n",
       "Data variables:\n",
       "    b        float64 2.125e+03\n",
       "    a        float64 2.591e+03\n",
       "    s        float64 2.468e+03</pre><div class='xr-wrap' style='display:none'><div class='xr-header'><div class='xr-obj-type'>xarray.Dataset</div></div><ul class='xr-sections'><li class='xr-section-item'><input id='section-2d194aa0-d7b8-44c4-8dd3-021b19706577' class='xr-section-summary-in' type='checkbox' disabled ><label for='section-2d194aa0-d7b8-44c4-8dd3-021b19706577' class='xr-section-summary'  title='Expand/collapse section'>Dimensions:</label><div class='xr-section-inline-details'></div><div class='xr-section-details'></div></li><li class='xr-section-item'><input id='section-0d0ef473-f6b8-4cd8-b66c-457db8be510c' class='xr-section-summary-in' type='checkbox' disabled ><label for='section-0d0ef473-f6b8-4cd8-b66c-457db8be510c' class='xr-section-summary'  title='Expand/collapse section'>Coordinates: <span>(0)</span></label><div class='xr-section-inline-details'></div><div class='xr-section-details'><ul class='xr-var-list'></ul></div></li><li class='xr-section-item'><input id='section-fb14f259-49c9-4aae-9934-66ca439a1966' class='xr-section-summary-in' type='checkbox'  checked><label for='section-fb14f259-49c9-4aae-9934-66ca439a1966' class='xr-section-summary' >Data variables: <span>(3)</span></label><div class='xr-section-inline-details'></div><div class='xr-section-details'><ul class='xr-var-list'><li class='xr-var-item'><div class='xr-var-name'><span>b</span></div><div class='xr-var-dims'>()</div><div class='xr-var-dtype'>float64</div><div class='xr-var-preview xr-preview'>2.125e+03</div><input id='attrs-6b3f67c2-33c7-4582-94d8-3ffb14863edc' class='xr-var-attrs-in' type='checkbox' disabled><label for='attrs-6b3f67c2-33c7-4582-94d8-3ffb14863edc' title='Show/Hide attributes'><svg class='icon xr-icon-file-text2'><use xlink:href='#icon-file-text2'></use></svg></label><input id='data-cf099550-ff30-407a-a980-ff70f6a376fe' class='xr-var-data-in' type='checkbox'><label for='data-cf099550-ff30-407a-a980-ff70f6a376fe' title='Show/Hide data repr'><svg class='icon xr-icon-database'><use xlink:href='#icon-database'></use></svg></label><div class='xr-var-attrs'><dl class='xr-attrs'></dl></div><div class='xr-var-data'><pre>array(2125.08442374)</pre></div></li><li class='xr-var-item'><div class='xr-var-name'><span>a</span></div><div class='xr-var-dims'>()</div><div class='xr-var-dtype'>float64</div><div class='xr-var-preview xr-preview'>2.591e+03</div><input id='attrs-26437059-c85d-4f44-aed5-8cbc82d2bf49' class='xr-var-attrs-in' type='checkbox' disabled><label for='attrs-26437059-c85d-4f44-aed5-8cbc82d2bf49' title='Show/Hide attributes'><svg class='icon xr-icon-file-text2'><use xlink:href='#icon-file-text2'></use></svg></label><input id='data-731d6a22-7cda-412f-92f6-4465ff4aa2e6' class='xr-var-data-in' type='checkbox'><label for='data-731d6a22-7cda-412f-92f6-4465ff4aa2e6' title='Show/Hide data repr'><svg class='icon xr-icon-database'><use xlink:href='#icon-database'></use></svg></label><div class='xr-var-attrs'><dl class='xr-attrs'></dl></div><div class='xr-var-data'><pre>array(2590.64495491)</pre></div></li><li class='xr-var-item'><div class='xr-var-name'><span>s</span></div><div class='xr-var-dims'>()</div><div class='xr-var-dtype'>float64</div><div class='xr-var-preview xr-preview'>2.468e+03</div><input id='attrs-ad226713-b61f-45c1-9f76-31219a09ef29' class='xr-var-attrs-in' type='checkbox' disabled><label for='attrs-ad226713-b61f-45c1-9f76-31219a09ef29' title='Show/Hide attributes'><svg class='icon xr-icon-file-text2'><use xlink:href='#icon-file-text2'></use></svg></label><input id='data-d14de0c6-a3ab-464b-9241-1f9c91d59f16' class='xr-var-data-in' type='checkbox'><label for='data-d14de0c6-a3ab-464b-9241-1f9c91d59f16' title='Show/Hide data repr'><svg class='icon xr-icon-database'><use xlink:href='#icon-database'></use></svg></label><div class='xr-var-attrs'><dl class='xr-attrs'></dl></div><div class='xr-var-data'><pre>array(2467.8518623)</pre></div></li></ul></div></li><li class='xr-section-item'><input id='section-4f5b85d5-5d9f-4e92-b1fb-492f3d561515' class='xr-section-summary-in' type='checkbox' disabled ><label for='section-4f5b85d5-5d9f-4e92-b1fb-492f3d561515' class='xr-section-summary'  title='Expand/collapse section'>Indexes: <span>(0)</span></label><div class='xr-section-inline-details'></div><div class='xr-section-details'><ul class='xr-var-list'></ul></div></li><li class='xr-section-item'><input id='section-ebd7426a-4f29-46d9-ba4a-238239a3ccea' class='xr-section-summary-in' type='checkbox' disabled ><label for='section-ebd7426a-4f29-46d9-ba4a-238239a3ccea' class='xr-section-summary'  title='Expand/collapse section'>Attributes: <span>(0)</span></label><div class='xr-section-inline-details'></div><div class='xr-section-details'><dl class='xr-attrs'></dl></div></li></ul></div></div>"
      ],
      "text/plain": [
       "<xarray.Dataset>\n",
       "Dimensions:  ()\n",
       "Data variables:\n",
       "    b        float64 2.125e+03\n",
       "    a        float64 2.591e+03\n",
       "    s        float64 2.468e+03"
      ]
     },
     "execution_count": 84,
     "metadata": {},
     "output_type": "execute_result"
    }
   ],
   "source": [
    "trace._report.__dict__[\"_ess\"]"
   ]
  },
  {
   "cell_type": "code",
   "execution_count": null,
   "id": "adc11ac0",
   "metadata": {},
   "outputs": [],
   "source": [
    "with pymc3.Model() as model:\n",
    "    # Define the model parameters\n",
    "    b_ = pymc3.Normal('b', mu=0, sd=1)\n",
    "    a_ = pymc3.Normal('a', mu=0, sd=1)\n",
    "    s_ = pymc3.HalfCauchy(\"s\", beta=10)\n",
    "    \n",
    "    # Define the likelihood of the observed data\n",
    "    likelihood = pymc3.Normal(\"likelihood\", mu=a_ * X + b_, sd=s_, observed=Y)\n",
    "    \n",
    "    # Perform inference using the No-U-Turn Sampler (NUTS)\n",
    "    trace = pymc3.sample(1000, tune=500, chains=2, progressbar=True, return_inferencedata=False)"
   ]
  },
  {
   "cell_type": "code",
   "execution_count": 88,
   "id": "6ded9c41",
   "metadata": {},
   "outputs": [
    {
     "data": {
      "text/plain": [
       "Elemwise{add,no_inplace}.0"
      ]
     },
     "execution_count": 88,
     "metadata": {},
     "output_type": "execute_result"
    }
   ],
   "source": [
    "pymc3.invlogit(np.array([0,0,0]))"
   ]
  },
  {
   "cell_type": "code",
   "execution_count": null,
   "id": "2ae2cdc4",
   "metadata": {},
   "outputs": [],
   "source": []
  }
 ],
 "metadata": {
  "kernelspec": {
   "display_name": "midynet_env",
   "language": "python",
   "name": "midynet_env"
  },
  "language_info": {
   "codemirror_mode": {
    "name": "ipython",
    "version": 3
   },
   "file_extension": ".py",
   "mimetype": "text/x-python",
   "name": "python",
   "nbconvert_exporter": "python",
   "pygments_lexer": "ipython3",
   "version": "3.10.6"
  }
 },
 "nbformat": 4,
 "nbformat_minor": 5
}
