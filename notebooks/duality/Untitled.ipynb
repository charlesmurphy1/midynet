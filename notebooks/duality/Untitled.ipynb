{
 "cells": [
  {
   "cell_type": "code",
   "execution_count": 1,
   "id": "7b427e85",
   "metadata": {},
   "outputs": [],
   "source": [
    "import matplotlib.pyplot as plt\n",
    "import numpy as np\n",
    "from scipy.stats import binom\n",
    "from scipy.special import loggamma\n"
   ]
  },
  {
   "cell_type": "code",
   "execution_count": 23,
   "id": "3d820554",
   "metadata": {},
   "outputs": [],
   "source": [
    "N = 10\n",
    "T = 50\n",
    "\n",
    "X = np.random.rand(T, N)\n",
    "Y = X.reshape(T, N, 1)\n",
    "Z = X.reshape(T, 1, N)\n"
   ]
  },
  {
   "cell_type": "code",
   "execution_count": 26,
   "id": "30f48fea",
   "metadata": {},
   "outputs": [],
   "source": [
    "res = []\n",
    "\n",
    "for i in range(T):\n",
    "    res.append(np.dot(Y[i], Z[i]))\n",
    "res = np.array(res)"
   ]
  },
  {
   "cell_type": "code",
   "execution_count": 28,
   "id": "8c3de233",
   "metadata": {},
   "outputs": [
    {
     "data": {
      "text/plain": [
       "(50, 10, 10)"
      ]
     },
     "execution_count": 28,
     "metadata": {},
     "output_type": "execute_result"
    }
   ],
   "source": [
    "res.shape"
   ]
  },
  {
   "cell_type": "code",
   "execution_count": 31,
   "id": "f2f70323",
   "metadata": {},
   "outputs": [
    {
     "data": {
      "text/plain": [
       "True"
      ]
     },
     "execution_count": 31,
     "metadata": {},
     "output_type": "execute_result"
    }
   ],
   "source": [
    "np.all((Y@Z) == res)"
   ]
  },
  {
   "cell_type": "code",
   "execution_count": null,
   "id": "ec8eef58",
   "metadata": {},
   "outputs": [],
   "source": []
  }
 ],
 "metadata": {
  "kernelspec": {
   "display_name": "midynet_kernel",
   "language": "python",
   "name": "midynet_kernel"
  },
  "language_info": {
   "codemirror_mode": {
    "name": "ipython",
    "version": 3
   },
   "file_extension": ".py",
   "mimetype": "text/x-python",
   "name": "python",
   "nbconvert_exporter": "python",
   "pygments_lexer": "ipython3",
   "version": "3.9.4"
  }
 },
 "nbformat": 4,
 "nbformat_minor": 5
}
