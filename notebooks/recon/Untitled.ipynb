{
 "cells": [
  {
   "cell_type": "code",
   "execution_count": 21,
   "id": "ccdef842",
   "metadata": {},
   "outputs": [],
   "source": [
    "import graphinf, midynet\n",
    "import numpy as np, matplotlib.pyplot as plt, seaborn as sns, pandas as pd\n"
   ]
  },
  {
   "cell_type": "code",
   "execution_count": 88,
   "id": "b1169b49",
   "metadata": {},
   "outputs": [
    {
     "name": "stdout",
     "output_type": "stream",
     "text": [
      "55\n"
     ]
    }
   ],
   "source": [
    "N, M = 3, 3\n",
    "erdos = graphinf.random_graph.ErdosRenyiModel(N, M, with_self_loops=True, with_parallel_edges=True)\n",
    "config = graphinf.random_graph.ConfigurationModelFamily(N, M, degree_prior_type=\"uniform\")\n",
    "sbm = graphinf.random_graph.StochasticBlockModelFamily(\n",
    "    N, M, \n",
    "    block_prior_type=\"hyper\", \n",
    "    with_self_loops=True, \n",
    "    with_parallel_edges=True\n",
    ")\n",
    "\n",
    "logp = dict(erdos=[], config=[])\n",
    "\n",
    "for i, g in enumerate(midynet.utility.enumerate_all_graphs(N, M, True, True)):\n",
    "    erdos.set_state(g)\n",
    "    config.set_state(g)\n",
    "    logp[\"erdos\"].append(erdos.get_log_joint())\n",
    "    logp[\"config\"].append(config.get_log_joint())\n",
    "        \n",
    "print(i)\n",
    "logp[\"erdos\"] = np.array(logp[\"erdos\"])\n",
    "logp[\"config\"] = np.array(logp[\"config\"])\n"
   ]
  },
  {
   "cell_type": "code",
   "execution_count": 92,
   "id": "6e7468ab",
   "metadata": {},
   "outputs": [
    {
     "name": "stdout",
     "output_type": "stream",
     "text": [
      "Entropy (erdos): 4.0254\n",
      "Normalization (erdos): 1.0000\n",
      "Cross entropy (erdos, erdos): -4.0254\n",
      "Cross entropy (erdos, config): -4.2395\n",
      "Entropy (config): 4.0254\n",
      "Normalization (config): 1.0000\n",
      "Cross entropy (config, erdos): -4.0254\n",
      "Cross entropy (config, config): -3.8384\n"
     ]
    }
   ],
   "source": [
    "graphs = [\"erdos\", \"config\", \"sbm\"]\n",
    "for key in graphs:\n",
    "    if key not in logp:\n",
    "        continue\n",
    "    print(f\"Entropy ({key}): {-np.sum(logp['erdos'] * np.exp(logp['erdos'])):0.4f}\")\n",
    "    print(f\"Normalization ({key}): {np.sum(np.exp(logp['erdos'])):0.4f}\")\n",
    "    for other in graphs:\n",
    "        if other not in logp:\n",
    "            continue\n",
    "        ce = np.sum(np.exp(logp[key]) * logp[other])\n",
    "        print(f\"Cross entropy ({key}, {other}): {ce:0.4f}\")\n"
   ]
  },
  {
   "cell_type": "code",
   "execution_count": 100,
   "id": "e9d56232",
   "metadata": {},
   "outputs": [
    {
     "ename": "AttributeError",
     "evalue": "`GlauberDynamics` object wrapping `<_graphinf.data.dynamics.GlauberDynamics object at 0x2802611b0>` has no attribute `set_past_states`.",
     "output_type": "error",
     "traceback": [
      "\u001b[0;31m---------------------------------------------------------------------------\u001b[0m",
      "\u001b[0;31mAttributeError\u001b[0m                            Traceback (most recent call last)",
      "Cell \u001b[0;32mIn [100], line 7\u001b[0m\n\u001b[1;32m      5\u001b[0m \u001b[38;5;28;01mfor\u001b[39;00m _ \u001b[38;5;129;01min\u001b[39;00m \u001b[38;5;28mrange\u001b[39m(num_samples):\n\u001b[1;32m      6\u001b[0m     config_glauber\u001b[38;5;241m.\u001b[39msample()\n\u001b[0;32m----> 7\u001b[0m     \u001b[43merdos_glauber\u001b[49m\u001b[38;5;241;43m.\u001b[39;49m\u001b[43mset_past_states\u001b[49m(config_glauber\u001b[38;5;241m.\u001b[39mget_past_states())\n\u001b[1;32m      8\u001b[0m     erdos_glauber\u001b[38;5;241m.\u001b[39mset_future_states(config_glauber\u001b[38;5;241m.\u001b[39mget_future_states())\n\u001b[1;32m      9\u001b[0m     evidence \u001b[38;5;241m=\u001b[39m []\n",
      "File \u001b[0;32m~/miniconda3/envs/midynet-env/lib/python3.10/site-packages/graphinf/wrapper.py:62\u001b[0m, in \u001b[0;36mWrapper.__getattr__\u001b[0;34m(self, key)\u001b[0m\n\u001b[1;32m     60\u001b[0m \u001b[38;5;28;01melif\u001b[39;00m key \u001b[38;5;129;01min\u001b[39;00m \u001b[38;5;28mself\u001b[39m\u001b[38;5;241m.\u001b[39m__others__:\n\u001b[1;32m     61\u001b[0m     \u001b[38;5;28;01mreturn\u001b[39;00m \u001b[38;5;28mself\u001b[39m\u001b[38;5;241m.\u001b[39m__others__[key]\n\u001b[0;32m---> 62\u001b[0m \u001b[38;5;28;01mraise\u001b[39;00m \u001b[38;5;167;01mAttributeError\u001b[39;00m(\n\u001b[1;32m     63\u001b[0m     \u001b[38;5;124mf\u001b[39m\u001b[38;5;124m\"\u001b[39m\u001b[38;5;124m`\u001b[39m\u001b[38;5;132;01m{\u001b[39;00m\u001b[38;5;28mself\u001b[39m\u001b[38;5;241m.\u001b[39m\u001b[38;5;18m__class__\u001b[39m\u001b[38;5;241m.\u001b[39m\u001b[38;5;18m__name__\u001b[39m\u001b[38;5;132;01m}\u001b[39;00m\u001b[38;5;124m` object wrapping `\u001b[39m\u001b[38;5;132;01m{\u001b[39;00m\u001b[38;5;28mself\u001b[39m\u001b[38;5;241m.\u001b[39mwrap\u001b[38;5;132;01m}\u001b[39;00m\u001b[38;5;124m` has no attribute `\u001b[39m\u001b[38;5;132;01m{\u001b[39;00mkey\u001b[38;5;132;01m}\u001b[39;00m\u001b[38;5;124m`.\u001b[39m\u001b[38;5;124m\"\u001b[39m\n\u001b[1;32m     64\u001b[0m )\n",
      "\u001b[0;31mAttributeError\u001b[0m: `GlauberDynamics` object wrapping `<_graphinf.data.dynamics.GlauberDynamics object at 0x2802611b0>` has no attribute `set_past_states`."
     ]
    }
   ],
   "source": [
    "num_samples = 10\n",
    "erdos_glauber = graphinf.data_model.dynamics.GlauberDynamics(graph_prior=erdos, length=10, coupling=1)\n",
    "config_glauber = graphinf.data_model.dynamics.GlauberDynamics(graph_prior=config, length=10, coupling=1)\n",
    "\n",
    "for _ in range(num_samples):\n",
    "    config_glauber.sample()\n",
    "    erdos_glauber.set_past_states(config_glauber.get_past_states())\n",
    "    erdos_glauber.set_future_states(config_glauber.get_future_states())\n",
    "    evidence = []\n",
    "    for g in midynet.utility.enumerate_all_graphs(N, M, allow_self_loops=True, allow_multiedges=True):\n",
    "        erdos_glauber.set_graph(g)\n",
    "        evidence.append(erdos_glauber.get_log_joint())\n",
    "    evidence = midynet.utility.log_sum_exp(evidence)\n",
    "    "
   ]
  },
  {
   "cell_type": "code",
   "execution_count": 103,
   "id": "e78e740c",
   "metadata": {},
   "outputs": [
    {
     "data": {
      "text/plain": [
       "[[1, 0, 0, 1, 1, 0, 0, 1, 0, 1],\n",
       " [1, 1, 0, 0, 1, 1, 0, 0, 0, 0],\n",
       " [1, 1, 0, 1, 0, 0, 0, 1, 1, 0]]"
      ]
     },
     "execution_count": 103,
     "metadata": {},
     "output_type": "execute_result"
    }
   ],
   "source": [
    "erdos_glauber.get_past_states()"
   ]
  },
  {
   "cell_type": "code",
   "execution_count": 63,
   "id": "d9ecab3e",
   "metadata": {},
   "outputs": [
    {
     "data": {
      "text/plain": [
       "<seaborn.axisgrid.FacetGrid at 0x1775da9b0>"
      ]
     },
     "execution_count": 63,
     "metadata": {},
     "output_type": "execute_result"
    },
    {
     "data": {
      "image/png": "[encoded data removed]",
      "text/plain": [
       "<Figure size 592.625x500 with 1 Axes>"
      ]
     },
     "metadata": {},
     "output_type": "display_data"
    }
   ],
   "source": [
    "df = pd.DataFrame(logp)\n",
    "sns.displot(logp)"
   ]
  },
  {
   "cell_type": "code",
   "execution_count": 97,
   "id": "bf910d4b",
   "metadata": {},
   "outputs": [
    {
     "data": {
      "text/plain": [
       "[-24.819767107533494,\n",
       " -23.495383717194045,\n",
       " -23.495383717194045,\n",
       " -24.819767107533494,\n",
       " -13.495383717194049,\n",
       " -24.819767107533494,\n",
       " -31.319822054690796,\n",
       " -26.745411190772685,\n",
       " -23.495383717194045,\n",
       " -12.770402948699097,\n",
       " -23.495383717194045,\n",
       " -31.319822054690803,\n",
       " -23.495383717194045,\n",
       " -12.770402948699097,\n",
       " -23.495383717194045,\n",
       " -24.819767107533494,\n",
       " -13.495383717194049,\n",
       " -24.819767107533494,\n",
       " -11.319822054690794,\n",
       " -13.495383717194049,\n",
       " -24.819767107533494,\n",
       " -41.00633719908941,\n",
       " -35.50088793172035,\n",
       " -31.319822054690796,\n",
       " -19.87424490943599,\n",
       " -31.319822054690796,\n",
       " -35.50088793172035,\n",
       " -26.745411190772685,\n",
       " -16.61983304412225,\n",
       " -26.745411190772685,\n",
       " -23.495383717194045,\n",
       " -12.770402948699097,\n",
       " -23.495383717194045,\n",
       " -9.874244909436001,\n",
       " -12.770402948699097,\n",
       " -23.495383717194045,\n",
       " -41.006337199089415,\n",
       " -31.319822054690803,\n",
       " -19.874244909435994,\n",
       " -31.319822054690803,\n",
       " -23.495383717194045,\n",
       " -12.770402948699097,\n",
       " -23.495383717194045,\n",
       " -9.874244909436001,\n",
       " -12.770402948699097,\n",
       " -23.495383717194045,\n",
       " -24.819767107533494,\n",
       " -13.495383717194049,\n",
       " -24.819767107533494,\n",
       " -11.319822054690794,\n",
       " -13.495383717194049,\n",
       " -24.819767107533494,\n",
       " -11.006337199089208,\n",
       " -11.319822054690794,\n",
       " -13.495383717194049,\n",
       " -24.819767107533494]"
      ]
     },
     "execution_count": 97,
     "metadata": {},
     "output_type": "execute_result"
    }
   ],
   "source": [
    "evidence"
   ]
  },
  {
   "cell_type": "code",
   "execution_count": null,
   "id": "13f85ed9",
   "metadata": {},
   "outputs": [],
   "source": []
  }
 ],
 "metadata": {
  "kernelspec": {
   "display_name": "midynet_env",
   "language": "python",
   "name": "midynet_env"
  },
  "language_info": {
   "codemirror_mode": {
    "name": "ipython",
    "version": 3
   },
   "file_extension": ".py",
   "mimetype": "text/x-python",
   "name": "python",
   "nbconvert_exporter": "python",
   "pygments_lexer": "ipython3",
   "version": "3.10.6"
  }
 },
 "nbformat": 4,
 "nbformat_minor": 5
}
